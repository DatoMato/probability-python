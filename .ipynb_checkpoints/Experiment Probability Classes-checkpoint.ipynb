{
 "cells": [
  {
   "cell_type": "code",
   "execution_count": 1,
   "metadata": {
    "collapsed": true
   },
   "outputs": [],
   "source": [
    "from PExp import *"
   ]
  },
  {
   "cell_type": "code",
   "execution_count": 2,
   "metadata": {
    "collapsed": false
   },
   "outputs": [
    {
     "name": "stdout",
     "output_type": "stream",
     "text": [
      "----------------------------------------------------------------------------------------------------\n",
      "Population: None\n",
      "Alphabet: [('1',), ('2',), ('3',), ('4',), ('5',), ('6',)]\n",
      "Prior_prob: [ 0.16666667  0.16666667  0.16666667  0.16666667  0.16666667  0.16666667]\n",
      "N_outcomes: 6\n",
      "N_trials: 6000\n",
      "Post_prob: [ 0.  0.  0.  0.  0.  0.]\n",
      "Exp_dict:\n",
      "{('1',): {'post_prob': 0.0, 'prior_prob': 0.16666666666666666},\n",
      " ('2',): {'post_prob': 0.0, 'prior_prob': 0.16666666666666666},\n",
      " ('3',): {'post_prob': 0.0, 'prior_prob': 0.16666666666666666},\n",
      " ('4',): {'post_prob': 0.0, 'prior_prob': 0.16666666666666666},\n",
      " ('5',): {'post_prob': 0.0, 'prior_prob': 0.16666666666666666},\n",
      " ('6',): {'post_prob': 0.0, 'prior_prob': 0.16666666666666666}}\n",
      "\n",
      "----------------------------------------------------------------------------------------------------\n",
      "Population: None\n",
      "Alphabet: [('T',), ('C',)]\n",
      "Prior_prob: [ 0.5  0.5]\n",
      "N_outcomes: 2\n",
      "N_trials: 2000\n",
      "Post_prob: [ 0.  0.]\n",
      "Exp_dict:\n",
      "{('C',): {'post_prob': 0.0, 'prior_prob': 0.5},\n",
      " ('T',): {'post_prob': 0.0, 'prior_prob': 0.5}}\n",
      "\n",
      "----------------------------------------------------------------------------------------------------\n",
      "Population: None\n",
      "Alphabet: [('1', 'T'), ('1', 'C'), ('2', 'T'), ('2', 'C'), ('3', 'T'), ('3', 'C'), ('4', 'T'), ('4', 'C'), ('5', 'T'), ('5', 'C'), ('6', 'T'), ('6', 'C')]\n",
      "Prior_prob: [ 0.08333333  0.08333333  0.08333333  0.08333333  0.08333333  0.08333333\n",
      "  0.08333333  0.08333333  0.08333333  0.08333333  0.08333333  0.08333333]\n",
      "N_outcomes: 12\n",
      "N_trials: 12000\n",
      "Post_prob: [ 0.  0.  0.  0.  0.  0.  0.  0.  0.  0.  0.  0.]\n",
      "Exp_dict:\n",
      "{('1', 'C'): {'post_prob': 0.0, 'prior_prob': 0.083333333333333329},\n",
      " ('1', 'T'): {'post_prob': 0.0, 'prior_prob': 0.083333333333333329},\n",
      " ('2', 'C'): {'post_prob': 0.0, 'prior_prob': 0.083333333333333329},\n",
      " ('2', 'T'): {'post_prob': 0.0, 'prior_prob': 0.083333333333333329},\n",
      " ('3', 'C'): {'post_prob': 0.0, 'prior_prob': 0.083333333333333329},\n",
      " ('3', 'T'): {'post_prob': 0.0, 'prior_prob': 0.083333333333333329},\n",
      " ('4', 'C'): {'post_prob': 0.0, 'prior_prob': 0.083333333333333329},\n",
      " ('4', 'T'): {'post_prob': 0.0, 'prior_prob': 0.083333333333333329},\n",
      " ('5', 'C'): {'post_prob': 0.0, 'prior_prob': 0.083333333333333329},\n",
      " ('5', 'T'): {'post_prob': 0.0, 'prior_prob': 0.083333333333333329},\n",
      " ('6', 'C'): {'post_prob': 0.0, 'prior_prob': 0.083333333333333329},\n",
      " ('6', 'T'): {'post_prob': 0.0, 'prior_prob': 0.083333333333333329}}\n",
      "\n",
      "----------------------------------------------------------------------------------------------------\n",
      "Population: None\n",
      "Alphabet: [('1', 'T'), ('1', 'C'), ('2', 'T'), ('2', 'C'), ('3', 'T'), ('3', 'C'), ('4', 'T'), ('4', 'C'), ('5', 'T'), ('5', 'C'), ('6', 'T'), ('6', 'C')]\n",
      "Prior_prob: [ 0.08333333  0.08333333  0.08333333  0.08333333  0.08333333  0.08333333\n",
      "  0.08333333  0.08333333  0.08333333  0.08333333  0.08333333  0.08333333]\n",
      "N_outcomes: 12\n",
      "N_trials: 10000\n",
      "Post_prob: [ 0.085   0.0813  0.0849  0.0799  0.0802  0.0849  0.0846  0.0846  0.0794\n",
      "  0.085   0.0879  0.0823]\n",
      "Exp_dict:\n",
      "{('1', 'C'): {'post_prob': 0.081299999999999997,\n",
      "              'prior_prob': 0.083333333333333329},\n",
      " ('1', 'T'): {'post_prob': 0.085000000000000006,\n",
      "              'prior_prob': 0.083333333333333329},\n",
      " ('2', 'C'): {'post_prob': 0.079900000000000027,\n",
      "              'prior_prob': 0.083333333333333329},\n",
      " ('2', 'T'): {'post_prob': 0.084899999999999975,\n",
      "              'prior_prob': 0.083333333333333329},\n",
      " ('3', 'C'): {'post_prob': 0.084899999999999975,\n",
      "              'prior_prob': 0.083333333333333329},\n",
      " ('3', 'T'): {'post_prob': 0.080199999999999994,\n",
      "              'prior_prob': 0.083333333333333329},\n",
      " ('4', 'C'): {'post_prob': 0.084600000000000009,\n",
      "              'prior_prob': 0.083333333333333329},\n",
      " ('4', 'T'): {'post_prob': 0.084600000000000009,\n",
      "              'prior_prob': 0.083333333333333329},\n",
      " ('5', 'C'): {'post_prob': 0.084999999999999964,\n",
      "              'prior_prob': 0.083333333333333329},\n",
      " ('5', 'T'): {'post_prob': 0.079400000000000026,\n",
      "              'prior_prob': 0.083333333333333329},\n",
      " ('6', 'C'): {'post_prob': 0.08230000000000004,\n",
      "              'prior_prob': 0.083333333333333329},\n",
      " ('6', 'T'): {'post_prob': 0.087899999999999978,\n",
      "              'prior_prob': 0.083333333333333329}}\n",
      "\n"
     ]
    }
   ],
   "source": [
    "exp1 = PExp(6,population=['b','b','a','c','a','b','b','c'],prior_prob=[1,1],n_trials=50000)\n",
    "exp2 = PExp(6,population={'b':4,'c':2,'a':2},prior_prob=[1,1])\n",
    "exp3 = PExp(population=[('a','R'),('a','R'),('b','B'),('b','R')])\n",
    "exp4 = PExp(6,population=[('b',),('b',),('a',),('c',),('a',),('b',),('b',),('c',)],prior_prob=[1,1])\n",
    "exp5 = PExp(prior_prob=[1,2,1])\n",
    "exp6 = PExp(prior_prob=[1,2,1],alphabet=['a','b','c'])\n",
    "exp7 = PExp(prior_prob=[1,2,1],alphabet=[('a','0'),('b','1'),('c','2')])\n",
    "exp8 = PExp(alphabet=['a','b','c'])\n",
    "exp9 = PExp(4)\n",
    "#exp1.info()\n",
    "#exp2.info()\n",
    "#exp3.info()\n",
    "#exp4.info()\n",
    "#exp5.info()\n",
    "#exp6.info()\n",
    "#exp7.info()\n",
    "#exp8.info()\n",
    "#exp9.info()\n",
    "#exp1.info()\n",
    "#exp1.make_exp()\n",
    "#exp1.info()\n",
    "\n",
    "exp1 = PExp(6)\n",
    "exp2 = PExp(alphabet=['T','C'])\n",
    "exp1.info()\n",
    "exp2.info()\n",
    "exp3 = exp1*exp2\n",
    "exp3.info()\n",
    "exp3.make_exp(10000)\n",
    "exp3.info()"
   ]
  },
  {
   "cell_type": "code",
   "execution_count": 3,
   "metadata": {
    "collapsed": false
   },
   "outputs": [
    {
     "name": "stdout",
     "output_type": "stream",
     "text": [
      "----------------------------------------------------------------------------------------------------\n",
      "Population: None\n",
      "Alphabet: [('A', 'C'), ('A', 'Q'), ('A', 'F'), ('A', 'P'), ('2', 'C'), ('2', 'Q'), ('2', 'F'), ('2', 'P'), ('3', 'C'), ('3', 'Q'), ('3', 'F'), ('3', 'P'), ('4', 'C'), ('4', 'Q'), ('4', 'F'), ('4', 'P'), ('5', 'C'), ('5', 'Q'), ('5', 'F'), ('5', 'P'), ('6', 'C'), ('6', 'Q'), ('6', 'F'), ('6', 'P'), ('7', 'C'), ('7', 'Q'), ('7', 'F'), ('7', 'P'), ('8', 'C'), ('8', 'Q'), ('8', 'F'), ('8', 'P'), ('9', 'C'), ('9', 'Q'), ('9', 'F'), ('9', 'P'), ('J', 'C'), ('J', 'Q'), ('J', 'F'), ('J', 'P'), ('Q', 'C'), ('Q', 'Q'), ('Q', 'F'), ('Q', 'P'), ('K', 'C'), ('K', 'Q'), ('K', 'F'), ('K', 'P')]\n",
      "Prior_prob: [ 0.02083333  0.02083333  0.02083333  0.02083333  0.02083333  0.02083333\n",
      "  0.02083333  0.02083333  0.02083333  0.02083333  0.02083333  0.02083333\n",
      "  0.02083333  0.02083333  0.02083333  0.02083333  0.02083333  0.02083333\n",
      "  0.02083333  0.02083333  0.02083333  0.02083333  0.02083333  0.02083333\n",
      "  0.02083333  0.02083333  0.02083333  0.02083333  0.02083333  0.02083333\n",
      "  0.02083333  0.02083333  0.02083333  0.02083333  0.02083333  0.02083333\n",
      "  0.02083333  0.02083333  0.02083333  0.02083333  0.02083333  0.02083333\n",
      "  0.02083333  0.02083333  0.02083333  0.02083333  0.02083333  0.02083333]\n",
      "N_outcomes: 48\n",
      "N_trials: 48000\n",
      "Post_prob: [ 0.  0.  0.  0.  0.  0.  0.  0.  0.  0.  0.  0.  0.  0.  0.  0.  0.  0.\n",
      "  0.  0.  0.  0.  0.  0.  0.  0.  0.  0.  0.  0.  0.  0.  0.  0.  0.  0.\n",
      "  0.  0.  0.  0.  0.  0.  0.  0.  0.  0.  0.  0.]\n",
      "Exp_dict:\n",
      "{('2', 'C'): {'post_prob': 0.0, 'prior_prob': 0.020833333333333336},\n",
      " ('2', 'F'): {'post_prob': 0.0, 'prior_prob': 0.020833333333333336},\n",
      " ('2', 'P'): {'post_prob': 0.0, 'prior_prob': 0.020833333333333336},\n",
      " ('2', 'Q'): {'post_prob': 0.0, 'prior_prob': 0.020833333333333336},\n",
      " ('3', 'C'): {'post_prob': 0.0, 'prior_prob': 0.020833333333333336},\n",
      " ('3', 'F'): {'post_prob': 0.0, 'prior_prob': 0.020833333333333336},\n",
      " ('3', 'P'): {'post_prob': 0.0, 'prior_prob': 0.020833333333333336},\n",
      " ('3', 'Q'): {'post_prob': 0.0, 'prior_prob': 0.020833333333333336},\n",
      " ('4', 'C'): {'post_prob': 0.0, 'prior_prob': 0.020833333333333336},\n",
      " ('4', 'F'): {'post_prob': 0.0, 'prior_prob': 0.020833333333333336},\n",
      " ('4', 'P'): {'post_prob': 0.0, 'prior_prob': 0.020833333333333336},\n",
      " ('4', 'Q'): {'post_prob': 0.0, 'prior_prob': 0.020833333333333336},\n",
      " ('5', 'C'): {'post_prob': 0.0, 'prior_prob': 0.020833333333333336},\n",
      " ('5', 'F'): {'post_prob': 0.0, 'prior_prob': 0.020833333333333336},\n",
      " ('5', 'P'): {'post_prob': 0.0, 'prior_prob': 0.020833333333333336},\n",
      " ('5', 'Q'): {'post_prob': 0.0, 'prior_prob': 0.020833333333333336},\n",
      " ('6', 'C'): {'post_prob': 0.0, 'prior_prob': 0.020833333333333336},\n",
      " ('6', 'F'): {'post_prob': 0.0, 'prior_prob': 0.020833333333333336},\n",
      " ('6', 'P'): {'post_prob': 0.0, 'prior_prob': 0.020833333333333336},\n",
      " ('6', 'Q'): {'post_prob': 0.0, 'prior_prob': 0.020833333333333336},\n",
      " ('7', 'C'): {'post_prob': 0.0, 'prior_prob': 0.020833333333333336},\n",
      " ('7', 'F'): {'post_prob': 0.0, 'prior_prob': 0.020833333333333336},\n",
      " ('7', 'P'): {'post_prob': 0.0, 'prior_prob': 0.020833333333333336},\n",
      " ('7', 'Q'): {'post_prob': 0.0, 'prior_prob': 0.020833333333333336},\n",
      " ('8', 'C'): {'post_prob': 0.0, 'prior_prob': 0.020833333333333336},\n",
      " ('8', 'F'): {'post_prob': 0.0, 'prior_prob': 0.020833333333333336},\n",
      " ('8', 'P'): {'post_prob': 0.0, 'prior_prob': 0.020833333333333336},\n",
      " ('8', 'Q'): {'post_prob': 0.0, 'prior_prob': 0.020833333333333336},\n",
      " ('9', 'C'): {'post_prob': 0.0, 'prior_prob': 0.020833333333333336},\n",
      " ('9', 'F'): {'post_prob': 0.0, 'prior_prob': 0.020833333333333336},\n",
      " ('9', 'P'): {'post_prob': 0.0, 'prior_prob': 0.020833333333333336},\n",
      " ('9', 'Q'): {'post_prob': 0.0, 'prior_prob': 0.020833333333333336},\n",
      " ('A', 'C'): {'post_prob': 0.0, 'prior_prob': 0.020833333333333336},\n",
      " ('A', 'F'): {'post_prob': 0.0, 'prior_prob': 0.020833333333333336},\n",
      " ('A', 'P'): {'post_prob': 0.0, 'prior_prob': 0.020833333333333336},\n",
      " ('A', 'Q'): {'post_prob': 0.0, 'prior_prob': 0.020833333333333336},\n",
      " ('J', 'C'): {'post_prob': 0.0, 'prior_prob': 0.020833333333333336},\n",
      " ('J', 'F'): {'post_prob': 0.0, 'prior_prob': 0.020833333333333336},\n",
      " ('J', 'P'): {'post_prob': 0.0, 'prior_prob': 0.020833333333333336},\n",
      " ('J', 'Q'): {'post_prob': 0.0, 'prior_prob': 0.020833333333333336},\n",
      " ('K', 'C'): {'post_prob': 0.0, 'prior_prob': 0.020833333333333336},\n",
      " ('K', 'F'): {'post_prob': 0.0, 'prior_prob': 0.020833333333333336},\n",
      " ('K', 'P'): {'post_prob': 0.0, 'prior_prob': 0.020833333333333336},\n",
      " ('K', 'Q'): {'post_prob': 0.0, 'prior_prob': 0.020833333333333336},\n",
      " ('Q', 'C'): {'post_prob': 0.0, 'prior_prob': 0.020833333333333336},\n",
      " ('Q', 'F'): {'post_prob': 0.0, 'prior_prob': 0.020833333333333336},\n",
      " ('Q', 'P'): {'post_prob': 0.0, 'prior_prob': 0.020833333333333336},\n",
      " ('Q', 'Q'): {'post_prob': 0.0, 'prior_prob': 0.020833333333333336}}\n",
      "\n"
     ]
    }
   ],
   "source": [
    "exp_carte = PExp(alphabet=['A','2','3','4','5','6','7','8','9','J','Q','K'])\n",
    "exp_semi = PExp(alphabet=['C','Q','F','P'])\n",
    "exp_cartefrancesi = exp_carte * exp_semi\n",
    "exp_cartefrancesi.info()"
   ]
  },
  {
   "cell_type": "code",
   "execution_count": 4,
   "metadata": {
    "collapsed": false
   },
   "outputs": [
    {
     "name": "stdout",
     "output_type": "stream",
     "text": [
      "0.0416666666667\n",
      "[('K', 'C'), ('6', 'F')]: 0.0416666666667\n"
     ]
    },
    {
     "data": {
      "text/plain": [
       "Fraction(1, 24)"
      ]
     },
     "execution_count": 4,
     "metadata": {},
     "output_type": "execute_result"
    }
   ],
   "source": [
    "e1 = Event([('K','C'),('6','F')],exp_cartefrancesi)\n",
    "print(e1.get_prob())\n",
    "print(e1)\n",
    "Fraction(e1.get_prob()).limit_denominator(100)"
   ]
  },
  {
   "cell_type": "code",
   "execution_count": 5,
   "metadata": {
    "collapsed": false
   },
   "outputs": [
    {
     "name": "stdout",
     "output_type": "stream",
     "text": [
      "0.25\n",
      "[('A', 'C'), ('2', 'C'), ('3', 'C'), ('4', 'C'), ('5', 'C'), ('6', 'C'), ('7', 'C'), ('8', 'C'), ('9', 'C'), ('J', 'C'), ('Q', 'C'), ('K', 'C')]: 0.25\n"
     ]
    },
    {
     "data": {
      "text/plain": [
       "Fraction(1, 4)"
      ]
     },
     "execution_count": 5,
     "metadata": {},
     "output_type": "execute_result"
    }
   ],
   "source": [
    "e2 = Event([('*','C')],exp_cartefrancesi)\n",
    "print(e2.get_prob())\n",
    "print(e2)\n",
    "Fraction(e2.get_prob()).limit_denominator(100)"
   ]
  },
  {
   "cell_type": "code",
   "execution_count": 6,
   "metadata": {
    "collapsed": false
   },
   "outputs": [
    {
     "name": "stdout",
     "output_type": "stream",
     "text": [
      "0.0833333333333\n",
      "[('J', 'C'), ('J', 'Q'), ('J', 'F'), ('J', 'P')]: 0.0833333333333\n"
     ]
    },
    {
     "data": {
      "text/plain": [
       "Fraction(1, 12)"
      ]
     },
     "execution_count": 6,
     "metadata": {},
     "output_type": "execute_result"
    }
   ],
   "source": [
    "e3 = Event([('J','*')],exp_cartefrancesi)\n",
    "print(e3.get_prob())\n",
    "print(e3)\n",
    "Fraction(e3.get_prob()).limit_denominator(100)"
   ]
  },
  {
   "cell_type": "code",
   "execution_count": 7,
   "metadata": {
    "collapsed": false
   },
   "outputs": [
    {
     "name": "stdout",
     "output_type": "stream",
     "text": [
      "1.0\n",
      "[('2', 'C'), ('2', 'F'), ('2', 'P'), ('2', 'Q'), ('3', 'C'), ('3', 'F'), ('3', 'P'), ('3', 'Q'), ('4', 'C'), ('4', 'F'), ('4', 'P'), ('4', 'Q'), ('5', 'C'), ('5', 'F'), ('5', 'P'), ('5', 'Q'), ('6', 'C'), ('6', 'F'), ('6', 'P'), ('6', 'Q'), ('7', 'C'), ('7', 'F'), ('7', 'P'), ('7', 'Q'), ('8', 'C'), ('8', 'F'), ('8', 'P'), ('8', 'Q'), ('9', 'C'), ('9', 'F'), ('9', 'P'), ('9', 'Q'), ('A', 'C'), ('A', 'F'), ('A', 'P'), ('A', 'Q'), ('J', 'C'), ('J', 'F'), ('J', 'P'), ('J', 'Q'), ('K', 'C'), ('K', 'F'), ('K', 'P'), ('K', 'Q'), ('Q', 'C'), ('Q', 'F'), ('Q', 'P'), ('Q', 'Q')]: 1.0\n"
     ]
    }
   ],
   "source": [
    "print((-e3).get_prob() + e3.get_prob())\n",
    "print(e3 + (-e3))"
   ]
  },
  {
   "cell_type": "code",
   "execution_count": 8,
   "metadata": {
    "collapsed": false
   },
   "outputs": [
    {
     "data": {
      "text/plain": [
       "[('J', 'C')]: 0.0833333333333"
      ]
     },
     "execution_count": 8,
     "metadata": {},
     "output_type": "execute_result"
    }
   ],
   "source": [
    "e3|e2"
   ]
  },
  {
   "cell_type": "code",
   "execution_count": 9,
   "metadata": {
    "collapsed": false
   },
   "outputs": [
    {
     "data": {
      "text/plain": [
       "Fraction(1, 12)"
      ]
     },
     "execution_count": 9,
     "metadata": {},
     "output_type": "execute_result"
    }
   ],
   "source": [
    "Fraction(0.0833333333333).limit_denominator(100)"
   ]
  },
  {
   "cell_type": "code",
   "execution_count": 10,
   "metadata": {
    "collapsed": false
   },
   "outputs": [
    {
     "name": "stdout",
     "output_type": "stream",
     "text": [
      "----------------------------------------------------------------------------------------------------\n",
      "Population: None\n",
      "Alphabet: [('A', 'C'), ('2', 'C'), ('3', 'C'), ('4', 'C'), ('5', 'C'), ('6', 'C'), ('7', 'C'), ('8', 'C'), ('9', 'C'), ('J', 'C'), ('Q', 'C'), ('K', 'C')]\n",
      "Prior_prob: [ 0.08333333  0.08333333  0.08333333  0.08333333  0.08333333  0.08333333\n",
      "  0.08333333  0.08333333  0.08333333  0.08333333  0.08333333  0.08333333]\n",
      "N_outcomes: 12\n",
      "N_trials: 12000\n",
      "Post_prob: [ 0.  0.  0.  0.  0.  0.  0.  0.  0.  0.  0.  0.]\n",
      "Exp_dict:\n",
      "{('2', 'C'): {'post_prob': 0.0, 'prior_prob': 0.083333333333333329},\n",
      " ('3', 'C'): {'post_prob': 0.0, 'prior_prob': 0.083333333333333329},\n",
      " ('4', 'C'): {'post_prob': 0.0, 'prior_prob': 0.083333333333333329},\n",
      " ('5', 'C'): {'post_prob': 0.0, 'prior_prob': 0.083333333333333329},\n",
      " ('6', 'C'): {'post_prob': 0.0, 'prior_prob': 0.083333333333333329},\n",
      " ('7', 'C'): {'post_prob': 0.0, 'prior_prob': 0.083333333333333329},\n",
      " ('8', 'C'): {'post_prob': 0.0, 'prior_prob': 0.083333333333333329},\n",
      " ('9', 'C'): {'post_prob': 0.0, 'prior_prob': 0.083333333333333329},\n",
      " ('A', 'C'): {'post_prob': 0.0, 'prior_prob': 0.083333333333333329},\n",
      " ('J', 'C'): {'post_prob': 0.0, 'prior_prob': 0.083333333333333329},\n",
      " ('K', 'C'): {'post_prob': 0.0, 'prior_prob': 0.083333333333333329},\n",
      " ('Q', 'C'): {'post_prob': 0.0, 'prior_prob': 0.083333333333333329}}\n",
      "\n",
      "[('J', 'C'), ('J', 'Q'), ('J', 'F'), ('J', 'P')]\n"
     ]
    },
    {
     "data": {
      "text/plain": [
       "[('J', 'C')]"
      ]
     },
     "execution_count": 10,
     "metadata": {},
     "output_type": "execute_result"
    }
   ],
   "source": [
    "exptemp = PExp(alphabet=e2.abc)\n",
    "exptemp.info()\n",
    "evtemp = Event(e3.abc,exptemp)\n",
    "print(e3.abc)\n",
    "evtemp.abc\n",
    "#evtemp.prob"
   ]
  },
  {
   "cell_type": "code",
   "execution_count": null,
   "metadata": {
    "collapsed": false
   },
   "outputs": [],
   "source": []
  },
  {
   "cell_type": "code",
   "execution_count": null,
   "metadata": {
    "collapsed": false
   },
   "outputs": [],
   "source": []
  },
  {
   "cell_type": "code",
   "execution_count": null,
   "metadata": {
    "collapsed": false
   },
   "outputs": [],
   "source": []
  },
  {
   "cell_type": "code",
   "execution_count": null,
   "metadata": {
    "collapsed": true
   },
   "outputs": [],
   "source": []
  }
 ],
 "metadata": {
  "kernelspec": {
   "display_name": "Python [default]",
   "language": "python",
   "name": "python3"
  },
  "language_info": {
   "codemirror_mode": {
    "name": "ipython",
    "version": 3
   },
   "file_extension": ".py",
   "mimetype": "text/x-python",
   "name": "python",
   "nbconvert_exporter": "python",
   "pygments_lexer": "ipython3",
   "version": "3.5.2"
  }
 },
 "nbformat": 4,
 "nbformat_minor": 2
}
