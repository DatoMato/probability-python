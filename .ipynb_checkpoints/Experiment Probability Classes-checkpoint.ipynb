{
 "cells": [
  {
   "cell_type": "code",
   "execution_count": 1,
   "metadata": {
    "collapsed": true
   },
   "outputs": [],
   "source": [
    "from PExp import *"
   ]
  },
  {
   "cell_type": "markdown",
   "metadata": {},
   "source": [
    "## Experiment: 1 die"
   ]
  },
  {
   "cell_type": "code",
   "execution_count": 2,
   "metadata": {},
   "outputs": [
    {
     "name": "stdout",
     "output_type": "stream",
     "text": [
      "----------------------------------------------------------------------------------------------------\n",
      "Population: None\n",
      "Alphabet: [('1',), ('2',), ('3',), ('4',), ('5',), ('6',)]\n",
      "Prior_prob: [ 0.16666667  0.16666667  0.16666667  0.16666667  0.16666667  0.16666667]\n",
      "N_outcomes: 6\n",
      "N_trials: 6000\n",
      "Post_prob: [ 0.  0.  0.  0.  0.  0.]\n",
      "Exp_dict:\n",
      "{('1',): {'post_prob': 0.0, 'prior_prob': 0.16666666666666666},\n",
      " ('2',): {'post_prob': 0.0, 'prior_prob': 0.16666666666666666},\n",
      " ('3',): {'post_prob': 0.0, 'prior_prob': 0.16666666666666666},\n",
      " ('4',): {'post_prob': 0.0, 'prior_prob': 0.16666666666666666},\n",
      " ('5',): {'post_prob': 0.0, 'prior_prob': 0.16666666666666666},\n",
      " ('6',): {'post_prob': 0.0, 'prior_prob': 0.16666666666666666}}\n",
      "\n"
     ]
    }
   ],
   "source": [
    "die = PExp(6)\n",
    "die.info()"
   ]
  },
  {
   "cell_type": "markdown",
   "metadata": {},
   "source": [
    "### Event: even numbers greater than 3 (4,6)"
   ]
  },
  {
   "cell_type": "code",
   "execution_count": 3,
   "metadata": {
    "collapsed": true
   },
   "outputs": [],
   "source": [
    "evEven = Event([('2',),('4',),('6',)],die)\n",
    "evGr3 = Event([('4',),('5',),('6',)],die)\n",
    "evEvenAndGr3 = evEven * evGr3"
   ]
  },
  {
   "cell_type": "code",
   "execution_count": 4,
   "metadata": {
    "scrolled": true
   },
   "outputs": [
    {
     "name": "stdout",
     "output_type": "stream",
     "text": [
      "Probability: 0.333333333333 ( 1/3 )\n"
     ]
    }
   ],
   "source": [
    "print('Probability:',evEvenAndGr3.prob,'(',Fraction(evEvenAndGr3.prob).limit_denominator(100),')')"
   ]
  },
  {
   "cell_type": "markdown",
   "metadata": {},
   "source": [
    "### Event: either even numbers or greater than 3 (2,4,5,6)"
   ]
  },
  {
   "cell_type": "code",
   "execution_count": 5,
   "metadata": {
    "collapsed": true
   },
   "outputs": [],
   "source": [
    "evEvenOrGr3 = evEven + evGr3"
   ]
  },
  {
   "cell_type": "code",
   "execution_count": 6,
   "metadata": {
    "scrolled": true
   },
   "outputs": [
    {
     "name": "stdout",
     "output_type": "stream",
     "text": [
      "Probability: 0.666666666667 ( 2/3 )\n"
     ]
    }
   ],
   "source": [
    "print('Probability:',evEvenOrGr3.prob,'(',Fraction(evEvenOrGr3.prob).limit_denominator(100),')')"
   ]
  },
  {
   "cell_type": "code",
   "execution_count": null,
   "metadata": {
    "collapsed": true
   },
   "outputs": [],
   "source": []
  },
  {
   "cell_type": "markdown",
   "metadata": {},
   "source": [
    "## Experiment: family with 3 sons"
   ]
  },
  {
   "cell_type": "code",
   "execution_count": 7,
   "metadata": {},
   "outputs": [
    {
     "name": "stdout",
     "output_type": "stream",
     "text": [
      "----------------------------------------------------------------------------------------------------\n",
      "Population: None\n",
      "Alphabet: [('M', 'M', 'M'), ('M', 'M', 'F'), ('M', 'F', 'M'), ('M', 'F', 'F'), ('F', 'M', 'M'), ('F', 'M', 'F'), ('F', 'F', 'M'), ('F', 'F', 'F')]\n",
      "Prior_prob: [ 0.125  0.125  0.125  0.125  0.125  0.125  0.125  0.125]\n",
      "N_outcomes: 8\n",
      "N_trials: 8000\n",
      "Post_prob: [ 0.  0.  0.  0.  0.  0.  0.  0.]\n",
      "Exp_dict:\n",
      "{('F', 'F', 'F'): {'post_prob': 0.0, 'prior_prob': 0.125},\n",
      " ('F', 'F', 'M'): {'post_prob': 0.0, 'prior_prob': 0.125},\n",
      " ('F', 'M', 'F'): {'post_prob': 0.0, 'prior_prob': 0.125},\n",
      " ('F', 'M', 'M'): {'post_prob': 0.0, 'prior_prob': 0.125},\n",
      " ('M', 'F', 'F'): {'post_prob': 0.0, 'prior_prob': 0.125},\n",
      " ('M', 'F', 'M'): {'post_prob': 0.0, 'prior_prob': 0.125},\n",
      " ('M', 'M', 'F'): {'post_prob': 0.0, 'prior_prob': 0.125},\n",
      " ('M', 'M', 'M'): {'post_prob': 0.0, 'prior_prob': 0.125}}\n",
      "\n"
     ]
    }
   ],
   "source": [
    "fam1 = PExp(['M','F'])\n",
    "fam2 = PExp(['M','F'])\n",
    "fam3 = PExp(['M','F'])\n",
    "fam = fam1*fam2*fam3\n",
    "fam.info()"
   ]
  },
  {
   "cell_type": "markdown",
   "metadata": {},
   "source": [
    "### Probability of 3M given that there is at least 1M"
   ]
  },
  {
   "cell_type": "code",
   "execution_count": 8,
   "metadata": {
    "collapsed": true
   },
   "outputs": [],
   "source": [
    "ev1M = Event([('M','*','*')],fam)\n",
    "ev2M = Event([('*','M','*')],fam)\n",
    "ev3M = Event([('*','*','M')],fam)\n",
    "evAtLeast1M = ev1M + ev2M + ev3M"
   ]
  },
  {
   "cell_type": "code",
   "execution_count": 9,
   "metadata": {},
   "outputs": [],
   "source": [
    "ev3M = Event([('M','M','M')],fam)\n",
    "ev3MatLeast1M = ev3M|evAtLeast1M"
   ]
  },
  {
   "cell_type": "code",
   "execution_count": 10,
   "metadata": {},
   "outputs": [
    {
     "name": "stdout",
     "output_type": "stream",
     "text": [
      "Probability: 0.142857142857 ( 1/7 )\n"
     ]
    }
   ],
   "source": [
    "print('Probability:',ev3MatLeast1M.prob,'(',Fraction(ev3MatLeast1M.prob).limit_denominator(100),')')"
   ]
  },
  {
   "cell_type": "markdown",
   "metadata": {},
   "source": [
    "## Experiment: cards"
   ]
  },
  {
   "cell_type": "code",
   "execution_count": 11,
   "metadata": {},
   "outputs": [
    {
     "name": "stdout",
     "output_type": "stream",
     "text": [
      "----------------------------------------------------------------------------------------------------\n",
      "Population: None\n",
      "Alphabet: [('A', '♥'), ('A', '♦'), ('A', '♠'), ('A', '♣'), ('2', '♥'), ('2', '♦'), ('2', '♠'), ('2', '♣'), ('3', '♥'), ('3', '♦'), ('3', '♠'), ('3', '♣'), ('4', '♥'), ('4', '♦'), ('4', '♠'), ('4', '♣'), ('5', '♥'), ('5', '♦'), ('5', '♠'), ('5', '♣'), ('6', '♥'), ('6', '♦'), ('6', '♠'), ('6', '♣'), ('7', '♥'), ('7', '♦'), ('7', '♠'), ('7', '♣'), ('8', '♥'), ('8', '♦'), ('8', '♠'), ('8', '♣'), ('9', '♥'), ('9', '♦'), ('9', '♠'), ('9', '♣'), ('J', '♥'), ('J', '♦'), ('J', '♠'), ('J', '♣'), ('Q', '♥'), ('Q', '♦'), ('Q', '♠'), ('Q', '♣'), ('K', '♥'), ('K', '♦'), ('K', '♠'), ('K', '♣')]\n",
      "Prior_prob: [ 0.02083333  0.02083333  0.02083333  0.02083333  0.02083333  0.02083333\n",
      "  0.02083333  0.02083333  0.02083333  0.02083333  0.02083333  0.02083333\n",
      "  0.02083333  0.02083333  0.02083333  0.02083333  0.02083333  0.02083333\n",
      "  0.02083333  0.02083333  0.02083333  0.02083333  0.02083333  0.02083333\n",
      "  0.02083333  0.02083333  0.02083333  0.02083333  0.02083333  0.02083333\n",
      "  0.02083333  0.02083333  0.02083333  0.02083333  0.02083333  0.02083333\n",
      "  0.02083333  0.02083333  0.02083333  0.02083333  0.02083333  0.02083333\n",
      "  0.02083333  0.02083333  0.02083333  0.02083333  0.02083333  0.02083333]\n",
      "N_outcomes: 48\n",
      "N_trials: 48000\n",
      "Post_prob: [ 0.  0.  0.  0.  0.  0.  0.  0.  0.  0.  0.  0.  0.  0.  0.  0.  0.  0.\n",
      "  0.  0.  0.  0.  0.  0.  0.  0.  0.  0.  0.  0.  0.  0.  0.  0.  0.  0.\n",
      "  0.  0.  0.  0.  0.  0.  0.  0.  0.  0.  0.  0.]\n",
      "Exp_dict:\n",
      "{('2', '♠'): {'post_prob': 0.0, 'prior_prob': 0.020833333333333336},\n",
      " ('2', '♣'): {'post_prob': 0.0, 'prior_prob': 0.020833333333333336},\n",
      " ('2', '♥'): {'post_prob': 0.0, 'prior_prob': 0.020833333333333336},\n",
      " ('2', '♦'): {'post_prob': 0.0, 'prior_prob': 0.020833333333333336},\n",
      " ('3', '♠'): {'post_prob': 0.0, 'prior_prob': 0.020833333333333336},\n",
      " ('3', '♣'): {'post_prob': 0.0, 'prior_prob': 0.020833333333333336},\n",
      " ('3', '♥'): {'post_prob': 0.0, 'prior_prob': 0.020833333333333336},\n",
      " ('3', '♦'): {'post_prob': 0.0, 'prior_prob': 0.020833333333333336},\n",
      " ('4', '♠'): {'post_prob': 0.0, 'prior_prob': 0.020833333333333336},\n",
      " ('4', '♣'): {'post_prob': 0.0, 'prior_prob': 0.020833333333333336},\n",
      " ('4', '♥'): {'post_prob': 0.0, 'prior_prob': 0.020833333333333336},\n",
      " ('4', '♦'): {'post_prob': 0.0, 'prior_prob': 0.020833333333333336},\n",
      " ('5', '♠'): {'post_prob': 0.0, 'prior_prob': 0.020833333333333336},\n",
      " ('5', '♣'): {'post_prob': 0.0, 'prior_prob': 0.020833333333333336},\n",
      " ('5', '♥'): {'post_prob': 0.0, 'prior_prob': 0.020833333333333336},\n",
      " ('5', '♦'): {'post_prob': 0.0, 'prior_prob': 0.020833333333333336},\n",
      " ('6', '♠'): {'post_prob': 0.0, 'prior_prob': 0.020833333333333336},\n",
      " ('6', '♣'): {'post_prob': 0.0, 'prior_prob': 0.020833333333333336},\n",
      " ('6', '♥'): {'post_prob': 0.0, 'prior_prob': 0.020833333333333336},\n",
      " ('6', '♦'): {'post_prob': 0.0, 'prior_prob': 0.020833333333333336},\n",
      " ('7', '♠'): {'post_prob': 0.0, 'prior_prob': 0.020833333333333336},\n",
      " ('7', '♣'): {'post_prob': 0.0, 'prior_prob': 0.020833333333333336},\n",
      " ('7', '♥'): {'post_prob': 0.0, 'prior_prob': 0.020833333333333336},\n",
      " ('7', '♦'): {'post_prob': 0.0, 'prior_prob': 0.020833333333333336},\n",
      " ('8', '♠'): {'post_prob': 0.0, 'prior_prob': 0.020833333333333336},\n",
      " ('8', '♣'): {'post_prob': 0.0, 'prior_prob': 0.020833333333333336},\n",
      " ('8', '♥'): {'post_prob': 0.0, 'prior_prob': 0.020833333333333336},\n",
      " ('8', '♦'): {'post_prob': 0.0, 'prior_prob': 0.020833333333333336},\n",
      " ('9', '♠'): {'post_prob': 0.0, 'prior_prob': 0.020833333333333336},\n",
      " ('9', '♣'): {'post_prob': 0.0, 'prior_prob': 0.020833333333333336},\n",
      " ('9', '♥'): {'post_prob': 0.0, 'prior_prob': 0.020833333333333336},\n",
      " ('9', '♦'): {'post_prob': 0.0, 'prior_prob': 0.020833333333333336},\n",
      " ('A', '♠'): {'post_prob': 0.0, 'prior_prob': 0.020833333333333336},\n",
      " ('A', '♣'): {'post_prob': 0.0, 'prior_prob': 0.020833333333333336},\n",
      " ('A', '♥'): {'post_prob': 0.0, 'prior_prob': 0.020833333333333336},\n",
      " ('A', '♦'): {'post_prob': 0.0, 'prior_prob': 0.020833333333333336},\n",
      " ('J', '♠'): {'post_prob': 0.0, 'prior_prob': 0.020833333333333336},\n",
      " ('J', '♣'): {'post_prob': 0.0, 'prior_prob': 0.020833333333333336},\n",
      " ('J', '♥'): {'post_prob': 0.0, 'prior_prob': 0.020833333333333336},\n",
      " ('J', '♦'): {'post_prob': 0.0, 'prior_prob': 0.020833333333333336},\n",
      " ('K', '♠'): {'post_prob': 0.0, 'prior_prob': 0.020833333333333336},\n",
      " ('K', '♣'): {'post_prob': 0.0, 'prior_prob': 0.020833333333333336},\n",
      " ('K', '♥'): {'post_prob': 0.0, 'prior_prob': 0.020833333333333336},\n",
      " ('K', '♦'): {'post_prob': 0.0, 'prior_prob': 0.020833333333333336},\n",
      " ('Q', '♠'): {'post_prob': 0.0, 'prior_prob': 0.020833333333333336},\n",
      " ('Q', '♣'): {'post_prob': 0.0, 'prior_prob': 0.020833333333333336},\n",
      " ('Q', '♥'): {'post_prob': 0.0, 'prior_prob': 0.020833333333333336},\n",
      " ('Q', '♦'): {'post_prob': 0.0, 'prior_prob': 0.020833333333333336}}\n",
      "\n"
     ]
    }
   ],
   "source": [
    "exp_cards = PExp(alphabet=['A','2','3','4','5','6','7','8','9','J','Q','K'])\n",
    "exp_suits = PExp(alphabet=['♥','♦','♠','♣'])\n",
    "exp_deck = exp_cards * exp_suits\n",
    "exp_deck.info()"
   ]
  },
  {
   "cell_type": "markdown",
   "metadata": {},
   "source": [
    "### Event 1: Heart"
   ]
  },
  {
   "cell_type": "code",
   "execution_count": 12,
   "metadata": {},
   "outputs": [
    {
     "name": "stdout",
     "output_type": "stream",
     "text": [
      "[('A', '♥'), ('2', '♥'), ('3', '♥'), ('4', '♥'), ('5', '♥'), ('6', '♥'), ('7', '♥'), ('8', '♥'), ('9', '♥'), ('J', '♥'), ('Q', '♥'), ('K', '♥')]: 0.25\n",
      "Probability: 0.25 ( 1/4 )\n"
     ]
    }
   ],
   "source": [
    "e1 = Event([('*','♥')],exp_deck)\n",
    "print(e1)\n",
    "print('Probability:',e1.prob,'(',Fraction(e1.prob).limit_denominator(100),')')"
   ]
  },
  {
   "cell_type": "markdown",
   "metadata": {},
   "source": [
    "### Event 2: Jack"
   ]
  },
  {
   "cell_type": "code",
   "execution_count": 13,
   "metadata": {},
   "outputs": [
    {
     "name": "stdout",
     "output_type": "stream",
     "text": [
      "[('J', '♥'), ('J', '♦'), ('J', '♠'), ('J', '♣')]: 0.0833333333333\n",
      "Probability: 0.0833333333333 ( 1/12 )\n"
     ]
    }
   ],
   "source": [
    "e2 = Event([('J','*')],exp_deck)\n",
    "print(e2)\n",
    "print('Probability:',e2.prob,'(',Fraction(e2.prob).limit_denominator(100),')')"
   ]
  },
  {
   "cell_type": "markdown",
   "metadata": {},
   "source": [
    "### Event 3: Jack given that a Heart card is withdrawed"
   ]
  },
  {
   "cell_type": "code",
   "execution_count": 14,
   "metadata": {},
   "outputs": [
    {
     "name": "stdout",
     "output_type": "stream",
     "text": [
      "[('J', '♥')]: 0.0833333333333\n",
      "Probability: 0.0833333333333 ( 1/12 )\n"
     ]
    }
   ],
   "source": [
    "e3 = e2|e1\n",
    "print(e3)\n",
    "print('Probability:',e3.prob,'(',Fraction(e3.prob).limit_denominator(100),')')"
   ]
  },
  {
   "cell_type": "markdown",
   "metadata": {},
   "source": [
    "### Event 4: Heart given that a Jack is withdrawed"
   ]
  },
  {
   "cell_type": "code",
   "execution_count": 15,
   "metadata": {},
   "outputs": [
    {
     "name": "stdout",
     "output_type": "stream",
     "text": [
      "[('J', '♥')]: 0.25\n",
      "Probability: 0.25 ( 1/4 )\n"
     ]
    }
   ],
   "source": [
    "e4 = e1|e2\n",
    "print(e4)\n",
    "print('Probability:',e4.prob,'(',Fraction(e4.prob).limit_denominator(100),')')"
   ]
  },
  {
   "cell_type": "code",
   "execution_count": null,
   "metadata": {},
   "outputs": [],
   "source": []
  },
  {
   "cell_type": "code",
   "execution_count": null,
   "metadata": {},
   "outputs": [],
   "source": []
  },
  {
   "cell_type": "code",
   "execution_count": null,
   "metadata": {},
   "outputs": [],
   "source": []
  },
  {
   "cell_type": "code",
   "execution_count": null,
   "metadata": {
    "collapsed": true
   },
   "outputs": [],
   "source": []
  }
 ],
 "metadata": {
  "kernelspec": {
   "display_name": "Python 3",
   "language": "python",
   "name": "python3"
  },
  "language_info": {
   "codemirror_mode": {
    "name": "ipython",
    "version": 3
   },
   "file_extension": ".py",
   "mimetype": "text/x-python",
   "name": "python",
   "nbconvert_exporter": "python",
   "pygments_lexer": "ipython3",
   "version": "3.6.3"
  }
 },
 "nbformat": 4,
 "nbformat_minor": 2
}
