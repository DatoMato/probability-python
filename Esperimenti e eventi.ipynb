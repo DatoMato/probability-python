{
 "cells": [
  {
   "cell_type": "code",
   "execution_count": 1,
   "metadata": {
    "collapsed": true
   },
   "outputs": [],
   "source": [
    "from PExp import *"
   ]
  },
  {
   "cell_type": "markdown",
   "metadata": {},
   "source": [
    "## Esperimento: 1 dado"
   ]
  },
  {
   "cell_type": "code",
   "execution_count": 2,
   "metadata": {
    "collapsed": false,
    "scrolled": true
   },
   "outputs": [
    {
     "name": "stdout",
     "output_type": "stream",
     "text": [
      "----------------------------------------------------------------------------------------------------\n",
      "Population: {('4',): 1, ('6',): 1, ('1',): 1, ('2',): 1, ('5',): 1, ('3',): 1}\n",
      "Alphabet: [('1',), ('2',), ('3',), ('4',), ('5',), ('6',)]\n",
      "Prior_prob: [ 0.16666667  0.16666667  0.16666667  0.16666667  0.16666667  0.16666667]\n",
      "Prior_prob_frac[1]: 1/6\n",
      "Prior_prob_frac[2]: 1/6\n",
      "Prior_prob_frac[3]: 1/6\n",
      "Prior_prob_frac[4]: 1/6\n",
      "Prior_prob_frac[5]: 1/6\n",
      "Prior_prob_frac[6]: 1/6\n",
      "N_outcomes: 6\n",
      "N_trials: None\n",
      "Post_prob: [ 0.  0.  0.  0.  0.  0.]\n",
      "Recursive exp: False\n",
      "Exp_dict:\n",
      "{('1',): {'post_prob': 0.0,\n",
      "          'prior_prob': 0.16666666666666666,\n",
      "          'prior_prob_frac': Fraction(1, 6)},\n",
      " ('2',): {'post_prob': 0.0,\n",
      "          'prior_prob': 0.16666666666666666,\n",
      "          'prior_prob_frac': Fraction(1, 6)},\n",
      " ('3',): {'post_prob': 0.0,\n",
      "          'prior_prob': 0.16666666666666666,\n",
      "          'prior_prob_frac': Fraction(1, 6)},\n",
      " ('4',): {'post_prob': 0.0,\n",
      "          'prior_prob': 0.16666666666666666,\n",
      "          'prior_prob_frac': Fraction(1, 6)},\n",
      " ('5',): {'post_prob': 0.0,\n",
      "          'prior_prob': 0.16666666666666666,\n",
      "          'prior_prob_frac': Fraction(1, 6)},\n",
      " ('6',): {'post_prob': 0.0,\n",
      "          'prior_prob': 0.16666666666666666,\n",
      "          'prior_prob_frac': Fraction(1, 6)}}\n",
      "\n"
     ]
    }
   ],
   "source": [
    "dado = PExp(6)\n",
    "dado.info()"
   ]
  },
  {
   "cell_type": "markdown",
   "metadata": {},
   "source": [
    "### Evento: valori pari maggiori di 3 {4,6} e valori pari maggiori di 4 {6}"
   ]
  },
  {
   "cell_type": "code",
   "execution_count": 3,
   "metadata": {
    "collapsed": true
   },
   "outputs": [],
   "source": [
    "evPari = Event([2,4,6],dado)\n",
    "evMag3 = Event([4,5,6],dado)\n",
    "evMag4 = Event([5,6],dado)\n",
    "evPariAndMag3 = evPari * evMag3\n",
    "evPariAndMag4 = evPari * evMag4"
   ]
  },
  {
   "cell_type": "code",
   "execution_count": 4,
   "metadata": {
    "collapsed": false
   },
   "outputs": [
    {
     "data": {
      "text/plain": [
       "[('1',), ('2',), ('3',), ('4',), ('5',), ('6',)]"
      ]
     },
     "execution_count": 4,
     "metadata": {},
     "output_type": "execute_result"
    }
   ],
   "source": [
    "evPari.exp.alphabet"
   ]
  },
  {
   "cell_type": "code",
   "execution_count": 5,
   "metadata": {
    "collapsed": false
   },
   "outputs": [
    {
     "data": {
      "text/plain": [
       "[('2',), ('4',), ('6',)]"
      ]
     },
     "execution_count": 5,
     "metadata": {},
     "output_type": "execute_result"
    }
   ],
   "source": [
    "evPari.abc"
   ]
  },
  {
   "cell_type": "code",
   "execution_count": 6,
   "metadata": {
    "collapsed": false,
    "scrolled": true
   },
   "outputs": [
    {
     "name": "stdout",
     "output_type": "stream",
     "text": [
      "Probability: 0.333333333333 ( 1/3 )\n",
      "Probability: 0.166666666667 ( 1/6 )\n"
     ]
    }
   ],
   "source": [
    "evPariAndMag3.print_prob()\n",
    "evPariAndMag4.print_prob()"
   ]
  },
  {
   "cell_type": "code",
   "execution_count": 7,
   "metadata": {
    "collapsed": false
   },
   "outputs": [
    {
     "name": "stdout",
     "output_type": "stream",
     "text": [
      "False\n",
      "True\n"
     ]
    }
   ],
   "source": [
    "print(evPari.is_independent(evMag3))\n",
    "print(evPari.is_independent(evMag4))"
   ]
  },
  {
   "cell_type": "markdown",
   "metadata": {},
   "source": [
    "### Evento: valori pari oppure maggiori 3 {2,4,5,6}"
   ]
  },
  {
   "cell_type": "code",
   "execution_count": 8,
   "metadata": {
    "collapsed": true
   },
   "outputs": [],
   "source": [
    "evPariOrMag3 = evPari + evMag3"
   ]
  },
  {
   "cell_type": "code",
   "execution_count": 9,
   "metadata": {
    "collapsed": false,
    "scrolled": true
   },
   "outputs": [
    {
     "name": "stdout",
     "output_type": "stream",
     "text": [
      "Probability: 0.666666666667 ( 2/3 )\n"
     ]
    }
   ],
   "source": [
    "evPariOrMag3.print_prob()"
   ]
  },
  {
   "cell_type": "code",
   "execution_count": null,
   "metadata": {
    "collapsed": true
   },
   "outputs": [],
   "source": []
  },
  {
   "cell_type": "markdown",
   "metadata": {},
   "source": [
    "## Esperimento: familglie con 3 figli"
   ]
  },
  {
   "cell_type": "code",
   "execution_count": 10,
   "metadata": {
    "collapsed": false,
    "scrolled": true
   },
   "outputs": [
    {
     "name": "stdout",
     "output_type": "stream",
     "text": [
      "----------------------------------------------------------------------------------------------------\n",
      "Population: {('F', 'F', 'F'): 1, ('F', 'F', 'M'): 1, ('F', 'M', 'M'): 1, ('M', 'M', 'M'): 1, ('F', 'M', 'F'): 1, ('M', 'M', 'F'): 1, ('M', 'F', 'F'): 1, ('M', 'F', 'M'): 1}\n",
      "Alphabet: [('M', 'M', 'M'), ('M', 'M', 'F'), ('M', 'F', 'M'), ('M', 'F', 'F'), ('F', 'M', 'M'), ('F', 'M', 'F'), ('F', 'F', 'M'), ('F', 'F', 'F')]\n",
      "Prior_prob: [ 0.125  0.125  0.125  0.125  0.125  0.125  0.125  0.125]\n",
      "Prior_prob_frac[1]: 1/8\n",
      "Prior_prob_frac[2]: 1/8\n",
      "Prior_prob_frac[3]: 1/8\n",
      "Prior_prob_frac[4]: 1/8\n",
      "Prior_prob_frac[5]: 1/8\n",
      "Prior_prob_frac[6]: 1/8\n",
      "Prior_prob_frac[7]: 1/8\n",
      "Prior_prob_frac[8]: 1/8\n",
      "N_outcomes: 8\n",
      "N_trials: None\n",
      "Post_prob: [ 0.  0.  0.  0.  0.  0.  0.  0.]\n",
      "Recursive exp: False\n",
      "Exp_dict:\n",
      "{('F', 'F', 'F'): {'post_prob': 0.0,\n",
      "                   'prior_prob': 0.125,\n",
      "                   'prior_prob_frac': Fraction(1, 8)},\n",
      " ('F', 'F', 'M'): {'post_prob': 0.0,\n",
      "                   'prior_prob': 0.125,\n",
      "                   'prior_prob_frac': Fraction(1, 8)},\n",
      " ('F', 'M', 'F'): {'post_prob': 0.0,\n",
      "                   'prior_prob': 0.125,\n",
      "                   'prior_prob_frac': Fraction(1, 8)},\n",
      " ('F', 'M', 'M'): {'post_prob': 0.0,\n",
      "                   'prior_prob': 0.125,\n",
      "                   'prior_prob_frac': Fraction(1, 8)},\n",
      " ('M', 'F', 'F'): {'post_prob': 0.0,\n",
      "                   'prior_prob': 0.125,\n",
      "                   'prior_prob_frac': Fraction(1, 8)},\n",
      " ('M', 'F', 'M'): {'post_prob': 0.0,\n",
      "                   'prior_prob': 0.125,\n",
      "                   'prior_prob_frac': Fraction(1, 8)},\n",
      " ('M', 'M', 'F'): {'post_prob': 0.0,\n",
      "                   'prior_prob': 0.125,\n",
      "                   'prior_prob_frac': Fraction(1, 8)},\n",
      " ('M', 'M', 'M'): {'post_prob': 0.0,\n",
      "                   'prior_prob': 0.125,\n",
      "                   'prior_prob_frac': Fraction(1, 8)}}\n",
      "\n"
     ]
    }
   ],
   "source": [
    "fam1 = PExp(['M','F'])\n",
    "fam2 = PExp(['M','F'])\n",
    "fam3 = PExp(['M','F'])\n",
    "fam = fam1*fam2*fam3\n",
    "fam.info()"
   ]
  },
  {
   "cell_type": "markdown",
   "metadata": {},
   "source": [
    "### Probabilità di 3M sapendo che il primo figlio è M"
   ]
  },
  {
   "cell_type": "code",
   "execution_count": 11,
   "metadata": {
    "collapsed": false
   },
   "outputs": [
    {
     "name": "stdout",
     "output_type": "stream",
     "text": [
      "Probability: 0.25 ( 1/4 )\n"
     ]
    }
   ],
   "source": [
    "evM1 = Event([('M','*','*')],fam)\n",
    "ev3M = Event([('M','M','M')],fam)\n",
    "ev3MprimoM = ev3M|evM1\n",
    "ev3MprimoM.print_prob()"
   ]
  },
  {
   "cell_type": "code",
   "execution_count": 12,
   "metadata": {
    "collapsed": false
   },
   "outputs": [
    {
     "data": {
      "text/plain": [
       "False"
      ]
     },
     "execution_count": 12,
     "metadata": {},
     "output_type": "execute_result"
    }
   ],
   "source": [
    "ev3MprimoM.is_independent(ev3M)"
   ]
  },
  {
   "cell_type": "markdown",
   "metadata": {},
   "source": [
    "### Probabilità di 3M sapendo che c'è almeno un M"
   ]
  },
  {
   "cell_type": "code",
   "execution_count": 13,
   "metadata": {
    "collapsed": true
   },
   "outputs": [],
   "source": [
    "ev1M = Event([('M','*','*')],fam)\n",
    "ev2M = Event([('*','M','*')],fam)\n",
    "ev3M = Event([('*','*','M')],fam)\n",
    "evAlmeno1M = ev1M + ev2M + ev3M"
   ]
  },
  {
   "cell_type": "code",
   "execution_count": 14,
   "metadata": {
    "collapsed": false
   },
   "outputs": [],
   "source": [
    "ev3M = Event([('M','M','M')],fam)\n",
    "ev3MAlmeno1M = ev3M|evAlmeno1M"
   ]
  },
  {
   "cell_type": "code",
   "execution_count": 15,
   "metadata": {
    "collapsed": false
   },
   "outputs": [
    {
     "name": "stdout",
     "output_type": "stream",
     "text": [
      "Probability: 0.142857142857 ( 1/7 )\n"
     ]
    }
   ],
   "source": [
    "ev3MAlmeno1M.print_prob()"
   ]
  },
  {
   "cell_type": "code",
   "execution_count": 16,
   "metadata": {
    "collapsed": false
   },
   "outputs": [
    {
     "data": {
      "text/plain": [
       "False"
      ]
     },
     "execution_count": 16,
     "metadata": {},
     "output_type": "execute_result"
    }
   ],
   "source": [
    "ev3MAlmeno1M.is_independent(ev3M)"
   ]
  },
  {
   "cell_type": "code",
   "execution_count": null,
   "metadata": {
    "collapsed": true
   },
   "outputs": [],
   "source": []
  },
  {
   "cell_type": "markdown",
   "metadata": {},
   "source": [
    "## Esperimento: 1 carta estratta da un mazzo di carte francesi"
   ]
  },
  {
   "cell_type": "code",
   "execution_count": 17,
   "metadata": {
    "collapsed": false
   },
   "outputs": [
    {
     "name": "stdout",
     "output_type": "stream",
     "text": [
      "----------------------------------------------------------------------------------------------------\n",
      "Population: {('7', '♠'): 1, ('Q', '♠'): 1, ('9', '♦'): 1, ('J', '♥'): 1, ('6', '♦'): 1, ('K', '♣'): 1, ('K', '♠'): 1, ('3', '♥'): 1, ('5', '♣'): 1, ('J', '♠'): 1, ('J', '♦'): 1, ('5', '♠'): 1, ('A', '♣'): 1, ('2', '♣'): 1, ('3', '♠'): 1, ('J', '♣'): 1, ('A', '♦'): 1, ('2', '♦'): 1, ('3', '♦'): 1, ('10', '♥'): 1, ('4', '♥'): 1, ('7', '♦'): 1, ('2', '♠'): 1, ('K', '♥'): 1, ('3', '♣'): 1, ('Q', '♦'): 1, ('Q', '♣'): 1, ('7', '♥'): 1, ('5', '♥'): 1, ('6', '♥'): 1, ('A', '♠'): 1, ('8', '♥'): 1, ('A', '♥'): 1, ('10', '♠'): 1, ('9', '♣'): 1, ('10', '♦'): 1, ('2', '♥'): 1, ('6', '♠'): 1, ('9', '♥'): 1, ('10', '♣'): 1, ('4', '♣'): 1, ('6', '♣'): 1, ('5', '♦'): 1, ('8', '♦'): 1, ('Q', '♥'): 1, ('7', '♣'): 1, ('K', '♦'): 1, ('4', '♦'): 1, ('8', '♣'): 1, ('9', '♠'): 1, ('8', '♠'): 1, ('4', '♠'): 1}\n",
      "Alphabet: [('A', '♥'), ('A', '♦'), ('A', '♠'), ('A', '♣'), ('2', '♥'), ('2', '♦'), ('2', '♠'), ('2', '♣'), ('3', '♥'), ('3', '♦'), ('3', '♠'), ('3', '♣'), ('4', '♥'), ('4', '♦'), ('4', '♠'), ('4', '♣'), ('5', '♥'), ('5', '♦'), ('5', '♠'), ('5', '♣'), ('6', '♥'), ('6', '♦'), ('6', '♠'), ('6', '♣'), ('7', '♥'), ('7', '♦'), ('7', '♠'), ('7', '♣'), ('8', '♥'), ('8', '♦'), ('8', '♠'), ('8', '♣'), ('9', '♥'), ('9', '♦'), ('9', '♠'), ('9', '♣'), ('10', '♥'), ('10', '♦'), ('10', '♠'), ('10', '♣'), ('J', '♥'), ('J', '♦'), ('J', '♠'), ('J', '♣'), ('Q', '♥'), ('Q', '♦'), ('Q', '♠'), ('Q', '♣'), ('K', '♥'), ('K', '♦'), ('K', '♠'), ('K', '♣')]\n",
      "Prior_prob: [ 0.01923077  0.01923077  0.01923077  0.01923077  0.01923077  0.01923077\n",
      "  0.01923077  0.01923077  0.01923077  0.01923077  0.01923077  0.01923077\n",
      "  0.01923077  0.01923077  0.01923077  0.01923077  0.01923077  0.01923077\n",
      "  0.01923077  0.01923077  0.01923077  0.01923077  0.01923077  0.01923077\n",
      "  0.01923077  0.01923077  0.01923077  0.01923077  0.01923077  0.01923077\n",
      "  0.01923077  0.01923077  0.01923077  0.01923077  0.01923077  0.01923077\n",
      "  0.01923077  0.01923077  0.01923077  0.01923077  0.01923077  0.01923077\n",
      "  0.01923077  0.01923077  0.01923077  0.01923077  0.01923077  0.01923077\n",
      "  0.01923077  0.01923077  0.01923077  0.01923077]\n",
      "Prior_prob_frac[1]: 1/52\n",
      "Prior_prob_frac[2]: 1/52\n",
      "Prior_prob_frac[3]: 1/52\n",
      "Prior_prob_frac[4]: 1/52\n",
      "Prior_prob_frac[5]: 1/52\n",
      "Prior_prob_frac[6]: 1/52\n",
      "Prior_prob_frac[7]: 1/52\n",
      "Prior_prob_frac[8]: 1/52\n",
      "Prior_prob_frac[9]: 1/52\n",
      "Prior_prob_frac[10]: 1/52\n",
      "Prior_prob_frac[11]: 1/52\n",
      "Prior_prob_frac[12]: 1/52\n",
      "Prior_prob_frac[13]: 1/52\n",
      "Prior_prob_frac[14]: 1/52\n",
      "Prior_prob_frac[15]: 1/52\n",
      "Prior_prob_frac[16]: 1/52\n",
      "Prior_prob_frac[17]: 1/52\n",
      "Prior_prob_frac[18]: 1/52\n",
      "Prior_prob_frac[19]: 1/52\n",
      "Prior_prob_frac[20]: 1/52\n",
      "Prior_prob_frac[21]: 1/52\n",
      "Prior_prob_frac[22]: 1/52\n",
      "Prior_prob_frac[23]: 1/52\n",
      "Prior_prob_frac[24]: 1/52\n",
      "Prior_prob_frac[25]: 1/52\n",
      "Prior_prob_frac[26]: 1/52\n",
      "Prior_prob_frac[27]: 1/52\n",
      "Prior_prob_frac[28]: 1/52\n",
      "Prior_prob_frac[29]: 1/52\n",
      "Prior_prob_frac[30]: 1/52\n",
      "Prior_prob_frac[31]: 1/52\n",
      "Prior_prob_frac[32]: 1/52\n",
      "Prior_prob_frac[33]: 1/52\n",
      "Prior_prob_frac[34]: 1/52\n",
      "Prior_prob_frac[35]: 1/52\n",
      "Prior_prob_frac[36]: 1/52\n",
      "Prior_prob_frac[37]: 1/52\n",
      "Prior_prob_frac[38]: 1/52\n",
      "Prior_prob_frac[39]: 1/52\n",
      "Prior_prob_frac[40]: 1/52\n",
      "Prior_prob_frac[41]: 1/52\n",
      "Prior_prob_frac[42]: 1/52\n",
      "Prior_prob_frac[43]: 1/52\n",
      "Prior_prob_frac[44]: 1/52\n",
      "Prior_prob_frac[45]: 1/52\n",
      "Prior_prob_frac[46]: 1/52\n",
      "Prior_prob_frac[47]: 1/52\n",
      "Prior_prob_frac[48]: 1/52\n",
      "Prior_prob_frac[49]: 1/52\n",
      "Prior_prob_frac[50]: 1/52\n",
      "Prior_prob_frac[51]: 1/52\n",
      "Prior_prob_frac[52]: 1/52\n",
      "N_outcomes: 52\n",
      "N_trials: None\n",
      "Post_prob: [ 0.  0.  0.  0.  0.  0.  0.  0.  0.  0.  0.  0.  0.  0.  0.  0.  0.  0.\n",
      "  0.  0.  0.  0.  0.  0.  0.  0.  0.  0.  0.  0.  0.  0.  0.  0.  0.  0.\n",
      "  0.  0.  0.  0.  0.  0.  0.  0.  0.  0.  0.  0.  0.  0.  0.  0.]\n",
      "Recursive exp: False\n",
      "Exp_dict:\n",
      "{('10', '♠'): {'post_prob': 0.0,\n",
      "               'prior_prob': 0.019230769230769228,\n",
      "               'prior_prob_frac': Fraction(1, 52)},\n",
      " ('10', '♣'): {'post_prob': 0.0,\n",
      "               'prior_prob': 0.019230769230769228,\n",
      "               'prior_prob_frac': Fraction(1, 52)},\n",
      " ('10', '♥'): {'post_prob': 0.0,\n",
      "               'prior_prob': 0.019230769230769228,\n",
      "               'prior_prob_frac': Fraction(1, 52)},\n",
      " ('10', '♦'): {'post_prob': 0.0,\n",
      "               'prior_prob': 0.019230769230769228,\n",
      "               'prior_prob_frac': Fraction(1, 52)},\n",
      " ('2', '♠'): {'post_prob': 0.0,\n",
      "              'prior_prob': 0.019230769230769228,\n",
      "              'prior_prob_frac': Fraction(1, 52)},\n",
      " ('2', '♣'): {'post_prob': 0.0,\n",
      "              'prior_prob': 0.019230769230769228,\n",
      "              'prior_prob_frac': Fraction(1, 52)},\n",
      " ('2', '♥'): {'post_prob': 0.0,\n",
      "              'prior_prob': 0.019230769230769228,\n",
      "              'prior_prob_frac': Fraction(1, 52)},\n",
      " ('2', '♦'): {'post_prob': 0.0,\n",
      "              'prior_prob': 0.019230769230769228,\n",
      "              'prior_prob_frac': Fraction(1, 52)},\n",
      " ('3', '♠'): {'post_prob': 0.0,\n",
      "              'prior_prob': 0.019230769230769228,\n",
      "              'prior_prob_frac': Fraction(1, 52)},\n",
      " ('3', '♣'): {'post_prob': 0.0,\n",
      "              'prior_prob': 0.019230769230769228,\n",
      "              'prior_prob_frac': Fraction(1, 52)},\n",
      " ('3', '♥'): {'post_prob': 0.0,\n",
      "              'prior_prob': 0.019230769230769228,\n",
      "              'prior_prob_frac': Fraction(1, 52)},\n",
      " ('3', '♦'): {'post_prob': 0.0,\n",
      "              'prior_prob': 0.019230769230769228,\n",
      "              'prior_prob_frac': Fraction(1, 52)},\n",
      " ('4', '♠'): {'post_prob': 0.0,\n",
      "              'prior_prob': 0.019230769230769228,\n",
      "              'prior_prob_frac': Fraction(1, 52)},\n",
      " ('4', '♣'): {'post_prob': 0.0,\n",
      "              'prior_prob': 0.019230769230769228,\n",
      "              'prior_prob_frac': Fraction(1, 52)},\n",
      " ('4', '♥'): {'post_prob': 0.0,\n",
      "              'prior_prob': 0.019230769230769228,\n",
      "              'prior_prob_frac': Fraction(1, 52)},\n",
      " ('4', '♦'): {'post_prob': 0.0,\n",
      "              'prior_prob': 0.019230769230769228,\n",
      "              'prior_prob_frac': Fraction(1, 52)},\n",
      " ('5', '♠'): {'post_prob': 0.0,\n",
      "              'prior_prob': 0.019230769230769228,\n",
      "              'prior_prob_frac': Fraction(1, 52)},\n",
      " ('5', '♣'): {'post_prob': 0.0,\n",
      "              'prior_prob': 0.019230769230769228,\n",
      "              'prior_prob_frac': Fraction(1, 52)},\n",
      " ('5', '♥'): {'post_prob': 0.0,\n",
      "              'prior_prob': 0.019230769230769228,\n",
      "              'prior_prob_frac': Fraction(1, 52)},\n",
      " ('5', '♦'): {'post_prob': 0.0,\n",
      "              'prior_prob': 0.019230769230769228,\n",
      "              'prior_prob_frac': Fraction(1, 52)},\n",
      " ('6', '♠'): {'post_prob': 0.0,\n",
      "              'prior_prob': 0.019230769230769228,\n",
      "              'prior_prob_frac': Fraction(1, 52)},\n",
      " ('6', '♣'): {'post_prob': 0.0,\n",
      "              'prior_prob': 0.019230769230769228,\n",
      "              'prior_prob_frac': Fraction(1, 52)},\n",
      " ('6', '♥'): {'post_prob': 0.0,\n",
      "              'prior_prob': 0.019230769230769228,\n",
      "              'prior_prob_frac': Fraction(1, 52)},\n",
      " ('6', '♦'): {'post_prob': 0.0,\n",
      "              'prior_prob': 0.019230769230769228,\n",
      "              'prior_prob_frac': Fraction(1, 52)},\n",
      " ('7', '♠'): {'post_prob': 0.0,\n",
      "              'prior_prob': 0.019230769230769228,\n",
      "              'prior_prob_frac': Fraction(1, 52)},\n",
      " ('7', '♣'): {'post_prob': 0.0,\n",
      "              'prior_prob': 0.019230769230769228,\n",
      "              'prior_prob_frac': Fraction(1, 52)},\n",
      " ('7', '♥'): {'post_prob': 0.0,\n",
      "              'prior_prob': 0.019230769230769228,\n",
      "              'prior_prob_frac': Fraction(1, 52)},\n",
      " ('7', '♦'): {'post_prob': 0.0,\n",
      "              'prior_prob': 0.019230769230769228,\n",
      "              'prior_prob_frac': Fraction(1, 52)},\n",
      " ('8', '♠'): {'post_prob': 0.0,\n",
      "              'prior_prob': 0.019230769230769228,\n",
      "              'prior_prob_frac': Fraction(1, 52)},\n",
      " ('8', '♣'): {'post_prob': 0.0,\n",
      "              'prior_prob': 0.019230769230769228,\n",
      "              'prior_prob_frac': Fraction(1, 52)},\n",
      " ('8', '♥'): {'post_prob': 0.0,\n",
      "              'prior_prob': 0.019230769230769228,\n",
      "              'prior_prob_frac': Fraction(1, 52)},\n",
      " ('8', '♦'): {'post_prob': 0.0,\n",
      "              'prior_prob': 0.019230769230769228,\n",
      "              'prior_prob_frac': Fraction(1, 52)},\n",
      " ('9', '♠'): {'post_prob': 0.0,\n",
      "              'prior_prob': 0.019230769230769228,\n",
      "              'prior_prob_frac': Fraction(1, 52)},\n",
      " ('9', '♣'): {'post_prob': 0.0,\n",
      "              'prior_prob': 0.019230769230769228,\n",
      "              'prior_prob_frac': Fraction(1, 52)},\n",
      " ('9', '♥'): {'post_prob': 0.0,\n",
      "              'prior_prob': 0.019230769230769228,\n",
      "              'prior_prob_frac': Fraction(1, 52)},\n",
      " ('9', '♦'): {'post_prob': 0.0,\n",
      "              'prior_prob': 0.019230769230769228,\n",
      "              'prior_prob_frac': Fraction(1, 52)},\n",
      " ('A', '♠'): {'post_prob': 0.0,\n",
      "              'prior_prob': 0.019230769230769228,\n",
      "              'prior_prob_frac': Fraction(1, 52)},\n",
      " ('A', '♣'): {'post_prob': 0.0,\n",
      "              'prior_prob': 0.019230769230769228,\n",
      "              'prior_prob_frac': Fraction(1, 52)},\n",
      " ('A', '♥'): {'post_prob': 0.0,\n",
      "              'prior_prob': 0.019230769230769228,\n",
      "              'prior_prob_frac': Fraction(1, 52)},\n",
      " ('A', '♦'): {'post_prob': 0.0,\n",
      "              'prior_prob': 0.019230769230769228,\n",
      "              'prior_prob_frac': Fraction(1, 52)},\n",
      " ('J', '♠'): {'post_prob': 0.0,\n",
      "              'prior_prob': 0.019230769230769228,\n",
      "              'prior_prob_frac': Fraction(1, 52)},\n",
      " ('J', '♣'): {'post_prob': 0.0,\n",
      "              'prior_prob': 0.019230769230769228,\n",
      "              'prior_prob_frac': Fraction(1, 52)},\n",
      " ('J', '♥'): {'post_prob': 0.0,\n",
      "              'prior_prob': 0.019230769230769228,\n",
      "              'prior_prob_frac': Fraction(1, 52)},\n",
      " ('J', '♦'): {'post_prob': 0.0,\n",
      "              'prior_prob': 0.019230769230769228,\n",
      "              'prior_prob_frac': Fraction(1, 52)},\n",
      " ('K', '♠'): {'post_prob': 0.0,\n",
      "              'prior_prob': 0.019230769230769228,\n",
      "              'prior_prob_frac': Fraction(1, 52)},\n",
      " ('K', '♣'): {'post_prob': 0.0,\n",
      "              'prior_prob': 0.019230769230769228,\n",
      "              'prior_prob_frac': Fraction(1, 52)},\n",
      " ('K', '♥'): {'post_prob': 0.0,\n",
      "              'prior_prob': 0.019230769230769228,\n",
      "              'prior_prob_frac': Fraction(1, 52)},\n",
      " ('K', '♦'): {'post_prob': 0.0,\n",
      "              'prior_prob': 0.019230769230769228,\n",
      "              'prior_prob_frac': Fraction(1, 52)},\n",
      " ('Q', '♠'): {'post_prob': 0.0,\n",
      "              'prior_prob': 0.019230769230769228,\n",
      "              'prior_prob_frac': Fraction(1, 52)},\n",
      " ('Q', '♣'): {'post_prob': 0.0,\n",
      "              'prior_prob': 0.019230769230769228,\n",
      "              'prior_prob_frac': Fraction(1, 52)},\n",
      " ('Q', '♥'): {'post_prob': 0.0,\n",
      "              'prior_prob': 0.019230769230769228,\n",
      "              'prior_prob_frac': Fraction(1, 52)},\n",
      " ('Q', '♦'): {'post_prob': 0.0,\n",
      "              'prior_prob': 0.019230769230769228,\n",
      "              'prior_prob_frac': Fraction(1, 52)}}\n",
      "\n"
     ]
    }
   ],
   "source": [
    "exp_carte = PExp(alphabet=['A','2','3','4','5','6','7','8','9','10','J','Q','K'])\n",
    "exp_semi = PExp(alphabet=['♥','♦','♠','♣'])\n",
    "exp_mazzo = exp_carte * exp_semi\n",
    "exp_mazzo.info()"
   ]
  },
  {
   "cell_type": "markdown",
   "metadata": {},
   "source": [
    "### Evento 1: Cuori"
   ]
  },
  {
   "cell_type": "code",
   "execution_count": 18,
   "metadata": {
    "collapsed": false,
    "scrolled": true
   },
   "outputs": [
    {
     "name": "stdout",
     "output_type": "stream",
     "text": [
      "[('A', '♥'), ('2', '♥'), ('3', '♥'), ('4', '♥'), ('5', '♥'), ('6', '♥'), ('7', '♥'), ('8', '♥'), ('9', '♥'), ('10', '♥'), ('J', '♥'), ('Q', '♥'), ('K', '♥')]: 0.25\n",
      "Probability: 0.25 ( 1/4 )\n"
     ]
    }
   ],
   "source": [
    "e1 = Event([('*','♥')],exp_mazzo)\n",
    "print(e1)\n",
    "e1.print_prob()"
   ]
  },
  {
   "cell_type": "markdown",
   "metadata": {},
   "source": [
    "### Evento 2: Jack"
   ]
  },
  {
   "cell_type": "code",
   "execution_count": 19,
   "metadata": {
    "collapsed": false
   },
   "outputs": [
    {
     "name": "stdout",
     "output_type": "stream",
     "text": [
      "[('J', '♥'), ('J', '♦'), ('J', '♠'), ('J', '♣')]: 0.0769230769231\n",
      "Probability: 0.0769230769231 ( 1/13 )\n"
     ]
    }
   ],
   "source": [
    "e2 = Event([('J','*')],exp_mazzo)\n",
    "print(e2)\n",
    "e2.print_prob()"
   ]
  },
  {
   "cell_type": "markdown",
   "metadata": {},
   "source": [
    "### Evento 3: Jack sapendo che è una carta di cuori"
   ]
  },
  {
   "cell_type": "code",
   "execution_count": 20,
   "metadata": {
    "collapsed": false
   },
   "outputs": [
    {
     "name": "stdout",
     "output_type": "stream",
     "text": [
      "[('J', '♥')]: 0.0769230769231\n",
      "Probability: 0.0769230769231 ( 1/13 )\n"
     ]
    }
   ],
   "source": [
    "e3 = e2|e1\n",
    "print(e3)\n",
    "e3.print_prob()"
   ]
  },
  {
   "cell_type": "markdown",
   "metadata": {},
   "source": [
    "### Evento 4: Carta di cuori sapendo che è un Jack"
   ]
  },
  {
   "cell_type": "code",
   "execution_count": 21,
   "metadata": {
    "collapsed": false,
    "scrolled": true
   },
   "outputs": [
    {
     "name": "stdout",
     "output_type": "stream",
     "text": [
      "[('J', '♥')]: 0.25\n",
      "Probability: 0.25 ( 1/4 )\n"
     ]
    }
   ],
   "source": [
    "e4 = e1|e2\n",
    "print(e4)\n",
    "e4.print_prob()"
   ]
  },
  {
   "cell_type": "markdown",
   "metadata": {},
   "source": [
    "### Evento 5: La carta è una figura sapendo che è rossa"
   ]
  },
  {
   "cell_type": "code",
   "execution_count": 22,
   "metadata": {
    "collapsed": false
   },
   "outputs": [
    {
     "name": "stdout",
     "output_type": "stream",
     "text": [
      "Probability: 0.230769230769 ( 3/13 )\n"
     ]
    }
   ],
   "source": [
    "rossa = Event([('*','♥')],exp_mazzo) + Event([('*','♦')],exp_mazzo)\n",
    "figura = Event([('J','*')],exp_mazzo) + Event([('Q','*')],exp_mazzo) + Event([('K','*')],exp_mazzo)\n",
    "figura_dato_rossa = figura|rossa\n",
    "figura_dato_rossa.print_prob()"
   ]
  },
  {
   "cell_type": "markdown",
   "metadata": {},
   "source": [
    "### Evento 6: La carta è rossa sapendo che è una figura"
   ]
  },
  {
   "cell_type": "code",
   "execution_count": 23,
   "metadata": {
    "collapsed": false
   },
   "outputs": [
    {
     "name": "stdout",
     "output_type": "stream",
     "text": [
      "Probability: 0.5 ( 1/2 )\n"
     ]
    }
   ],
   "source": [
    "rossa_dato_figura = rossa|figura\n",
    "rossa_dato_figura.print_prob()"
   ]
  },
  {
   "cell_type": "code",
   "execution_count": null,
   "metadata": {
    "collapsed": true
   },
   "outputs": [],
   "source": []
  },
  {
   "cell_type": "markdown",
   "metadata": {
    "collapsed": true
   },
   "source": [
    "## Esperimento: Urna con palle bianche e nere (ricorsivo)"
   ]
  },
  {
   "cell_type": "code",
   "execution_count": 24,
   "metadata": {
    "collapsed": false
   },
   "outputs": [
    {
     "name": "stdout",
     "output_type": "stream",
     "text": [
      "----------------------------------------------------------------------------------------------------\n",
      "Population: {('N',): 25, ('B',): 75}\n",
      "Alphabet: [('N',), ('B',)]\n",
      "Prior_prob: [ 0.25  0.75]\n",
      "Prior_prob_frac[1]: 1/4\n",
      "Prior_prob_frac[2]: 3/4\n",
      "N_outcomes: 2\n",
      "N_trials: None\n",
      "Post_prob: [ 0.  0.]\n",
      "Recursive exp: True\n",
      "Exp_dict:\n",
      "{('B',): {'post_prob': 0.0,\n",
      "          'prior_prob': 0.75,\n",
      "          'prior_prob_frac': Fraction(3, 4)},\n",
      " ('N',): {'post_prob': 0.0,\n",
      "          'prior_prob': 0.25,\n",
      "          'prior_prob_frac': Fraction(1, 4)}}\n",
      "\n"
     ]
    }
   ],
   "source": [
    "expBN = PExp(population={'B':75,'N':25},rec=True)\n",
    "expBN.info()"
   ]
  },
  {
   "cell_type": "markdown",
   "metadata": {},
   "source": [
    "### Evento: 1 palla bianca"
   ]
  },
  {
   "cell_type": "code",
   "execution_count": 25,
   "metadata": {
    "collapsed": false
   },
   "outputs": [
    {
     "name": "stdout",
     "output_type": "stream",
     "text": [
      "[('B',)]: 0.75\n",
      "Probability: 0.75 ( 3/4 )\n"
     ]
    }
   ],
   "source": [
    "eB = Event([('B',)],expBN)\n",
    "print(eB)\n",
    "eB.print_prob()"
   ]
  },
  {
   "cell_type": "code",
   "execution_count": 26,
   "metadata": {
    "collapsed": false,
    "scrolled": true
   },
   "outputs": [
    {
     "name": "stdout",
     "output_type": "stream",
     "text": [
      "----------------------------------------------------------------------------------------------------\n",
      "Population: {('N',): 25, ('B',): 74}\n",
      "Alphabet: [('N',), ('B',)]\n",
      "Prior_prob: [ 0.25252525  0.74747475]\n",
      "Prior_prob_frac[1]: 25/99\n",
      "Prior_prob_frac[2]: 74/99\n",
      "N_outcomes: 2\n",
      "N_trials: None\n",
      "Post_prob: [ 0.  0.]\n",
      "Recursive exp: True\n",
      "Exp_dict:\n",
      "{('B',): {'post_prob': 0.0,\n",
      "          'prior_prob': 0.74747474747474751,\n",
      "          'prior_prob_frac': Fraction(74, 99)},\n",
      " ('N',): {'post_prob': 0.0,\n",
      "          'prior_prob': 0.25252525252525254,\n",
      "          'prior_prob_frac': Fraction(25, 99)}}\n",
      "\n"
     ]
    }
   ],
   "source": [
    "expBN.info()"
   ]
  },
  {
   "cell_type": "markdown",
   "metadata": {},
   "source": [
    "### Evento: 1 palla nera"
   ]
  },
  {
   "cell_type": "code",
   "execution_count": 27,
   "metadata": {
    "collapsed": false
   },
   "outputs": [
    {
     "name": "stdout",
     "output_type": "stream",
     "text": [
      "----------------------------------------------------------------------------------------------------\n",
      "Population: {('N',): 25, ('B',): 75}\n",
      "Alphabet: [('N',), ('B',)]\n",
      "Prior_prob: [ 0.25  0.75]\n",
      "Prior_prob_frac[1]: 1/4\n",
      "Prior_prob_frac[2]: 3/4\n",
      "N_outcomes: 2\n",
      "N_trials: None\n",
      "Post_prob: [ 0.  0.]\n",
      "Recursive exp: True\n",
      "Exp_dict:\n",
      "{('B',): {'post_prob': 0.0,\n",
      "          'prior_prob': 0.75,\n",
      "          'prior_prob_frac': Fraction(3, 4)},\n",
      " ('N',): {'post_prob': 0.0,\n",
      "          'prior_prob': 0.25,\n",
      "          'prior_prob_frac': Fraction(1, 4)}}\n",
      "\n",
      "[('N',)]: 0.25\n",
      "Probability: 0.25 ( 1/4 )\n"
     ]
    }
   ],
   "source": [
    "expBN.reset_exp()\n",
    "expBN.info()\n",
    "eN = Event(['N'],expBN)\n",
    "print(eN)\n",
    "eN.print_prob()"
   ]
  },
  {
   "cell_type": "code",
   "execution_count": 28,
   "metadata": {
    "collapsed": false,
    "scrolled": true
   },
   "outputs": [
    {
     "name": "stdout",
     "output_type": "stream",
     "text": [
      "----------------------------------------------------------------------------------------------------\n",
      "Population: {('N',): 24, ('B',): 75}\n",
      "Alphabet: [('N',), ('B',)]\n",
      "Prior_prob: [ 0.24242424  0.75757576]\n",
      "Prior_prob_frac[1]: 8/33\n",
      "Prior_prob_frac[2]: 25/33\n",
      "N_outcomes: 2\n",
      "N_trials: None\n",
      "Post_prob: [ 0.  0.]\n",
      "Recursive exp: True\n",
      "Exp_dict:\n",
      "{('B',): {'post_prob': 0.0,\n",
      "          'prior_prob': 0.75757575757575757,\n",
      "          'prior_prob_frac': Fraction(25, 33)},\n",
      " ('N',): {'post_prob': 0.0,\n",
      "          'prior_prob': 0.24242424242424243,\n",
      "          'prior_prob_frac': Fraction(8, 33)}}\n",
      "\n"
     ]
    }
   ],
   "source": [
    "expBN.info()"
   ]
  },
  {
   "cell_type": "markdown",
   "metadata": {
    "collapsed": true
   },
   "source": [
    "### Evento: 1 palla bianca e 1 palla nera (senza reimmissione)"
   ]
  },
  {
   "cell_type": "code",
   "execution_count": 29,
   "metadata": {
    "collapsed": false
   },
   "outputs": [
    {
     "name": "stdout",
     "output_type": "stream",
     "text": [
      "Probabilità palla Bianca: 0.75 ( 3/4 )\n",
      "----------------------------------------------------------------------------------------------------\n",
      "Population: {('N',): 25, ('B',): 74}\n",
      "Alphabet: [('N',), ('B',)]\n",
      "Prior_prob: [ 0.25252525  0.74747475]\n",
      "Prior_prob_frac[1]: 25/99\n",
      "Prior_prob_frac[2]: 74/99\n",
      "N_outcomes: 2\n",
      "N_trials: None\n",
      "Post_prob: [ 0.  0.]\n",
      "Recursive exp: True\n",
      "Exp_dict:\n",
      "{('B',): {'post_prob': 0.0,\n",
      "          'prior_prob': 0.74747474747474751,\n",
      "          'prior_prob_frac': Fraction(74, 99)},\n",
      " ('N',): {'post_prob': 0.0,\n",
      "          'prior_prob': 0.25252525252525254,\n",
      "          'prior_prob_frac': Fraction(25, 99)}}\n",
      "\n",
      "\n",
      "\n",
      "\n",
      "Probabilità palla Nera: 0.252525252525 ( 25/99 )\n",
      "----------------------------------------------------------------------------------------------------\n",
      "Population: {('N',): 24, ('B',): 74}\n",
      "Alphabet: [('N',), ('B',)]\n",
      "Prior_prob: [ 0.24489796  0.75510204]\n",
      "Prior_prob_frac[1]: 12/49\n",
      "Prior_prob_frac[2]: 37/49\n",
      "N_outcomes: 2\n",
      "N_trials: None\n",
      "Post_prob: [ 0.  0.]\n",
      "Recursive exp: True\n",
      "Exp_dict:\n",
      "{('B',): {'post_prob': 0.0,\n",
      "          'prior_prob': 0.75510204081632648,\n",
      "          'prior_prob_frac': Fraction(37, 49)},\n",
      " ('N',): {'post_prob': 0.0,\n",
      "          'prior_prob': 0.24489795918367346,\n",
      "          'prior_prob_frac': Fraction(12, 49)}}\n",
      "\n",
      "\n",
      "\n",
      "\n",
      "Probabilità palla Bianca e Nera: 0.189393939394 ( 25/132 )\n"
     ]
    }
   ],
   "source": [
    "expBN.reset_exp()\n",
    "eB = Event([('B',)],expBN)\n",
    "print('Probabilità palla Bianca:',eB.prob,'(',Fraction(eB.prob).limit_denominator(1000),')')\n",
    "expBN.info()\n",
    "print('\\n\\n')\n",
    "eN = Event([('N',)],expBN)\n",
    "print('Probabilità palla Nera:',eN.prob,'(',Fraction(eN.prob).limit_denominator(1000),')')\n",
    "expBN.info()\n",
    "print('\\n\\n')\n",
    "print('Probabilità palla Bianca e Nera:',eB.prob * eN.prob,'(',Fraction(eB.prob * eN.prob).limit_denominator(1000),')')"
   ]
  },
  {
   "cell_type": "code",
   "execution_count": null,
   "metadata": {
    "collapsed": true
   },
   "outputs": [],
   "source": []
  },
  {
   "cell_type": "markdown",
   "metadata": {},
   "source": [
    "## Esperimento: urna con 18 palline numerate"
   ]
  },
  {
   "cell_type": "code",
   "execution_count": 30,
   "metadata": {
    "collapsed": false,
    "scrolled": true
   },
   "outputs": [
    {
     "name": "stdout",
     "output_type": "stream",
     "text": [
      "----------------------------------------------------------------------------------------------------\n",
      "Population: {('4',): 1, ('16',): 1, ('15',): 1, ('6',): 1, ('1',): 1, ('5',): 1, ('14',): 1, ('18',): 1, ('10',): 1, ('11',): 1, ('13',): 1, ('8',): 1, ('12',): 1, ('9',): 1, ('3',): 1, ('17',): 1, ('2',): 1, ('7',): 1}\n",
      "Alphabet: [('1',), ('2',), ('3',), ('4',), ('5',), ('6',), ('7',), ('8',), ('9',), ('10',), ('11',), ('12',), ('13',), ('14',), ('15',), ('16',), ('17',), ('18',)]\n",
      "Prior_prob: [ 0.05555556  0.05555556  0.05555556  0.05555556  0.05555556  0.05555556\n",
      "  0.05555556  0.05555556  0.05555556  0.05555556  0.05555556  0.05555556\n",
      "  0.05555556  0.05555556  0.05555556  0.05555556  0.05555556  0.05555556]\n",
      "Prior_prob_frac[1]: 1/18\n",
      "Prior_prob_frac[2]: 1/18\n",
      "Prior_prob_frac[3]: 1/18\n",
      "Prior_prob_frac[4]: 1/18\n",
      "Prior_prob_frac[5]: 1/18\n",
      "Prior_prob_frac[6]: 1/18\n",
      "Prior_prob_frac[7]: 1/18\n",
      "Prior_prob_frac[8]: 1/18\n",
      "Prior_prob_frac[9]: 1/18\n",
      "Prior_prob_frac[10]: 1/18\n",
      "Prior_prob_frac[11]: 1/18\n",
      "Prior_prob_frac[12]: 1/18\n",
      "Prior_prob_frac[13]: 1/18\n",
      "Prior_prob_frac[14]: 1/18\n",
      "Prior_prob_frac[15]: 1/18\n",
      "Prior_prob_frac[16]: 1/18\n",
      "Prior_prob_frac[17]: 1/18\n",
      "Prior_prob_frac[18]: 1/18\n",
      "N_outcomes: 18\n",
      "N_trials: None\n",
      "Post_prob: [ 0.  0.  0.  0.  0.  0.  0.  0.  0.  0.  0.  0.  0.  0.  0.  0.  0.  0.]\n",
      "Recursive exp: False\n",
      "Exp_dict:\n",
      "{('1',): {'post_prob': 0.0,\n",
      "          'prior_prob': 0.055555555555555552,\n",
      "          'prior_prob_frac': Fraction(1, 18)},\n",
      " ('10',): {'post_prob': 0.0,\n",
      "           'prior_prob': 0.055555555555555552,\n",
      "           'prior_prob_frac': Fraction(1, 18)},\n",
      " ('11',): {'post_prob': 0.0,\n",
      "           'prior_prob': 0.055555555555555552,\n",
      "           'prior_prob_frac': Fraction(1, 18)},\n",
      " ('12',): {'post_prob': 0.0,\n",
      "           'prior_prob': 0.055555555555555552,\n",
      "           'prior_prob_frac': Fraction(1, 18)},\n",
      " ('13',): {'post_prob': 0.0,\n",
      "           'prior_prob': 0.055555555555555552,\n",
      "           'prior_prob_frac': Fraction(1, 18)},\n",
      " ('14',): {'post_prob': 0.0,\n",
      "           'prior_prob': 0.055555555555555552,\n",
      "           'prior_prob_frac': Fraction(1, 18)},\n",
      " ('15',): {'post_prob': 0.0,\n",
      "           'prior_prob': 0.055555555555555552,\n",
      "           'prior_prob_frac': Fraction(1, 18)},\n",
      " ('16',): {'post_prob': 0.0,\n",
      "           'prior_prob': 0.055555555555555552,\n",
      "           'prior_prob_frac': Fraction(1, 18)},\n",
      " ('17',): {'post_prob': 0.0,\n",
      "           'prior_prob': 0.055555555555555552,\n",
      "           'prior_prob_frac': Fraction(1, 18)},\n",
      " ('18',): {'post_prob': 0.0,\n",
      "           'prior_prob': 0.055555555555555552,\n",
      "           'prior_prob_frac': Fraction(1, 18)},\n",
      " ('2',): {'post_prob': 0.0,\n",
      "          'prior_prob': 0.055555555555555552,\n",
      "          'prior_prob_frac': Fraction(1, 18)},\n",
      " ('3',): {'post_prob': 0.0,\n",
      "          'prior_prob': 0.055555555555555552,\n",
      "          'prior_prob_frac': Fraction(1, 18)},\n",
      " ('4',): {'post_prob': 0.0,\n",
      "          'prior_prob': 0.055555555555555552,\n",
      "          'prior_prob_frac': Fraction(1, 18)},\n",
      " ('5',): {'post_prob': 0.0,\n",
      "          'prior_prob': 0.055555555555555552,\n",
      "          'prior_prob_frac': Fraction(1, 18)},\n",
      " ('6',): {'post_prob': 0.0,\n",
      "          'prior_prob': 0.055555555555555552,\n",
      "          'prior_prob_frac': Fraction(1, 18)},\n",
      " ('7',): {'post_prob': 0.0,\n",
      "          'prior_prob': 0.055555555555555552,\n",
      "          'prior_prob_frac': Fraction(1, 18)},\n",
      " ('8',): {'post_prob': 0.0,\n",
      "          'prior_prob': 0.055555555555555552,\n",
      "          'prior_prob_frac': Fraction(1, 18)},\n",
      " ('9',): {'post_prob': 0.0,\n",
      "          'prior_prob': 0.055555555555555552,\n",
      "          'prior_prob_frac': Fraction(1, 18)}}\n",
      "\n"
     ]
    }
   ],
   "source": [
    "urna18 = PExp(18)\n",
    "urna18.info()"
   ]
  },
  {
   "cell_type": "markdown",
   "metadata": {},
   "source": [
    "### Evento: la pallina estratta è pari (multiplo di 2)"
   ]
  },
  {
   "cell_type": "code",
   "execution_count": 31,
   "metadata": {
    "collapsed": false
   },
   "outputs": [
    {
     "name": "stdout",
     "output_type": "stream",
     "text": [
      "[('2',), ('4',), ('6',), ('8',), ('10',), ('12',), ('14',), ('16',), ('18',)]: 0.5\n",
      "Probability: 0.5 ( 1/2 )\n"
     ]
    }
   ],
   "source": [
    "evMul2 = Event([2,4,6,8,10,12,14,16,18],urna18)\n",
    "print(evMul2)\n",
    "evMul2.print_prob()"
   ]
  },
  {
   "cell_type": "markdown",
   "metadata": {},
   "source": [
    "### Evento: la pallina estratta è multiplo di 3"
   ]
  },
  {
   "cell_type": "code",
   "execution_count": 32,
   "metadata": {
    "collapsed": false
   },
   "outputs": [
    {
     "name": "stdout",
     "output_type": "stream",
     "text": [
      "[('3',), ('6',), ('9',), ('12',), ('15',), ('18',)]: 0.333333333333\n",
      "Probability: 0.333333333333 ( 1/3 )\n"
     ]
    }
   ],
   "source": [
    "evMul3 = Event([3,6,9,12,15,18],urna18)\n",
    "print(evMul3)\n",
    "evMul3.print_prob()"
   ]
  },
  {
   "cell_type": "code",
   "execution_count": 33,
   "metadata": {
    "collapsed": false
   },
   "outputs": [
    {
     "data": {
      "text/plain": [
       "True"
      ]
     },
     "execution_count": 33,
     "metadata": {},
     "output_type": "execute_result"
    }
   ],
   "source": [
    "evMul2.is_independent(evMul3)"
   ]
  },
  {
   "cell_type": "markdown",
   "metadata": {},
   "source": [
    "## Esperimento: urna con 21 palline numerate"
   ]
  },
  {
   "cell_type": "code",
   "execution_count": 34,
   "metadata": {
    "collapsed": false,
    "scrolled": true
   },
   "outputs": [
    {
     "name": "stdout",
     "output_type": "stream",
     "text": [
      "----------------------------------------------------------------------------------------------------\n",
      "Population: {('4',): 1, ('16',): 1, ('15',): 1, ('6',): 1, ('1',): 1, ('5',): 1, ('14',): 1, ('18',): 1, ('10',): 1, ('11',): 1, ('13',): 1, ('8',): 1, ('12',): 1, ('9',): 1, ('19',): 1, ('3',): 1, ('17',): 1, ('21',): 1, ('2',): 1, ('7',): 1, ('20',): 1}\n",
      "Alphabet: [('1',), ('2',), ('3',), ('4',), ('5',), ('6',), ('7',), ('8',), ('9',), ('10',), ('11',), ('12',), ('13',), ('14',), ('15',), ('16',), ('17',), ('18',), ('19',), ('20',), ('21',)]\n",
      "Prior_prob: [ 0.04761905  0.04761905  0.04761905  0.04761905  0.04761905  0.04761905\n",
      "  0.04761905  0.04761905  0.04761905  0.04761905  0.04761905  0.04761905\n",
      "  0.04761905  0.04761905  0.04761905  0.04761905  0.04761905  0.04761905\n",
      "  0.04761905  0.04761905  0.04761905]\n",
      "Prior_prob_frac[1]: 1/21\n",
      "Prior_prob_frac[2]: 1/21\n",
      "Prior_prob_frac[3]: 1/21\n",
      "Prior_prob_frac[4]: 1/21\n",
      "Prior_prob_frac[5]: 1/21\n",
      "Prior_prob_frac[6]: 1/21\n",
      "Prior_prob_frac[7]: 1/21\n",
      "Prior_prob_frac[8]: 1/21\n",
      "Prior_prob_frac[9]: 1/21\n",
      "Prior_prob_frac[10]: 1/21\n",
      "Prior_prob_frac[11]: 1/21\n",
      "Prior_prob_frac[12]: 1/21\n",
      "Prior_prob_frac[13]: 1/21\n",
      "Prior_prob_frac[14]: 1/21\n",
      "Prior_prob_frac[15]: 1/21\n",
      "Prior_prob_frac[16]: 1/21\n",
      "Prior_prob_frac[17]: 1/21\n",
      "Prior_prob_frac[18]: 1/21\n",
      "Prior_prob_frac[19]: 1/21\n",
      "Prior_prob_frac[20]: 1/21\n",
      "Prior_prob_frac[21]: 1/21\n",
      "N_outcomes: 21\n",
      "N_trials: None\n",
      "Post_prob: [ 0.  0.  0.  0.  0.  0.  0.  0.  0.  0.  0.  0.  0.  0.  0.  0.  0.  0.\n",
      "  0.  0.  0.]\n",
      "Recursive exp: False\n",
      "Exp_dict:\n",
      "{('1',): {'post_prob': 0.0,\n",
      "          'prior_prob': 0.047619047619047616,\n",
      "          'prior_prob_frac': Fraction(1, 21)},\n",
      " ('10',): {'post_prob': 0.0,\n",
      "           'prior_prob': 0.047619047619047616,\n",
      "           'prior_prob_frac': Fraction(1, 21)},\n",
      " ('11',): {'post_prob': 0.0,\n",
      "           'prior_prob': 0.047619047619047616,\n",
      "           'prior_prob_frac': Fraction(1, 21)},\n",
      " ('12',): {'post_prob': 0.0,\n",
      "           'prior_prob': 0.047619047619047616,\n",
      "           'prior_prob_frac': Fraction(1, 21)},\n",
      " ('13',): {'post_prob': 0.0,\n",
      "           'prior_prob': 0.047619047619047616,\n",
      "           'prior_prob_frac': Fraction(1, 21)},\n",
      " ('14',): {'post_prob': 0.0,\n",
      "           'prior_prob': 0.047619047619047616,\n",
      "           'prior_prob_frac': Fraction(1, 21)},\n",
      " ('15',): {'post_prob': 0.0,\n",
      "           'prior_prob': 0.047619047619047616,\n",
      "           'prior_prob_frac': Fraction(1, 21)},\n",
      " ('16',): {'post_prob': 0.0,\n",
      "           'prior_prob': 0.047619047619047616,\n",
      "           'prior_prob_frac': Fraction(1, 21)},\n",
      " ('17',): {'post_prob': 0.0,\n",
      "           'prior_prob': 0.047619047619047616,\n",
      "           'prior_prob_frac': Fraction(1, 21)},\n",
      " ('18',): {'post_prob': 0.0,\n",
      "           'prior_prob': 0.047619047619047616,\n",
      "           'prior_prob_frac': Fraction(1, 21)},\n",
      " ('19',): {'post_prob': 0.0,\n",
      "           'prior_prob': 0.047619047619047616,\n",
      "           'prior_prob_frac': Fraction(1, 21)},\n",
      " ('2',): {'post_prob': 0.0,\n",
      "          'prior_prob': 0.047619047619047616,\n",
      "          'prior_prob_frac': Fraction(1, 21)},\n",
      " ('20',): {'post_prob': 0.0,\n",
      "           'prior_prob': 0.047619047619047616,\n",
      "           'prior_prob_frac': Fraction(1, 21)},\n",
      " ('21',): {'post_prob': 0.0,\n",
      "           'prior_prob': 0.047619047619047616,\n",
      "           'prior_prob_frac': Fraction(1, 21)},\n",
      " ('3',): {'post_prob': 0.0,\n",
      "          'prior_prob': 0.047619047619047616,\n",
      "          'prior_prob_frac': Fraction(1, 21)},\n",
      " ('4',): {'post_prob': 0.0,\n",
      "          'prior_prob': 0.047619047619047616,\n",
      "          'prior_prob_frac': Fraction(1, 21)},\n",
      " ('5',): {'post_prob': 0.0,\n",
      "          'prior_prob': 0.047619047619047616,\n",
      "          'prior_prob_frac': Fraction(1, 21)},\n",
      " ('6',): {'post_prob': 0.0,\n",
      "          'prior_prob': 0.047619047619047616,\n",
      "          'prior_prob_frac': Fraction(1, 21)},\n",
      " ('7',): {'post_prob': 0.0,\n",
      "          'prior_prob': 0.047619047619047616,\n",
      "          'prior_prob_frac': Fraction(1, 21)},\n",
      " ('8',): {'post_prob': 0.0,\n",
      "          'prior_prob': 0.047619047619047616,\n",
      "          'prior_prob_frac': Fraction(1, 21)},\n",
      " ('9',): {'post_prob': 0.0,\n",
      "          'prior_prob': 0.047619047619047616,\n",
      "          'prior_prob_frac': Fraction(1, 21)}}\n",
      "\n"
     ]
    }
   ],
   "source": [
    "urna21 = PExp(21)\n",
    "urna21.info()"
   ]
  },
  {
   "cell_type": "markdown",
   "metadata": {},
   "source": [
    "### Evento: la pallina estratta è multiplo di 2"
   ]
  },
  {
   "cell_type": "code",
   "execution_count": 35,
   "metadata": {
    "collapsed": false
   },
   "outputs": [
    {
     "name": "stdout",
     "output_type": "stream",
     "text": [
      "[('2',), ('4',), ('6',), ('8',), ('10',), ('12',), ('14',), ('16',), ('18',), ('20',)]: 0.47619047619\n",
      "Probability: 0.47619047619 ( 10/21 )\n"
     ]
    }
   ],
   "source": [
    "evMul2 = Event([2,4,6,8,10,12,14,16,18,20],urna21)\n",
    "print(evMul2)\n",
    "evMul2.print_prob()"
   ]
  },
  {
   "cell_type": "markdown",
   "metadata": {},
   "source": [
    "### Evento: la pallina estratta è multiplo di 3"
   ]
  },
  {
   "cell_type": "code",
   "execution_count": 36,
   "metadata": {
    "collapsed": false
   },
   "outputs": [
    {
     "name": "stdout",
     "output_type": "stream",
     "text": [
      "[('3',), ('6',), ('9',), ('12',), ('15',), ('18',), ('21',)]: 0.333333333333\n",
      "Probability: 0.333333333333 ( 1/3 )\n"
     ]
    }
   ],
   "source": [
    "evMul3 = Event([3,6,9,12,15,18,21],urna21)\n",
    "print(evMul3)\n",
    "evMul3.print_prob()"
   ]
  },
  {
   "cell_type": "code",
   "execution_count": 37,
   "metadata": {
    "collapsed": false
   },
   "outputs": [
    {
     "data": {
      "text/plain": [
       "False"
      ]
     },
     "execution_count": 37,
     "metadata": {},
     "output_type": "execute_result"
    }
   ],
   "source": [
    "evMul2.is_independent(evMul3)"
   ]
  },
  {
   "cell_type": "markdown",
   "metadata": {},
   "source": [
    "## Problema del compleanno"
   ]
  },
  {
   "cell_type": "markdown",
   "metadata": {},
   "source": [
    "https://en.wikipedia.org/wiki/Birthday_problem"
   ]
  },
  {
   "cell_type": "code",
   "execution_count": 38,
   "metadata": {
    "collapsed": false
   },
   "outputs": [
    {
     "name": "stdout",
     "output_type": "stream",
     "text": [
      "0.538344257915\n"
     ]
    }
   ],
   "source": [
    "prob = 1\n",
    "for k in range(23):\n",
    "    comp = PExp(population={'C':1+k, 'nC':364-k})\n",
    "    ev = Event([('nC')],comp)\n",
    "    prob *= ev.prob\n",
    "print(1-prob)"
   ]
  },
  {
   "cell_type": "code",
   "execution_count": null,
   "metadata": {
    "collapsed": true
   },
   "outputs": [],
   "source": []
  }
 ],
 "metadata": {
  "kernelspec": {
   "display_name": "Python [default]",
   "language": "python",
   "name": "python3"
  },
  "language_info": {
   "codemirror_mode": {
    "name": "ipython",
    "version": 3
   },
   "file_extension": ".py",
   "mimetype": "text/x-python",
   "name": "python",
   "nbconvert_exporter": "python",
   "pygments_lexer": "ipython3",
   "version": "3.5.2"
  }
 },
 "nbformat": 4,
 "nbformat_minor": 2
}
