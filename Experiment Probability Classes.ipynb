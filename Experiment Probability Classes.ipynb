{
 "cells": [
  {
   "cell_type": "code",
   "execution_count": 1,
   "metadata": {
    "collapsed": false
   },
   "outputs": [],
   "source": [
    "from PExp import *"
   ]
  },
  {
   "cell_type": "markdown",
   "metadata": {},
   "source": [
    "## Experiment: 1 die"
   ]
  },
  {
   "cell_type": "code",
   "execution_count": 2,
   "metadata": {
    "collapsed": false
   },
   "outputs": [
    {
     "name": "stdout",
     "output_type": "stream",
     "text": [
      "----------------------------------------------------------------------------------------------------\n",
      "Population: {('6',): 1, ('4',): 1, ('2',): 1, ('3',): 1, ('1',): 1, ('5',): 1}\n",
      "Alphabet: [('1',), ('2',), ('3',), ('4',), ('5',), ('6',)]\n",
      "Prior_prob: [ 0.16666667  0.16666667  0.16666667  0.16666667  0.16666667  0.16666667]\n",
      "Prior_prob_frac[1]: 1/6\n",
      "Prior_prob_frac[2]: 1/6\n",
      "Prior_prob_frac[3]: 1/6\n",
      "Prior_prob_frac[4]: 1/6\n",
      "Prior_prob_frac[5]: 1/6\n",
      "Prior_prob_frac[6]: 1/6\n",
      "N_outcomes: 6\n",
      "N_trials: None\n",
      "Post_prob: [ 0.  0.  0.  0.  0.  0.]\n",
      "Recursive exp: False\n",
      "Exp_dict:\n",
      "{('1',): {'post_prob': 0.0,\n",
      "          'prior_prob': 0.16666666666666666,\n",
      "          'prior_prob_frac': Fraction(1, 6)},\n",
      " ('2',): {'post_prob': 0.0,\n",
      "          'prior_prob': 0.16666666666666666,\n",
      "          'prior_prob_frac': Fraction(1, 6)},\n",
      " ('3',): {'post_prob': 0.0,\n",
      "          'prior_prob': 0.16666666666666666,\n",
      "          'prior_prob_frac': Fraction(1, 6)},\n",
      " ('4',): {'post_prob': 0.0,\n",
      "          'prior_prob': 0.16666666666666666,\n",
      "          'prior_prob_frac': Fraction(1, 6)},\n",
      " ('5',): {'post_prob': 0.0,\n",
      "          'prior_prob': 0.16666666666666666,\n",
      "          'prior_prob_frac': Fraction(1, 6)},\n",
      " ('6',): {'post_prob': 0.0,\n",
      "          'prior_prob': 0.16666666666666666,\n",
      "          'prior_prob_frac': Fraction(1, 6)}}\n",
      "\n"
     ]
    }
   ],
   "source": [
    "die = PExp(6)\n",
    "die.info()"
   ]
  },
  {
   "cell_type": "markdown",
   "metadata": {},
   "source": [
    "### Event: even numbers greater than 3 (4,6)"
   ]
  },
  {
   "cell_type": "code",
   "execution_count": 3,
   "metadata": {
    "collapsed": false
   },
   "outputs": [],
   "source": [
    "evEven = Event([('2',),('4',),('6',)],die)\n",
    "evGr3 = Event([('4',),('5',),('6',)],die)\n",
    "evEvenAndGr3 = evEven * evGr3"
   ]
  },
  {
   "cell_type": "code",
   "execution_count": 4,
   "metadata": {
    "collapsed": false,
    "scrolled": true
   },
   "outputs": [
    {
     "name": "stdout",
     "output_type": "stream",
     "text": [
      "Probability: 0.333333333333 ( 1/3 )\n"
     ]
    }
   ],
   "source": [
    "evEvenAndGr3.print_prob()"
   ]
  },
  {
   "cell_type": "markdown",
   "metadata": {},
   "source": [
    "### Event: either even numbers or greater than 3 (2,4,5,6)"
   ]
  },
  {
   "cell_type": "code",
   "execution_count": 5,
   "metadata": {
    "collapsed": true
   },
   "outputs": [],
   "source": [
    "evEvenOrGr3 = evEven + evGr3"
   ]
  },
  {
   "cell_type": "code",
   "execution_count": 6,
   "metadata": {
    "collapsed": false,
    "scrolled": true
   },
   "outputs": [
    {
     "name": "stdout",
     "output_type": "stream",
     "text": [
      "Probability: 0.666666666667 ( 2/3 )\n"
     ]
    }
   ],
   "source": [
    "evEvenOrGr3.print_prob()"
   ]
  },
  {
   "cell_type": "code",
   "execution_count": 7,
   "metadata": {
    "collapsed": false
   },
   "outputs": [
    {
     "data": {
      "text/plain": [
       "[('1',), ('2',), ('3',), ('4',), ('5',), ('6',)]"
      ]
     },
     "execution_count": 7,
     "metadata": {},
     "output_type": "execute_result"
    }
   ],
   "source": [
    "evEven.exp.alphabet"
   ]
  },
  {
   "cell_type": "markdown",
   "metadata": {},
   "source": [
    "## Experiment: family with 3 sons"
   ]
  },
  {
   "cell_type": "code",
   "execution_count": 8,
   "metadata": {
    "collapsed": false
   },
   "outputs": [
    {
     "name": "stdout",
     "output_type": "stream",
     "text": [
      "----------------------------------------------------------------------------------------------------\n",
      "Population: {('F', 'M', 'M'): 1, ('M', 'F', 'M'): 1, ('F', 'M', 'F'): 1, ('F', 'F', 'F'): 1, ('M', 'M', 'F'): 1, ('M', 'M', 'M'): 1, ('M', 'F', 'F'): 1, ('F', 'F', 'M'): 1}\n",
      "Alphabet: [('M', 'M', 'M'), ('M', 'M', 'F'), ('M', 'F', 'M'), ('M', 'F', 'F'), ('F', 'M', 'M'), ('F', 'M', 'F'), ('F', 'F', 'M'), ('F', 'F', 'F')]\n",
      "Prior_prob: [ 0.125  0.125  0.125  0.125  0.125  0.125  0.125  0.125]\n",
      "Prior_prob_frac[1]: 1/8\n",
      "Prior_prob_frac[2]: 1/8\n",
      "Prior_prob_frac[3]: 1/8\n",
      "Prior_prob_frac[4]: 1/8\n",
      "Prior_prob_frac[5]: 1/8\n",
      "Prior_prob_frac[6]: 1/8\n",
      "Prior_prob_frac[7]: 1/8\n",
      "Prior_prob_frac[8]: 1/8\n",
      "N_outcomes: 8\n",
      "N_trials: None\n",
      "Post_prob: [ 0.  0.  0.  0.  0.  0.  0.  0.]\n",
      "Recursive exp: False\n",
      "Exp_dict:\n",
      "{('F', 'F', 'F'): {'post_prob': 0.0,\n",
      "                   'prior_prob': 0.125,\n",
      "                   'prior_prob_frac': Fraction(1, 8)},\n",
      " ('F', 'F', 'M'): {'post_prob': 0.0,\n",
      "                   'prior_prob': 0.125,\n",
      "                   'prior_prob_frac': Fraction(1, 8)},\n",
      " ('F', 'M', 'F'): {'post_prob': 0.0,\n",
      "                   'prior_prob': 0.125,\n",
      "                   'prior_prob_frac': Fraction(1, 8)},\n",
      " ('F', 'M', 'M'): {'post_prob': 0.0,\n",
      "                   'prior_prob': 0.125,\n",
      "                   'prior_prob_frac': Fraction(1, 8)},\n",
      " ('M', 'F', 'F'): {'post_prob': 0.0,\n",
      "                   'prior_prob': 0.125,\n",
      "                   'prior_prob_frac': Fraction(1, 8)},\n",
      " ('M', 'F', 'M'): {'post_prob': 0.0,\n",
      "                   'prior_prob': 0.125,\n",
      "                   'prior_prob_frac': Fraction(1, 8)},\n",
      " ('M', 'M', 'F'): {'post_prob': 0.0,\n",
      "                   'prior_prob': 0.125,\n",
      "                   'prior_prob_frac': Fraction(1, 8)},\n",
      " ('M', 'M', 'M'): {'post_prob': 0.0,\n",
      "                   'prior_prob': 0.125,\n",
      "                   'prior_prob_frac': Fraction(1, 8)}}\n",
      "\n"
     ]
    }
   ],
   "source": [
    "fam1 = PExp(['M','F'])\n",
    "fam2 = PExp(['M','F'])\n",
    "fam3 = PExp(['M','F'])\n",
    "fam = fam1*fam2*fam3\n",
    "fam.info()"
   ]
  },
  {
   "cell_type": "markdown",
   "metadata": {},
   "source": [
    "### Probability of 3M given that there is at least 1M"
   ]
  },
  {
   "cell_type": "code",
   "execution_count": 9,
   "metadata": {
    "collapsed": true
   },
   "outputs": [],
   "source": [
    "ev1M = Event([('M','*','*')],fam)\n",
    "ev2M = Event([('*','M','*')],fam)\n",
    "ev3M = Event([('*','*','M')],fam)\n",
    "evAtLeast1M = ev1M + ev2M + ev3M"
   ]
  },
  {
   "cell_type": "code",
   "execution_count": 10,
   "metadata": {
    "collapsed": true
   },
   "outputs": [],
   "source": [
    "ev3M = Event([('M','M','M')],fam)\n",
    "ev3MatLeast1M = ev3M|evAtLeast1M"
   ]
  },
  {
   "cell_type": "code",
   "execution_count": 11,
   "metadata": {
    "collapsed": false
   },
   "outputs": [
    {
     "name": "stdout",
     "output_type": "stream",
     "text": [
      "Probability: 0.125 ( 1/8 )\n"
     ]
    }
   ],
   "source": [
    "ev3M.print_prob()"
   ]
  },
  {
   "cell_type": "markdown",
   "metadata": {},
   "source": [
    "## Experiment: 1 card"
   ]
  },
  {
   "cell_type": "code",
   "execution_count": 12,
   "metadata": {
    "collapsed": false
   },
   "outputs": [
    {
     "name": "stdout",
     "output_type": "stream",
     "text": [
      "----------------------------------------------------------------------------------------------------\n",
      "Population: {('Q', '♣'): 1, ('4', '♠'): 1, ('6', '♥'): 1, ('6', '♦'): 1, ('7', '♥'): 1, ('6', '♣'): 1, ('9', '♣'): 1, ('2', '♣'): 1, ('2', '♦'): 1, ('2', '♥'): 1, ('9', '♥'): 1, ('A', '♣'): 1, ('K', '♣'): 1, ('3', '♠'): 1, ('4', '♦'): 1, ('8', '♥'): 1, ('7', '♠'): 1, ('5', '♣'): 1, ('10', '♥'): 1, ('8', '♠'): 1, ('8', '♦'): 1, ('10', '♦'): 1, ('2', '♠'): 1, ('3', '♣'): 1, ('K', '♠'): 1, ('4', '♥'): 1, ('K', '♥'): 1, ('8', '♣'): 1, ('5', '♠'): 1, ('7', '♣'): 1, ('9', '♦'): 1, ('7', '♦'): 1, ('A', '♠'): 1, ('Q', '♠'): 1, ('9', '♠'): 1, ('4', '♣'): 1, ('A', '♦'): 1, ('Q', '♦'): 1, ('Q', '♥'): 1, ('J', '♠'): 1, ('6', '♠'): 1, ('J', '♥'): 1, ('5', '♥'): 1, ('3', '♥'): 1, ('5', '♦'): 1, ('J', '♣'): 1, ('J', '♦'): 1, ('10', '♠'): 1, ('3', '♦'): 1, ('10', '♣'): 1, ('K', '♦'): 1, ('A', '♥'): 1}\n",
      "Alphabet: [('A', '♥'), ('A', '♦'), ('A', '♠'), ('A', '♣'), ('2', '♥'), ('2', '♦'), ('2', '♠'), ('2', '♣'), ('3', '♥'), ('3', '♦'), ('3', '♠'), ('3', '♣'), ('4', '♥'), ('4', '♦'), ('4', '♠'), ('4', '♣'), ('5', '♥'), ('5', '♦'), ('5', '♠'), ('5', '♣'), ('6', '♥'), ('6', '♦'), ('6', '♠'), ('6', '♣'), ('7', '♥'), ('7', '♦'), ('7', '♠'), ('7', '♣'), ('8', '♥'), ('8', '♦'), ('8', '♠'), ('8', '♣'), ('9', '♥'), ('9', '♦'), ('9', '♠'), ('9', '♣'), ('10', '♥'), ('10', '♦'), ('10', '♠'), ('10', '♣'), ('J', '♥'), ('J', '♦'), ('J', '♠'), ('J', '♣'), ('Q', '♥'), ('Q', '♦'), ('Q', '♠'), ('Q', '♣'), ('K', '♥'), ('K', '♦'), ('K', '♠'), ('K', '♣')]\n",
      "Prior_prob: [ 0.01923077  0.01923077  0.01923077  0.01923077  0.01923077  0.01923077\n",
      "  0.01923077  0.01923077  0.01923077  0.01923077  0.01923077  0.01923077\n",
      "  0.01923077  0.01923077  0.01923077  0.01923077  0.01923077  0.01923077\n",
      "  0.01923077  0.01923077  0.01923077  0.01923077  0.01923077  0.01923077\n",
      "  0.01923077  0.01923077  0.01923077  0.01923077  0.01923077  0.01923077\n",
      "  0.01923077  0.01923077  0.01923077  0.01923077  0.01923077  0.01923077\n",
      "  0.01923077  0.01923077  0.01923077  0.01923077  0.01923077  0.01923077\n",
      "  0.01923077  0.01923077  0.01923077  0.01923077  0.01923077  0.01923077\n",
      "  0.01923077  0.01923077  0.01923077  0.01923077]\n",
      "Prior_prob_frac[1]: 1/52\n",
      "Prior_prob_frac[2]: 1/52\n",
      "Prior_prob_frac[3]: 1/52\n",
      "Prior_prob_frac[4]: 1/52\n",
      "Prior_prob_frac[5]: 1/52\n",
      "Prior_prob_frac[6]: 1/52\n",
      "Prior_prob_frac[7]: 1/52\n",
      "Prior_prob_frac[8]: 1/52\n",
      "Prior_prob_frac[9]: 1/52\n",
      "Prior_prob_frac[10]: 1/52\n",
      "Prior_prob_frac[11]: 1/52\n",
      "Prior_prob_frac[12]: 1/52\n",
      "Prior_prob_frac[13]: 1/52\n",
      "Prior_prob_frac[14]: 1/52\n",
      "Prior_prob_frac[15]: 1/52\n",
      "Prior_prob_frac[16]: 1/52\n",
      "Prior_prob_frac[17]: 1/52\n",
      "Prior_prob_frac[18]: 1/52\n",
      "Prior_prob_frac[19]: 1/52\n",
      "Prior_prob_frac[20]: 1/52\n",
      "Prior_prob_frac[21]: 1/52\n",
      "Prior_prob_frac[22]: 1/52\n",
      "Prior_prob_frac[23]: 1/52\n",
      "Prior_prob_frac[24]: 1/52\n",
      "Prior_prob_frac[25]: 1/52\n",
      "Prior_prob_frac[26]: 1/52\n",
      "Prior_prob_frac[27]: 1/52\n",
      "Prior_prob_frac[28]: 1/52\n",
      "Prior_prob_frac[29]: 1/52\n",
      "Prior_prob_frac[30]: 1/52\n",
      "Prior_prob_frac[31]: 1/52\n",
      "Prior_prob_frac[32]: 1/52\n",
      "Prior_prob_frac[33]: 1/52\n",
      "Prior_prob_frac[34]: 1/52\n",
      "Prior_prob_frac[35]: 1/52\n",
      "Prior_prob_frac[36]: 1/52\n",
      "Prior_prob_frac[37]: 1/52\n",
      "Prior_prob_frac[38]: 1/52\n",
      "Prior_prob_frac[39]: 1/52\n",
      "Prior_prob_frac[40]: 1/52\n",
      "Prior_prob_frac[41]: 1/52\n",
      "Prior_prob_frac[42]: 1/52\n",
      "Prior_prob_frac[43]: 1/52\n",
      "Prior_prob_frac[44]: 1/52\n",
      "Prior_prob_frac[45]: 1/52\n",
      "Prior_prob_frac[46]: 1/52\n",
      "Prior_prob_frac[47]: 1/52\n",
      "Prior_prob_frac[48]: 1/52\n",
      "Prior_prob_frac[49]: 1/52\n",
      "Prior_prob_frac[50]: 1/52\n",
      "Prior_prob_frac[51]: 1/52\n",
      "Prior_prob_frac[52]: 1/52\n",
      "N_outcomes: 52\n",
      "N_trials: None\n",
      "Post_prob: [ 0.  0.  0.  0.  0.  0.  0.  0.  0.  0.  0.  0.  0.  0.  0.  0.  0.  0.\n",
      "  0.  0.  0.  0.  0.  0.  0.  0.  0.  0.  0.  0.  0.  0.  0.  0.  0.  0.\n",
      "  0.  0.  0.  0.  0.  0.  0.  0.  0.  0.  0.  0.  0.  0.  0.  0.]\n",
      "Recursive exp: False\n",
      "Exp_dict:\n",
      "{('10', '♠'): {'post_prob': 0.0,\n",
      "               'prior_prob': 0.019230769230769228,\n",
      "               'prior_prob_frac': Fraction(1, 52)},\n",
      " ('10', '♣'): {'post_prob': 0.0,\n",
      "               'prior_prob': 0.019230769230769228,\n",
      "               'prior_prob_frac': Fraction(1, 52)},\n",
      " ('10', '♥'): {'post_prob': 0.0,\n",
      "               'prior_prob': 0.019230769230769228,\n",
      "               'prior_prob_frac': Fraction(1, 52)},\n",
      " ('10', '♦'): {'post_prob': 0.0,\n",
      "               'prior_prob': 0.019230769230769228,\n",
      "               'prior_prob_frac': Fraction(1, 52)},\n",
      " ('2', '♠'): {'post_prob': 0.0,\n",
      "              'prior_prob': 0.019230769230769228,\n",
      "              'prior_prob_frac': Fraction(1, 52)},\n",
      " ('2', '♣'): {'post_prob': 0.0,\n",
      "              'prior_prob': 0.019230769230769228,\n",
      "              'prior_prob_frac': Fraction(1, 52)},\n",
      " ('2', '♥'): {'post_prob': 0.0,\n",
      "              'prior_prob': 0.019230769230769228,\n",
      "              'prior_prob_frac': Fraction(1, 52)},\n",
      " ('2', '♦'): {'post_prob': 0.0,\n",
      "              'prior_prob': 0.019230769230769228,\n",
      "              'prior_prob_frac': Fraction(1, 52)},\n",
      " ('3', '♠'): {'post_prob': 0.0,\n",
      "              'prior_prob': 0.019230769230769228,\n",
      "              'prior_prob_frac': Fraction(1, 52)},\n",
      " ('3', '♣'): {'post_prob': 0.0,\n",
      "              'prior_prob': 0.019230769230769228,\n",
      "              'prior_prob_frac': Fraction(1, 52)},\n",
      " ('3', '♥'): {'post_prob': 0.0,\n",
      "              'prior_prob': 0.019230769230769228,\n",
      "              'prior_prob_frac': Fraction(1, 52)},\n",
      " ('3', '♦'): {'post_prob': 0.0,\n",
      "              'prior_prob': 0.019230769230769228,\n",
      "              'prior_prob_frac': Fraction(1, 52)},\n",
      " ('4', '♠'): {'post_prob': 0.0,\n",
      "              'prior_prob': 0.019230769230769228,\n",
      "              'prior_prob_frac': Fraction(1, 52)},\n",
      " ('4', '♣'): {'post_prob': 0.0,\n",
      "              'prior_prob': 0.019230769230769228,\n",
      "              'prior_prob_frac': Fraction(1, 52)},\n",
      " ('4', '♥'): {'post_prob': 0.0,\n",
      "              'prior_prob': 0.019230769230769228,\n",
      "              'prior_prob_frac': Fraction(1, 52)},\n",
      " ('4', '♦'): {'post_prob': 0.0,\n",
      "              'prior_prob': 0.019230769230769228,\n",
      "              'prior_prob_frac': Fraction(1, 52)},\n",
      " ('5', '♠'): {'post_prob': 0.0,\n",
      "              'prior_prob': 0.019230769230769228,\n",
      "              'prior_prob_frac': Fraction(1, 52)},\n",
      " ('5', '♣'): {'post_prob': 0.0,\n",
      "              'prior_prob': 0.019230769230769228,\n",
      "              'prior_prob_frac': Fraction(1, 52)},\n",
      " ('5', '♥'): {'post_prob': 0.0,\n",
      "              'prior_prob': 0.019230769230769228,\n",
      "              'prior_prob_frac': Fraction(1, 52)},\n",
      " ('5', '♦'): {'post_prob': 0.0,\n",
      "              'prior_prob': 0.019230769230769228,\n",
      "              'prior_prob_frac': Fraction(1, 52)},\n",
      " ('6', '♠'): {'post_prob': 0.0,\n",
      "              'prior_prob': 0.019230769230769228,\n",
      "              'prior_prob_frac': Fraction(1, 52)},\n",
      " ('6', '♣'): {'post_prob': 0.0,\n",
      "              'prior_prob': 0.019230769230769228,\n",
      "              'prior_prob_frac': Fraction(1, 52)},\n",
      " ('6', '♥'): {'post_prob': 0.0,\n",
      "              'prior_prob': 0.019230769230769228,\n",
      "              'prior_prob_frac': Fraction(1, 52)},\n",
      " ('6', '♦'): {'post_prob': 0.0,\n",
      "              'prior_prob': 0.019230769230769228,\n",
      "              'prior_prob_frac': Fraction(1, 52)},\n",
      " ('7', '♠'): {'post_prob': 0.0,\n",
      "              'prior_prob': 0.019230769230769228,\n",
      "              'prior_prob_frac': Fraction(1, 52)},\n",
      " ('7', '♣'): {'post_prob': 0.0,\n",
      "              'prior_prob': 0.019230769230769228,\n",
      "              'prior_prob_frac': Fraction(1, 52)},\n",
      " ('7', '♥'): {'post_prob': 0.0,\n",
      "              'prior_prob': 0.019230769230769228,\n",
      "              'prior_prob_frac': Fraction(1, 52)},\n",
      " ('7', '♦'): {'post_prob': 0.0,\n",
      "              'prior_prob': 0.019230769230769228,\n",
      "              'prior_prob_frac': Fraction(1, 52)},\n",
      " ('8', '♠'): {'post_prob': 0.0,\n",
      "              'prior_prob': 0.019230769230769228,\n",
      "              'prior_prob_frac': Fraction(1, 52)},\n",
      " ('8', '♣'): {'post_prob': 0.0,\n",
      "              'prior_prob': 0.019230769230769228,\n",
      "              'prior_prob_frac': Fraction(1, 52)},\n",
      " ('8', '♥'): {'post_prob': 0.0,\n",
      "              'prior_prob': 0.019230769230769228,\n",
      "              'prior_prob_frac': Fraction(1, 52)},\n",
      " ('8', '♦'): {'post_prob': 0.0,\n",
      "              'prior_prob': 0.019230769230769228,\n",
      "              'prior_prob_frac': Fraction(1, 52)},\n",
      " ('9', '♠'): {'post_prob': 0.0,\n",
      "              'prior_prob': 0.019230769230769228,\n",
      "              'prior_prob_frac': Fraction(1, 52)},\n",
      " ('9', '♣'): {'post_prob': 0.0,\n",
      "              'prior_prob': 0.019230769230769228,\n",
      "              'prior_prob_frac': Fraction(1, 52)},\n",
      " ('9', '♥'): {'post_prob': 0.0,\n",
      "              'prior_prob': 0.019230769230769228,\n",
      "              'prior_prob_frac': Fraction(1, 52)},\n",
      " ('9', '♦'): {'post_prob': 0.0,\n",
      "              'prior_prob': 0.019230769230769228,\n",
      "              'prior_prob_frac': Fraction(1, 52)},\n",
      " ('A', '♠'): {'post_prob': 0.0,\n",
      "              'prior_prob': 0.019230769230769228,\n",
      "              'prior_prob_frac': Fraction(1, 52)},\n",
      " ('A', '♣'): {'post_prob': 0.0,\n",
      "              'prior_prob': 0.019230769230769228,\n",
      "              'prior_prob_frac': Fraction(1, 52)},\n",
      " ('A', '♥'): {'post_prob': 0.0,\n",
      "              'prior_prob': 0.019230769230769228,\n",
      "              'prior_prob_frac': Fraction(1, 52)},\n",
      " ('A', '♦'): {'post_prob': 0.0,\n",
      "              'prior_prob': 0.019230769230769228,\n",
      "              'prior_prob_frac': Fraction(1, 52)},\n",
      " ('J', '♠'): {'post_prob': 0.0,\n",
      "              'prior_prob': 0.019230769230769228,\n",
      "              'prior_prob_frac': Fraction(1, 52)},\n",
      " ('J', '♣'): {'post_prob': 0.0,\n",
      "              'prior_prob': 0.019230769230769228,\n",
      "              'prior_prob_frac': Fraction(1, 52)},\n",
      " ('J', '♥'): {'post_prob': 0.0,\n",
      "              'prior_prob': 0.019230769230769228,\n",
      "              'prior_prob_frac': Fraction(1, 52)},\n",
      " ('J', '♦'): {'post_prob': 0.0,\n",
      "              'prior_prob': 0.019230769230769228,\n",
      "              'prior_prob_frac': Fraction(1, 52)},\n",
      " ('K', '♠'): {'post_prob': 0.0,\n",
      "              'prior_prob': 0.019230769230769228,\n",
      "              'prior_prob_frac': Fraction(1, 52)},\n",
      " ('K', '♣'): {'post_prob': 0.0,\n",
      "              'prior_prob': 0.019230769230769228,\n",
      "              'prior_prob_frac': Fraction(1, 52)},\n",
      " ('K', '♥'): {'post_prob': 0.0,\n",
      "              'prior_prob': 0.019230769230769228,\n",
      "              'prior_prob_frac': Fraction(1, 52)},\n",
      " ('K', '♦'): {'post_prob': 0.0,\n",
      "              'prior_prob': 0.019230769230769228,\n",
      "              'prior_prob_frac': Fraction(1, 52)},\n",
      " ('Q', '♠'): {'post_prob': 0.0,\n",
      "              'prior_prob': 0.019230769230769228,\n",
      "              'prior_prob_frac': Fraction(1, 52)},\n",
      " ('Q', '♣'): {'post_prob': 0.0,\n",
      "              'prior_prob': 0.019230769230769228,\n",
      "              'prior_prob_frac': Fraction(1, 52)},\n",
      " ('Q', '♥'): {'post_prob': 0.0,\n",
      "              'prior_prob': 0.019230769230769228,\n",
      "              'prior_prob_frac': Fraction(1, 52)},\n",
      " ('Q', '♦'): {'post_prob': 0.0,\n",
      "              'prior_prob': 0.019230769230769228,\n",
      "              'prior_prob_frac': Fraction(1, 52)}}\n",
      "\n"
     ]
    }
   ],
   "source": [
    "exp_cards = PExp(alphabet=['A','2','3','4','5','6','7','8','9','10','J','Q','K'])\n",
    "exp_suits = PExp(alphabet=['♥','♦','♠','♣'])\n",
    "exp_deck = exp_cards * exp_suits\n",
    "exp_deck.info()"
   ]
  },
  {
   "cell_type": "markdown",
   "metadata": {},
   "source": [
    "### Event 1: Heart"
   ]
  },
  {
   "cell_type": "code",
   "execution_count": 13,
   "metadata": {
    "collapsed": false
   },
   "outputs": [
    {
     "name": "stdout",
     "output_type": "stream",
     "text": [
      "[('A', '♥'), ('2', '♥'), ('3', '♥'), ('4', '♥'), ('5', '♥'), ('6', '♥'), ('7', '♥'), ('8', '♥'), ('9', '♥'), ('10', '♥'), ('J', '♥'), ('Q', '♥'), ('K', '♥')]: 0.25\n",
      "Probability: 0.25 ( 1/4 )\n"
     ]
    }
   ],
   "source": [
    "e1 = Event([('*','♥')],exp_deck)\n",
    "print(e1)\n",
    "e1.print_prob()"
   ]
  },
  {
   "cell_type": "markdown",
   "metadata": {},
   "source": [
    "### Event 2: Jack"
   ]
  },
  {
   "cell_type": "code",
   "execution_count": 14,
   "metadata": {
    "collapsed": false
   },
   "outputs": [
    {
     "name": "stdout",
     "output_type": "stream",
     "text": [
      "[('J', '♥'), ('J', '♦'), ('J', '♠'), ('J', '♣')]: 0.0769230769231\n",
      "Probability: 0.0769230769231 ( 1/13 )\n"
     ]
    }
   ],
   "source": [
    "e2 = Event([('J','*')],exp_deck)\n",
    "print(e2)\n",
    "e2.print_prob()"
   ]
  },
  {
   "cell_type": "markdown",
   "metadata": {},
   "source": [
    "### Event 3: Jack given that a Heart card is withdrawed"
   ]
  },
  {
   "cell_type": "code",
   "execution_count": 15,
   "metadata": {
    "collapsed": false
   },
   "outputs": [
    {
     "name": "stdout",
     "output_type": "stream",
     "text": [
      "[('J', '♥')]: 0.0769230769231\n",
      "Probability: 0.0769230769231 ( 1/13 )\n"
     ]
    }
   ],
   "source": [
    "e3 = e2|e1\n",
    "print(e3)\n",
    "e3.print_prob()"
   ]
  },
  {
   "cell_type": "markdown",
   "metadata": {},
   "source": [
    "### Event 4: Heart given that a Jack is withdrawed"
   ]
  },
  {
   "cell_type": "code",
   "execution_count": 16,
   "metadata": {
    "collapsed": false
   },
   "outputs": [
    {
     "name": "stdout",
     "output_type": "stream",
     "text": [
      "[('J', '♥')]: 0.25\n",
      "Probability: 0.25 ( 1/4 )\n"
     ]
    }
   ],
   "source": [
    "e4 = e1|e2\n",
    "print(e4)\n",
    "e4.print_prob()"
   ]
  },
  {
   "cell_type": "markdown",
   "metadata": {},
   "source": [
    "## Experiment: 4 cards"
   ]
  },
  {
   "cell_type": "code",
   "execution_count": 17,
   "metadata": {
    "collapsed": false
   },
   "outputs": [
    {
     "name": "stdout",
     "output_type": "stream",
     "text": [
      "----------------------------------------------------------------------------------------------------\n",
      "Population: {('Q', '♣'): 1, ('4', '♠'): 1, ('6', '♥'): 1, ('6', '♦'): 1, ('7', '♥'): 1, ('6', '♣'): 1, ('9', '♣'): 1, ('2', '♣'): 1, ('2', '♦'): 1, ('2', '♥'): 1, ('9', '♥'): 1, ('A', '♣'): 1, ('K', '♣'): 1, ('3', '♠'): 1, ('4', '♦'): 1, ('8', '♥'): 1, ('7', '♠'): 1, ('5', '♣'): 1, ('10', '♥'): 1, ('8', '♠'): 1, ('8', '♦'): 1, ('10', '♦'): 1, ('2', '♠'): 1, ('3', '♣'): 1, ('K', '♠'): 1, ('4', '♥'): 1, ('K', '♥'): 1, ('8', '♣'): 1, ('5', '♠'): 1, ('7', '♣'): 1, ('9', '♦'): 1, ('7', '♦'): 1, ('A', '♠'): 1, ('Q', '♠'): 1, ('9', '♠'): 1, ('4', '♣'): 1, ('A', '♦'): 1, ('Q', '♦'): 1, ('Q', '♥'): 1, ('J', '♠'): 1, ('6', '♠'): 1, ('J', '♥'): 1, ('5', '♥'): 1, ('3', '♥'): 1, ('5', '♦'): 1, ('J', '♣'): 1, ('J', '♦'): 1, ('10', '♠'): 1, ('3', '♦'): 1, ('10', '♣'): 1, ('K', '♦'): 1, ('A', '♥'): 1}\n",
      "Alphabet: [('A', '♥'), ('A', '♦'), ('A', '♠'), ('A', '♣'), ('2', '♥'), ('2', '♦'), ('2', '♠'), ('2', '♣'), ('3', '♥'), ('3', '♦'), ('3', '♠'), ('3', '♣'), ('4', '♥'), ('4', '♦'), ('4', '♠'), ('4', '♣'), ('5', '♥'), ('5', '♦'), ('5', '♠'), ('5', '♣'), ('6', '♥'), ('6', '♦'), ('6', '♠'), ('6', '♣'), ('7', '♥'), ('7', '♦'), ('7', '♠'), ('7', '♣'), ('8', '♥'), ('8', '♦'), ('8', '♠'), ('8', '♣'), ('9', '♥'), ('9', '♦'), ('9', '♠'), ('9', '♣'), ('10', '♥'), ('10', '♦'), ('10', '♠'), ('10', '♣'), ('J', '♥'), ('J', '♦'), ('J', '♠'), ('J', '♣'), ('Q', '♥'), ('Q', '♦'), ('Q', '♠'), ('Q', '♣'), ('K', '♥'), ('K', '♦'), ('K', '♠'), ('K', '♣')]\n",
      "Prior_prob: [ 0.01923077  0.01923077  0.01923077  0.01923077  0.01923077  0.01923077\n",
      "  0.01923077  0.01923077  0.01923077  0.01923077  0.01923077  0.01923077\n",
      "  0.01923077  0.01923077  0.01923077  0.01923077  0.01923077  0.01923077\n",
      "  0.01923077  0.01923077  0.01923077  0.01923077  0.01923077  0.01923077\n",
      "  0.01923077  0.01923077  0.01923077  0.01923077  0.01923077  0.01923077\n",
      "  0.01923077  0.01923077  0.01923077  0.01923077  0.01923077  0.01923077\n",
      "  0.01923077  0.01923077  0.01923077  0.01923077  0.01923077  0.01923077\n",
      "  0.01923077  0.01923077  0.01923077  0.01923077  0.01923077  0.01923077\n",
      "  0.01923077  0.01923077  0.01923077  0.01923077]\n",
      "Prior_prob_frac[1]: 1/52\n",
      "Prior_prob_frac[2]: 1/52\n",
      "Prior_prob_frac[3]: 1/52\n",
      "Prior_prob_frac[4]: 1/52\n",
      "Prior_prob_frac[5]: 1/52\n",
      "Prior_prob_frac[6]: 1/52\n",
      "Prior_prob_frac[7]: 1/52\n",
      "Prior_prob_frac[8]: 1/52\n",
      "Prior_prob_frac[9]: 1/52\n",
      "Prior_prob_frac[10]: 1/52\n",
      "Prior_prob_frac[11]: 1/52\n",
      "Prior_prob_frac[12]: 1/52\n",
      "Prior_prob_frac[13]: 1/52\n",
      "Prior_prob_frac[14]: 1/52\n",
      "Prior_prob_frac[15]: 1/52\n",
      "Prior_prob_frac[16]: 1/52\n",
      "Prior_prob_frac[17]: 1/52\n",
      "Prior_prob_frac[18]: 1/52\n",
      "Prior_prob_frac[19]: 1/52\n",
      "Prior_prob_frac[20]: 1/52\n",
      "Prior_prob_frac[21]: 1/52\n",
      "Prior_prob_frac[22]: 1/52\n",
      "Prior_prob_frac[23]: 1/52\n",
      "Prior_prob_frac[24]: 1/52\n",
      "Prior_prob_frac[25]: 1/52\n",
      "Prior_prob_frac[26]: 1/52\n",
      "Prior_prob_frac[27]: 1/52\n",
      "Prior_prob_frac[28]: 1/52\n",
      "Prior_prob_frac[29]: 1/52\n",
      "Prior_prob_frac[30]: 1/52\n",
      "Prior_prob_frac[31]: 1/52\n",
      "Prior_prob_frac[32]: 1/52\n",
      "Prior_prob_frac[33]: 1/52\n",
      "Prior_prob_frac[34]: 1/52\n",
      "Prior_prob_frac[35]: 1/52\n",
      "Prior_prob_frac[36]: 1/52\n",
      "Prior_prob_frac[37]: 1/52\n",
      "Prior_prob_frac[38]: 1/52\n",
      "Prior_prob_frac[39]: 1/52\n",
      "Prior_prob_frac[40]: 1/52\n",
      "Prior_prob_frac[41]: 1/52\n",
      "Prior_prob_frac[42]: 1/52\n",
      "Prior_prob_frac[43]: 1/52\n",
      "Prior_prob_frac[44]: 1/52\n",
      "Prior_prob_frac[45]: 1/52\n",
      "Prior_prob_frac[46]: 1/52\n",
      "Prior_prob_frac[47]: 1/52\n",
      "Prior_prob_frac[48]: 1/52\n",
      "Prior_prob_frac[49]: 1/52\n",
      "Prior_prob_frac[50]: 1/52\n",
      "Prior_prob_frac[51]: 1/52\n",
      "Prior_prob_frac[52]: 1/52\n",
      "N_outcomes: 52\n",
      "N_trials: None\n",
      "Post_prob: [ 0.  0.  0.  0.  0.  0.  0.  0.  0.  0.  0.  0.  0.  0.  0.  0.  0.  0.\n",
      "  0.  0.  0.  0.  0.  0.  0.  0.  0.  0.  0.  0.  0.  0.  0.  0.  0.  0.\n",
      "  0.  0.  0.  0.  0.  0.  0.  0.  0.  0.  0.  0.  0.  0.  0.  0.]\n",
      "Recursive exp: True\n",
      "Exp_dict:\n",
      "{('10', '♠'): {'post_prob': 0.0,\n",
      "               'prior_prob': 0.019230769230769228,\n",
      "               'prior_prob_frac': Fraction(1, 52)},\n",
      " ('10', '♣'): {'post_prob': 0.0,\n",
      "               'prior_prob': 0.019230769230769228,\n",
      "               'prior_prob_frac': Fraction(1, 52)},\n",
      " ('10', '♥'): {'post_prob': 0.0,\n",
      "               'prior_prob': 0.019230769230769228,\n",
      "               'prior_prob_frac': Fraction(1, 52)},\n",
      " ('10', '♦'): {'post_prob': 0.0,\n",
      "               'prior_prob': 0.019230769230769228,\n",
      "               'prior_prob_frac': Fraction(1, 52)},\n",
      " ('2', '♠'): {'post_prob': 0.0,\n",
      "              'prior_prob': 0.019230769230769228,\n",
      "              'prior_prob_frac': Fraction(1, 52)},\n",
      " ('2', '♣'): {'post_prob': 0.0,\n",
      "              'prior_prob': 0.019230769230769228,\n",
      "              'prior_prob_frac': Fraction(1, 52)},\n",
      " ('2', '♥'): {'post_prob': 0.0,\n",
      "              'prior_prob': 0.019230769230769228,\n",
      "              'prior_prob_frac': Fraction(1, 52)},\n",
      " ('2', '♦'): {'post_prob': 0.0,\n",
      "              'prior_prob': 0.019230769230769228,\n",
      "              'prior_prob_frac': Fraction(1, 52)},\n",
      " ('3', '♠'): {'post_prob': 0.0,\n",
      "              'prior_prob': 0.019230769230769228,\n",
      "              'prior_prob_frac': Fraction(1, 52)},\n",
      " ('3', '♣'): {'post_prob': 0.0,\n",
      "              'prior_prob': 0.019230769230769228,\n",
      "              'prior_prob_frac': Fraction(1, 52)},\n",
      " ('3', '♥'): {'post_prob': 0.0,\n",
      "              'prior_prob': 0.019230769230769228,\n",
      "              'prior_prob_frac': Fraction(1, 52)},\n",
      " ('3', '♦'): {'post_prob': 0.0,\n",
      "              'prior_prob': 0.019230769230769228,\n",
      "              'prior_prob_frac': Fraction(1, 52)},\n",
      " ('4', '♠'): {'post_prob': 0.0,\n",
      "              'prior_prob': 0.019230769230769228,\n",
      "              'prior_prob_frac': Fraction(1, 52)},\n",
      " ('4', '♣'): {'post_prob': 0.0,\n",
      "              'prior_prob': 0.019230769230769228,\n",
      "              'prior_prob_frac': Fraction(1, 52)},\n",
      " ('4', '♥'): {'post_prob': 0.0,\n",
      "              'prior_prob': 0.019230769230769228,\n",
      "              'prior_prob_frac': Fraction(1, 52)},\n",
      " ('4', '♦'): {'post_prob': 0.0,\n",
      "              'prior_prob': 0.019230769230769228,\n",
      "              'prior_prob_frac': Fraction(1, 52)},\n",
      " ('5', '♠'): {'post_prob': 0.0,\n",
      "              'prior_prob': 0.019230769230769228,\n",
      "              'prior_prob_frac': Fraction(1, 52)},\n",
      " ('5', '♣'): {'post_prob': 0.0,\n",
      "              'prior_prob': 0.019230769230769228,\n",
      "              'prior_prob_frac': Fraction(1, 52)},\n",
      " ('5', '♥'): {'post_prob': 0.0,\n",
      "              'prior_prob': 0.019230769230769228,\n",
      "              'prior_prob_frac': Fraction(1, 52)},\n",
      " ('5', '♦'): {'post_prob': 0.0,\n",
      "              'prior_prob': 0.019230769230769228,\n",
      "              'prior_prob_frac': Fraction(1, 52)},\n",
      " ('6', '♠'): {'post_prob': 0.0,\n",
      "              'prior_prob': 0.019230769230769228,\n",
      "              'prior_prob_frac': Fraction(1, 52)},\n",
      " ('6', '♣'): {'post_prob': 0.0,\n",
      "              'prior_prob': 0.019230769230769228,\n",
      "              'prior_prob_frac': Fraction(1, 52)},\n",
      " ('6', '♥'): {'post_prob': 0.0,\n",
      "              'prior_prob': 0.019230769230769228,\n",
      "              'prior_prob_frac': Fraction(1, 52)},\n",
      " ('6', '♦'): {'post_prob': 0.0,\n",
      "              'prior_prob': 0.019230769230769228,\n",
      "              'prior_prob_frac': Fraction(1, 52)},\n",
      " ('7', '♠'): {'post_prob': 0.0,\n",
      "              'prior_prob': 0.019230769230769228,\n",
      "              'prior_prob_frac': Fraction(1, 52)},\n",
      " ('7', '♣'): {'post_prob': 0.0,\n",
      "              'prior_prob': 0.019230769230769228,\n",
      "              'prior_prob_frac': Fraction(1, 52)},\n",
      " ('7', '♥'): {'post_prob': 0.0,\n",
      "              'prior_prob': 0.019230769230769228,\n",
      "              'prior_prob_frac': Fraction(1, 52)},\n",
      " ('7', '♦'): {'post_prob': 0.0,\n",
      "              'prior_prob': 0.019230769230769228,\n",
      "              'prior_prob_frac': Fraction(1, 52)},\n",
      " ('8', '♠'): {'post_prob': 0.0,\n",
      "              'prior_prob': 0.019230769230769228,\n",
      "              'prior_prob_frac': Fraction(1, 52)},\n",
      " ('8', '♣'): {'post_prob': 0.0,\n",
      "              'prior_prob': 0.019230769230769228,\n",
      "              'prior_prob_frac': Fraction(1, 52)},\n",
      " ('8', '♥'): {'post_prob': 0.0,\n",
      "              'prior_prob': 0.019230769230769228,\n",
      "              'prior_prob_frac': Fraction(1, 52)},\n",
      " ('8', '♦'): {'post_prob': 0.0,\n",
      "              'prior_prob': 0.019230769230769228,\n",
      "              'prior_prob_frac': Fraction(1, 52)},\n",
      " ('9', '♠'): {'post_prob': 0.0,\n",
      "              'prior_prob': 0.019230769230769228,\n",
      "              'prior_prob_frac': Fraction(1, 52)},\n",
      " ('9', '♣'): {'post_prob': 0.0,\n",
      "              'prior_prob': 0.019230769230769228,\n",
      "              'prior_prob_frac': Fraction(1, 52)},\n",
      " ('9', '♥'): {'post_prob': 0.0,\n",
      "              'prior_prob': 0.019230769230769228,\n",
      "              'prior_prob_frac': Fraction(1, 52)},\n",
      " ('9', '♦'): {'post_prob': 0.0,\n",
      "              'prior_prob': 0.019230769230769228,\n",
      "              'prior_prob_frac': Fraction(1, 52)},\n",
      " ('A', '♠'): {'post_prob': 0.0,\n",
      "              'prior_prob': 0.019230769230769228,\n",
      "              'prior_prob_frac': Fraction(1, 52)},\n",
      " ('A', '♣'): {'post_prob': 0.0,\n",
      "              'prior_prob': 0.019230769230769228,\n",
      "              'prior_prob_frac': Fraction(1, 52)},\n",
      " ('A', '♥'): {'post_prob': 0.0,\n",
      "              'prior_prob': 0.019230769230769228,\n",
      "              'prior_prob_frac': Fraction(1, 52)},\n",
      " ('A', '♦'): {'post_prob': 0.0,\n",
      "              'prior_prob': 0.019230769230769228,\n",
      "              'prior_prob_frac': Fraction(1, 52)},\n",
      " ('J', '♠'): {'post_prob': 0.0,\n",
      "              'prior_prob': 0.019230769230769228,\n",
      "              'prior_prob_frac': Fraction(1, 52)},\n",
      " ('J', '♣'): {'post_prob': 0.0,\n",
      "              'prior_prob': 0.019230769230769228,\n",
      "              'prior_prob_frac': Fraction(1, 52)},\n",
      " ('J', '♥'): {'post_prob': 0.0,\n",
      "              'prior_prob': 0.019230769230769228,\n",
      "              'prior_prob_frac': Fraction(1, 52)},\n",
      " ('J', '♦'): {'post_prob': 0.0,\n",
      "              'prior_prob': 0.019230769230769228,\n",
      "              'prior_prob_frac': Fraction(1, 52)},\n",
      " ('K', '♠'): {'post_prob': 0.0,\n",
      "              'prior_prob': 0.019230769230769228,\n",
      "              'prior_prob_frac': Fraction(1, 52)},\n",
      " ('K', '♣'): {'post_prob': 0.0,\n",
      "              'prior_prob': 0.019230769230769228,\n",
      "              'prior_prob_frac': Fraction(1, 52)},\n",
      " ('K', '♥'): {'post_prob': 0.0,\n",
      "              'prior_prob': 0.019230769230769228,\n",
      "              'prior_prob_frac': Fraction(1, 52)},\n",
      " ('K', '♦'): {'post_prob': 0.0,\n",
      "              'prior_prob': 0.019230769230769228,\n",
      "              'prior_prob_frac': Fraction(1, 52)},\n",
      " ('Q', '♠'): {'post_prob': 0.0,\n",
      "              'prior_prob': 0.019230769230769228,\n",
      "              'prior_prob_frac': Fraction(1, 52)},\n",
      " ('Q', '♣'): {'post_prob': 0.0,\n",
      "              'prior_prob': 0.019230769230769228,\n",
      "              'prior_prob_frac': Fraction(1, 52)},\n",
      " ('Q', '♥'): {'post_prob': 0.0,\n",
      "              'prior_prob': 0.019230769230769228,\n",
      "              'prior_prob_frac': Fraction(1, 52)},\n",
      " ('Q', '♦'): {'post_prob': 0.0,\n",
      "              'prior_prob': 0.019230769230769228,\n",
      "              'prior_prob_frac': Fraction(1, 52)}}\n",
      "\n"
     ]
    }
   ],
   "source": [
    "exp_deck1 = exp_cards * exp_suits\n",
    "exp_deck1.set_recursive(True)\n",
    "exp_deck1.info()"
   ]
  },
  {
   "cell_type": "markdown",
   "metadata": {
    "collapsed": false
   },
   "source": [
    "### First card is Ace of Hearts"
   ]
  },
  {
   "cell_type": "code",
   "execution_count": 18,
   "metadata": {
    "collapsed": false
   },
   "outputs": [
    {
     "name": "stdout",
     "output_type": "stream",
     "text": [
      "[('A', '♥')]: 0.0192307692308\n",
      "Probability: 0.0192307692308 ( 1/52 )\n"
     ]
    }
   ],
   "source": [
    "e1 = Event([('A','♥')],exp_deck1)\n",
    "print(e1)\n",
    "e1.print_prob()"
   ]
  },
  {
   "cell_type": "markdown",
   "metadata": {
    "collapsed": false
   },
   "source": [
    "### Second card is Ace of Diamonds"
   ]
  },
  {
   "cell_type": "code",
   "execution_count": 19,
   "metadata": {
    "collapsed": false
   },
   "outputs": [
    {
     "name": "stdout",
     "output_type": "stream",
     "text": [
      "[('A', '♦')]: 0.0196078431373\n",
      "Probability: 0.0196078431373 ( 1/51 )\n"
     ]
    }
   ],
   "source": [
    "e2 = Event([('A','♦')],exp_deck1)\n",
    "print(e2)\n",
    "e2.print_prob()"
   ]
  },
  {
   "cell_type": "markdown",
   "metadata": {
    "collapsed": false
   },
   "source": [
    "### Third card is Ace of Spades"
   ]
  },
  {
   "cell_type": "code",
   "execution_count": 20,
   "metadata": {
    "collapsed": false
   },
   "outputs": [
    {
     "name": "stdout",
     "output_type": "stream",
     "text": [
      "[('A', '♠')]: 0.02\n",
      "Probability: 0.02 ( 1/50 )\n"
     ]
    }
   ],
   "source": [
    "e3 = Event([('A','♠')],exp_deck1)\n",
    "print(e3)\n",
    "e3.print_prob()"
   ]
  },
  {
   "cell_type": "markdown",
   "metadata": {
    "collapsed": false
   },
   "source": [
    "### Fourth card is Ace of Clubs"
   ]
  },
  {
   "cell_type": "code",
   "execution_count": 21,
   "metadata": {
    "collapsed": false
   },
   "outputs": [
    {
     "name": "stdout",
     "output_type": "stream",
     "text": [
      "[('A', '♣')]: 0.0204081632653\n",
      "Probability: 0.0204081632653 ( 1/49 )\n"
     ]
    }
   ],
   "source": [
    "e4 = Event([('A','♣')],exp_deck1)\n",
    "print(e4)\n",
    "e4.print_prob()"
   ]
  },
  {
   "cell_type": "markdown",
   "metadata": {
    "collapsed": false
   },
   "source": [
    "### Probability"
   ]
  },
  {
   "cell_type": "code",
   "execution_count": 22,
   "metadata": {
    "collapsed": false
   },
   "outputs": [
    {
     "data": {
      "text/plain": [
       "3.6937852063902476e-06"
      ]
     },
     "execution_count": 22,
     "metadata": {},
     "output_type": "execute_result"
    }
   ],
   "source": [
    "e1.prob * e2.prob * e3.prob * e4.prob * 4 * 3 * 2 * 1"
   ]
  },
  {
   "cell_type": "markdown",
   "metadata": {
    "collapsed": true
   },
   "source": [
    "## Experiment: box with black and white balls (recursive)"
   ]
  },
  {
   "cell_type": "code",
   "execution_count": 23,
   "metadata": {
    "collapsed": false
   },
   "outputs": [
    {
     "name": "stdout",
     "output_type": "stream",
     "text": [
      "----------------------------------------------------------------------------------------------------\n",
      "Population: {('B',): 25, ('W',): 75}\n",
      "Alphabet: [('W',), ('B',)]\n",
      "Prior_prob: [ 0.75  0.25]\n",
      "Prior_prob_frac[1]: 3/4\n",
      "Prior_prob_frac[2]: 1/4\n",
      "N_outcomes: 2\n",
      "N_trials: None\n",
      "Post_prob: [ 0.  0.]\n",
      "Recursive exp: True\n",
      "Exp_dict:\n",
      "{('B',): {'post_prob': 0.0,\n",
      "          'prior_prob': 0.25,\n",
      "          'prior_prob_frac': Fraction(1, 4)},\n",
      " ('W',): {'post_prob': 0.0,\n",
      "          'prior_prob': 0.75,\n",
      "          'prior_prob_frac': Fraction(3, 4)}}\n",
      "\n"
     ]
    }
   ],
   "source": [
    "expBW = PExp(population={'W':75,'B':25},rec=True)\n",
    "expBW.info()"
   ]
  },
  {
   "cell_type": "markdown",
   "metadata": {},
   "source": [
    "### Event: 1 white ball"
   ]
  },
  {
   "cell_type": "code",
   "execution_count": 24,
   "metadata": {
    "collapsed": false
   },
   "outputs": [
    {
     "name": "stdout",
     "output_type": "stream",
     "text": [
      "[('W',)]: 0.75\n",
      "Probability: 0.75 ( 3/4 )\n"
     ]
    }
   ],
   "source": [
    "eW = Event([('W',)],expBW)\n",
    "print(eW)\n",
    "eW.print_prob()"
   ]
  },
  {
   "cell_type": "code",
   "execution_count": 25,
   "metadata": {
    "collapsed": false,
    "scrolled": true
   },
   "outputs": [
    {
     "name": "stdout",
     "output_type": "stream",
     "text": [
      "----------------------------------------------------------------------------------------------------\n",
      "Population: {('B',): 25, ('W',): 74}\n",
      "Alphabet: [('W',), ('B',)]\n",
      "Prior_prob: [ 0.74747475  0.25252525]\n",
      "Prior_prob_frac[1]: 74/99\n",
      "Prior_prob_frac[2]: 25/99\n",
      "N_outcomes: 2\n",
      "N_trials: None\n",
      "Post_prob: [ 0.  0.]\n",
      "Recursive exp: True\n",
      "Exp_dict:\n",
      "{('B',): {'post_prob': 0.0,\n",
      "          'prior_prob': 0.25252525252525254,\n",
      "          'prior_prob_frac': Fraction(25, 99)},\n",
      " ('W',): {'post_prob': 0.0,\n",
      "          'prior_prob': 0.74747474747474751,\n",
      "          'prior_prob_frac': Fraction(74, 99)}}\n",
      "\n"
     ]
    }
   ],
   "source": [
    "expBW.info()"
   ]
  },
  {
   "cell_type": "markdown",
   "metadata": {},
   "source": [
    "### Event: 1 black ball"
   ]
  },
  {
   "cell_type": "code",
   "execution_count": 26,
   "metadata": {
    "collapsed": false
   },
   "outputs": [
    {
     "name": "stdout",
     "output_type": "stream",
     "text": [
      "----------------------------------------------------------------------------------------------------\n",
      "Population: {('B',): 25, ('W',): 75}\n",
      "Alphabet: [('W',), ('B',)]\n",
      "Prior_prob: [ 0.75  0.25]\n",
      "Prior_prob_frac[1]: 3/4\n",
      "Prior_prob_frac[2]: 1/4\n",
      "N_outcomes: 2\n",
      "N_trials: None\n",
      "Post_prob: [ 0.  0.]\n",
      "Recursive exp: True\n",
      "Exp_dict:\n",
      "{('B',): {'post_prob': 0.0,\n",
      "          'prior_prob': 0.25,\n",
      "          'prior_prob_frac': Fraction(1, 4)},\n",
      " ('W',): {'post_prob': 0.0,\n",
      "          'prior_prob': 0.75,\n",
      "          'prior_prob_frac': Fraction(3, 4)}}\n",
      "\n",
      "[('B',)]: 0.25\n",
      "Probability: 0.25 ( 1/4 )\n"
     ]
    }
   ],
   "source": [
    "expBW.reset_exp()\n",
    "expBW.info()\n",
    "eB = Event([('B',)],expBW)\n",
    "print(eB)\n",
    "eB.print_prob()"
   ]
  },
  {
   "cell_type": "code",
   "execution_count": 27,
   "metadata": {
    "collapsed": false,
    "scrolled": true
   },
   "outputs": [
    {
     "name": "stdout",
     "output_type": "stream",
     "text": [
      "----------------------------------------------------------------------------------------------------\n",
      "Population: {('B',): 24, ('W',): 75}\n",
      "Alphabet: [('W',), ('B',)]\n",
      "Prior_prob: [ 0.75757576  0.24242424]\n",
      "Prior_prob_frac[1]: 25/33\n",
      "Prior_prob_frac[2]: 8/33\n",
      "N_outcomes: 2\n",
      "N_trials: None\n",
      "Post_prob: [ 0.  0.]\n",
      "Recursive exp: True\n",
      "Exp_dict:\n",
      "{('B',): {'post_prob': 0.0,\n",
      "          'prior_prob': 0.24242424242424243,\n",
      "          'prior_prob_frac': Fraction(8, 33)},\n",
      " ('W',): {'post_prob': 0.0,\n",
      "          'prior_prob': 0.75757575757575757,\n",
      "          'prior_prob_frac': Fraction(25, 33)}}\n",
      "\n"
     ]
    }
   ],
   "source": [
    "expBW.info()"
   ]
  },
  {
   "cell_type": "markdown",
   "metadata": {
    "collapsed": true
   },
   "source": [
    "### Event: 1 white ball and 1 black ball"
   ]
  },
  {
   "cell_type": "code",
   "execution_count": 28,
   "metadata": {
    "collapsed": false
   },
   "outputs": [
    {
     "name": "stdout",
     "output_type": "stream",
     "text": [
      "Probability W: 0.75 ( 3/4 )\n",
      "----------------------------------------------------------------------------------------------------\n",
      "Population: {('B',): 25, ('W',): 74}\n",
      "Alphabet: [('W',), ('B',)]\n",
      "Prior_prob: [ 0.74747475  0.25252525]\n",
      "Prior_prob_frac[1]: 74/99\n",
      "Prior_prob_frac[2]: 25/99\n",
      "N_outcomes: 2\n",
      "N_trials: None\n",
      "Post_prob: [ 0.  0.]\n",
      "Recursive exp: True\n",
      "Exp_dict:\n",
      "{('B',): {'post_prob': 0.0,\n",
      "          'prior_prob': 0.25252525252525254,\n",
      "          'prior_prob_frac': Fraction(25, 99)},\n",
      " ('W',): {'post_prob': 0.0,\n",
      "          'prior_prob': 0.74747474747474751,\n",
      "          'prior_prob_frac': Fraction(74, 99)}}\n",
      "\n",
      "\n",
      "\n",
      "\n",
      "Probability B: 0.252525252525 ( 25/99 )\n",
      "----------------------------------------------------------------------------------------------------\n",
      "Population: {('B',): 24, ('W',): 74}\n",
      "Alphabet: [('W',), ('B',)]\n",
      "Prior_prob: [ 0.75510204  0.24489796]\n",
      "Prior_prob_frac[1]: 37/49\n",
      "Prior_prob_frac[2]: 12/49\n",
      "N_outcomes: 2\n",
      "N_trials: None\n",
      "Post_prob: [ 0.  0.]\n",
      "Recursive exp: True\n",
      "Exp_dict:\n",
      "{('B',): {'post_prob': 0.0,\n",
      "          'prior_prob': 0.24489795918367346,\n",
      "          'prior_prob_frac': Fraction(12, 49)},\n",
      " ('W',): {'post_prob': 0.0,\n",
      "          'prior_prob': 0.75510204081632648,\n",
      "          'prior_prob_frac': Fraction(37, 49)}}\n",
      "\n",
      "\n",
      "\n",
      "\n",
      "Probability WB: 0.189393939394 ( 25/132 )\n"
     ]
    }
   ],
   "source": [
    "expBW.reset_exp()\n",
    "eW = Event([('W',)],expBW)\n",
    "print('Probability W:',eW.prob,'(',Fraction(eW.prob).limit_denominator(1000),')')\n",
    "expBW.info()\n",
    "print('\\n\\n')\n",
    "eB = Event([('B',)],expBW)\n",
    "print('Probability B:',eB.prob,'(',Fraction(eB.prob).limit_denominator(1000),')')\n",
    "expBW.info()\n",
    "print('\\n\\n')\n",
    "print('Probability WB:',eW.prob * eB.prob,'(',Fraction(eW.prob * eB.prob).limit_denominator(1000),')')"
   ]
  },
  {
   "cell_type": "code",
   "execution_count": null,
   "metadata": {
    "collapsed": false
   },
   "outputs": [],
   "source": []
  },
  {
   "cell_type": "code",
   "execution_count": null,
   "metadata": {
    "collapsed": false
   },
   "outputs": [],
   "source": []
  },
  {
   "cell_type": "code",
   "execution_count": null,
   "metadata": {
    "collapsed": false
   },
   "outputs": [],
   "source": []
  },
  {
   "cell_type": "code",
   "execution_count": null,
   "metadata": {
    "collapsed": false
   },
   "outputs": [],
   "source": []
  },
  {
   "cell_type": "code",
   "execution_count": null,
   "metadata": {
    "collapsed": false
   },
   "outputs": [],
   "source": []
  },
  {
   "cell_type": "code",
   "execution_count": null,
   "metadata": {
    "collapsed": true
   },
   "outputs": [],
   "source": []
  }
 ],
 "metadata": {
  "kernelspec": {
   "display_name": "Python [default]",
   "language": "python",
   "name": "python3"
  },
  "language_info": {
   "codemirror_mode": {
    "name": "ipython",
    "version": 3
   },
   "file_extension": ".py",
   "mimetype": "text/x-python",
   "name": "python",
   "nbconvert_exporter": "python",
   "pygments_lexer": "ipython3",
   "version": "3.5.2"
  }
 },
 "nbformat": 4,
 "nbformat_minor": 2
}
