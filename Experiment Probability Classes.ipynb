{
 "cells": [
  {
   "cell_type": "code",
   "execution_count": 3,
   "metadata": {
    "collapsed": true
   },
   "outputs": [],
   "source": [
    "from PExp import *"
   ]
  },
  {
   "cell_type": "code",
   "execution_count": 4,
   "metadata": {
    "collapsed": false
   },
   "outputs": [
    {
     "name": "stdout",
     "output_type": "stream",
     "text": [
      "----------------------------------------------------------------------------------------------------\n",
      "Population: None\n",
      "Alphabet: [('1',), ('2',), ('3',), ('4',), ('5',), ('6',)]\n",
      "Prior_prob: [ 0.16666667  0.16666667  0.16666667  0.16666667  0.16666667  0.16666667]\n",
      "N_outcomes: 6\n",
      "N_trials: 6000\n",
      "Post_prob: [ 0.  0.  0.  0.  0.  0.]\n",
      "Exp_dict:\n",
      "{('1',): {'post_prob': 0.0, 'prior_prob': 0.16666666666666666},\n",
      " ('2',): {'post_prob': 0.0, 'prior_prob': 0.16666666666666666},\n",
      " ('3',): {'post_prob': 0.0, 'prior_prob': 0.16666666666666666},\n",
      " ('4',): {'post_prob': 0.0, 'prior_prob': 0.16666666666666666},\n",
      " ('5',): {'post_prob': 0.0, 'prior_prob': 0.16666666666666666},\n",
      " ('6',): {'post_prob': 0.0, 'prior_prob': 0.16666666666666666}}\n",
      "\n",
      "----------------------------------------------------------------------------------------------------\n",
      "Population: None\n",
      "Alphabet: [('T',), ('C',)]\n",
      "Prior_prob: [ 0.5  0.5]\n",
      "N_outcomes: 2\n",
      "N_trials: 2000\n",
      "Post_prob: [ 0.  0.]\n",
      "Exp_dict:\n",
      "{('C',): {'post_prob': 0.0, 'prior_prob': 0.5},\n",
      " ('T',): {'post_prob': 0.0, 'prior_prob': 0.5}}\n",
      "\n",
      "----------------------------------------------------------------------------------------------------\n",
      "Population: None\n",
      "Alphabet: [('1', 'T'), ('1', 'C'), ('2', 'T'), ('2', 'C'), ('3', 'T'), ('3', 'C'), ('4', 'T'), ('4', 'C'), ('5', 'T'), ('5', 'C'), ('6', 'T'), ('6', 'C')]\n",
      "Prior_prob: [ 0.08333333  0.08333333  0.08333333  0.08333333  0.08333333  0.08333333\n",
      "  0.08333333  0.08333333  0.08333333  0.08333333  0.08333333  0.08333333]\n",
      "N_outcomes: 12\n",
      "N_trials: 12000\n",
      "Post_prob: [ 0.  0.  0.  0.  0.  0.  0.  0.  0.  0.  0.  0.]\n",
      "Exp_dict:\n",
      "{('1', 'C'): {'post_prob': 0.0, 'prior_prob': 0.083333333333333329},\n",
      " ('1', 'T'): {'post_prob': 0.0, 'prior_prob': 0.083333333333333329},\n",
      " ('2', 'C'): {'post_prob': 0.0, 'prior_prob': 0.083333333333333329},\n",
      " ('2', 'T'): {'post_prob': 0.0, 'prior_prob': 0.083333333333333329},\n",
      " ('3', 'C'): {'post_prob': 0.0, 'prior_prob': 0.083333333333333329},\n",
      " ('3', 'T'): {'post_prob': 0.0, 'prior_prob': 0.083333333333333329},\n",
      " ('4', 'C'): {'post_prob': 0.0, 'prior_prob': 0.083333333333333329},\n",
      " ('4', 'T'): {'post_prob': 0.0, 'prior_prob': 0.083333333333333329},\n",
      " ('5', 'C'): {'post_prob': 0.0, 'prior_prob': 0.083333333333333329},\n",
      " ('5', 'T'): {'post_prob': 0.0, 'prior_prob': 0.083333333333333329},\n",
      " ('6', 'C'): {'post_prob': 0.0, 'prior_prob': 0.083333333333333329},\n",
      " ('6', 'T'): {'post_prob': 0.0, 'prior_prob': 0.083333333333333329}}\n",
      "\n",
      "----------------------------------------------------------------------------------------------------\n",
      "Population: None\n",
      "Alphabet: [('1', 'T'), ('1', 'C'), ('2', 'T'), ('2', 'C'), ('3', 'T'), ('3', 'C'), ('4', 'T'), ('4', 'C'), ('5', 'T'), ('5', 'C'), ('6', 'T'), ('6', 'C')]\n",
      "Prior_prob: [ 0.08333333  0.08333333  0.08333333  0.08333333  0.08333333  0.08333333\n",
      "  0.08333333  0.08333333  0.08333333  0.08333333  0.08333333  0.08333333]\n",
      "N_outcomes: 12\n",
      "N_trials: 10000\n",
      "Post_prob: [ 0.0835  0.0845  0.086   0.0814  0.0805  0.0819  0.0805  0.0841  0.0815\n",
      "  0.0844  0.0851  0.0866]\n",
      "Exp_dict:\n",
      "{('1', 'C'): {'post_prob': 0.084500000000000006,\n",
      "              'prior_prob': 0.083333333333333329},\n",
      " ('1', 'T'): {'post_prob': 0.083500000000000005,\n",
      "              'prior_prob': 0.083333333333333329},\n",
      " ('2', 'C'): {'post_prob': 0.081399999999999972,\n",
      "              'prior_prob': 0.083333333333333329},\n",
      " ('2', 'T'): {'post_prob': 0.085999999999999993,\n",
      "              'prior_prob': 0.083333333333333329},\n",
      " ('3', 'C'): {'post_prob': 0.081900000000000028,\n",
      "              'prior_prob': 0.083333333333333329},\n",
      " ('3', 'T'): {'post_prob': 0.080500000000000016,\n",
      "              'prior_prob': 0.083333333333333329},\n",
      " ('4', 'C'): {'post_prob': 0.084099999999999953,\n",
      "              'prior_prob': 0.083333333333333329},\n",
      " ('4', 'T'): {'post_prob': 0.080500000000000016,\n",
      "              'prior_prob': 0.083333333333333329},\n",
      " ('5', 'C'): {'post_prob': 0.084400000000000031,\n",
      "              'prior_prob': 0.083333333333333329},\n",
      " ('5', 'T'): {'post_prob': 0.081500000000000017,\n",
      "              'prior_prob': 0.083333333333333329},\n",
      " ('6', 'C'): {'post_prob': 0.08660000000000001,\n",
      "              'prior_prob': 0.083333333333333329},\n",
      " ('6', 'T'): {'post_prob': 0.085099999999999953,\n",
      "              'prior_prob': 0.083333333333333329}}\n",
      "\n"
     ]
    }
   ],
   "source": [
    "exp1 = PExp(6,population=['b','b','a','c','a','b','b','c'],prior_prob=[1,1],n_trials=50000)\n",
    "exp2 = PExp(6,population={'b':4,'c':2,'a':2},prior_prob=[1,1])\n",
    "exp3 = PExp(population=[('a','R'),('a','R'),('b','B'),('b','R')])\n",
    "exp4 = PExp(6,population=[('b',),('b',),('a',),('c',),('a',),('b',),('b',),('c',)],prior_prob=[1,1])\n",
    "exp5 = PExp(prior_prob=[1,2,1])\n",
    "exp6 = PExp(prior_prob=[1,2,1],alphabet=['a','b','c'])\n",
    "exp7 = PExp(prior_prob=[1,2,1],alphabet=[('a','0'),('b','1'),('c','2')])\n",
    "exp8 = PExp(alphabet=['a','b','c'])\n",
    "exp9 = PExp(4)\n",
    "#exp1.info()\n",
    "#exp2.info()\n",
    "#exp3.info()\n",
    "#exp4.info()\n",
    "#exp5.info()\n",
    "#exp6.info()\n",
    "#exp7.info()\n",
    "#exp8.info()\n",
    "#exp9.info()\n",
    "#exp1.info()\n",
    "#exp1.make_exp()\n",
    "#exp1.info()\n",
    "\n",
    "exp1 = PExp(6)\n",
    "exp2 = PExp(alphabet=['T','C'])\n",
    "exp1.info()\n",
    "exp2.info()\n",
    "exp3 = exp1*exp2\n",
    "exp3.info()\n",
    "exp3.make_exp(10000)\n",
    "exp3.info()"
   ]
  },
  {
   "cell_type": "code",
   "execution_count": null,
   "metadata": {
    "collapsed": false
   },
   "outputs": [],
   "source": [
    "exp_carte = PExp(alphabet=['A','2','3','4','5','6','7','8','9','J','Q','K'])\n",
    "exp_semi = PExp(alphabet=['C','Q','F','P'])\n",
    "exp_cartefrancesi = exp_carte * exp_semi\n",
    "exp_cartefrancesi.info()"
   ]
  },
  {
   "cell_type": "code",
   "execution_count": null,
   "metadata": {
    "collapsed": false
   },
   "outputs": [],
   "source": []
  },
  {
   "cell_type": "code",
   "execution_count": null,
   "metadata": {
    "collapsed": true
   },
   "outputs": [],
   "source": [
    "class Event():\n",
    "    def __init__(self,abc,exp):\n",
    "        if type(exp) != PExp:\n",
    "            raise TypeError('Exp must be a member of PExp class')\n",
    "            \n",
    "        if type(abc) != list:\n",
    "            raise TypeError('Elements must be a list')\n",
    "        \n",
    "        fle = [True]*len(exp.alphabet)\n",
    "        \n",
    "        self.exp = exp\n",
    "        \n",
    "        tabc = []\n",
    "        # Cicla su tutti gli elementi dell'evento\n",
    "        for el in abc:\n",
    "            if '*' not in el:\n",
    "                tabc.append(el)\n",
    "            else:\n",
    "                for k in range(len(el)):\n",
    "                    if el[k] != '*':\n",
    "                        for j in range(len(exp.alphabet)):\n",
    "                            if el[k] != exp.alphabet[j][k]:\n",
    "                                fle[j] = False\n",
    "                            \n",
    "                for k in range(len(fle)):\n",
    "                    if fle[k] == True:\n",
    "                        tabc.append(exp.alphabet[k])\n",
    "        \n",
    "        self.abc = []\n",
    "        for el in tabc:\n",
    "            if el in exp.alphabet:\n",
    "                self.abc.append(el)\n",
    "                        \n",
    "        self.prob = 0.0\n",
    "        for el in self.abc:\n",
    "            if el in exp.exp_dict:\n",
    "                self.prob += exp.exp_dict[el]['prior_prob']\n",
    "        \n",
    "        \n",
    "    def get_prob(self):\n",
    "        return self.prob\n",
    "        \n",
    "        \n",
    "        \n",
    "    def __neg__(self):\n",
    "        abctemp = []\n",
    "        for k in self.exp.alphabet:\n",
    "            if k not in self.abc:\n",
    "                abctemp.append(k)\n",
    "        return Event(abctemp,self.exp)\n",
    "    \n",
    "    def __add__(self,right):\n",
    "        if type(right) != Event:\n",
    "            raise TypeError('All the operands must be Event objects')\n",
    "        abctemp = list(set(self.abc + right.abc)) # Lists concatenation\n",
    "        abctemp.sort()\n",
    "        return Event(abctemp,self.exp)\n",
    "    \n",
    "    def __mul__(self,right):\n",
    "        if type(right) != Event:\n",
    "            raise TypeError('All the operands must be Event objects')\n",
    "        abctemp = []\n",
    "        for k in self.abc:\n",
    "            if k in right.abc:\n",
    "                abctemp.append(k)\n",
    "        return Event(abctemp,self.exp)\n",
    "    \n",
    "    def __or__(self,right):\n",
    "        if type(right) != Event:\n",
    "            raise TypeError('All the operands must be Event objects')\n",
    "        exptemp = PExp(alphabet=right.abc)\n",
    "        evtemp = Event(self.abc,exptemp)\n",
    "        return Event(evtemp.abc,exptemp)\n",
    "    \n",
    "    def __repr__(self):\n",
    "        return(str(self.abc)+': '+str(self.prob))\n",
    "    def __str__(self):\n",
    "        return(str(self.abc)+': '+str(self.prob))"
   ]
  },
  {
   "cell_type": "code",
   "execution_count": null,
   "metadata": {
    "collapsed": false
   },
   "outputs": [],
   "source": [
    "e1 = Event([('K','C'),('6','F')],exp_cartefrancesi)\n",
    "print(e1.get_prob())\n",
    "print(e1)\n",
    "Fraction(e1.get_prob()).limit_denominator(100)"
   ]
  },
  {
   "cell_type": "code",
   "execution_count": null,
   "metadata": {
    "collapsed": false
   },
   "outputs": [],
   "source": [
    "e2 = Event([('*','C')],exp_cartefrancesi)\n",
    "print(e2.get_prob())\n",
    "print(e2)\n",
    "Fraction(e2.get_prob()).limit_denominator(100)"
   ]
  },
  {
   "cell_type": "code",
   "execution_count": null,
   "metadata": {
    "collapsed": false
   },
   "outputs": [],
   "source": [
    "e3 = Event([('J','*')],exp_cartefrancesi)\n",
    "print(e3.get_prob())\n",
    "print(e3)\n",
    "Fraction(e3.get_prob()).limit_denominator(100)"
   ]
  },
  {
   "cell_type": "code",
   "execution_count": null,
   "metadata": {
    "collapsed": false
   },
   "outputs": [],
   "source": [
    "print((-e3).get_prob() + e3.get_prob())\n",
    "print(e3 + (-e3))"
   ]
  },
  {
   "cell_type": "code",
   "execution_count": null,
   "metadata": {
    "collapsed": false
   },
   "outputs": [],
   "source": [
    "e3|e2"
   ]
  },
  {
   "cell_type": "code",
   "execution_count": null,
   "metadata": {
    "collapsed": false
   },
   "outputs": [],
   "source": [
    "Fraction(0.0833333333333).limit_denominator(100)"
   ]
  },
  {
   "cell_type": "code",
   "execution_count": null,
   "metadata": {
    "collapsed": false
   },
   "outputs": [],
   "source": [
    "exptemp = PExp(alphabet=e2.abc)\n",
    "exptemp.info()\n",
    "evtemp = Event(e3.abc,exptemp)\n",
    "print(e3.abc)\n",
    "evtemp.abc\n",
    "#evtemp.prob"
   ]
  },
  {
   "cell_type": "code",
   "execution_count": null,
   "metadata": {
    "collapsed": false
   },
   "outputs": [],
   "source": []
  },
  {
   "cell_type": "code",
   "execution_count": null,
   "metadata": {
    "collapsed": false
   },
   "outputs": [],
   "source": []
  },
  {
   "cell_type": "code",
   "execution_count": 2,
   "metadata": {
    "collapsed": false
   },
   "outputs": [],
   "source": [
    "from PExp import *"
   ]
  },
  {
   "cell_type": "code",
   "execution_count": null,
   "metadata": {
    "collapsed": true
   },
   "outputs": [],
   "source": []
  }
 ],
 "metadata": {
  "kernelspec": {
   "display_name": "Python [default]",
   "language": "python",
   "name": "python3"
  },
  "language_info": {
   "codemirror_mode": {
    "name": "ipython",
    "version": 3
   },
   "file_extension": ".py",
   "mimetype": "text/x-python",
   "name": "python",
   "nbconvert_exporter": "python",
   "pygments_lexer": "ipython3",
   "version": "3.5.2"
  }
 },
 "nbformat": 4,
 "nbformat_minor": 2
}
