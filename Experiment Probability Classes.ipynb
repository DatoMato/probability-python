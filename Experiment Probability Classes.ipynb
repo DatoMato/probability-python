{
 "cells": [
  {
   "cell_type": "code",
   "execution_count": 1,
   "metadata": {
    "collapsed": true
   },
   "outputs": [],
   "source": [
    "import numpy as np\n",
    "import pprint\n",
    "from fractions import Fraction"
   ]
  },
  {
   "cell_type": "code",
   "execution_count": 2,
   "metadata": {
    "collapsed": false
   },
   "outputs": [],
   "source": [
    "class PExp():\n",
    "    \n",
    "    def __init__(self,*args,**kwargs):\n",
    "        # Population has the highest priority\n",
    "        if 'population' in kwargs:\n",
    "            # Population is a list\n",
    "            if type(kwargs['population']) == list:\n",
    "                # Create alphabet from population\n",
    "                self.alphabet = sorted(list(set(kwargs['population'])))\n",
    "                # Set alphabet items as tuples\n",
    "                for k in range(len(self.alphabet)):\n",
    "                    if type(self.alphabet[k]) != tuple:\n",
    "                        self.alphabet[k] = tuple(self.alphabet[k])\n",
    "                # Set n_outcomes\n",
    "                self.n_outcomes = len(self.alphabet)\n",
    "                # Set prior_prob\n",
    "                self.prior_prob = np.zeros(self.n_outcomes)\n",
    "                # Set population\n",
    "                self.population = dict.fromkeys(self.alphabet,0)\n",
    "                k = 0\n",
    "                for sym in self.alphabet:\n",
    "                    for s in kwargs['population']:\n",
    "                        if tuple(s) == sym:\n",
    "                            self.population[sym]+=1\n",
    "                            self.prior_prob[k]+=1\n",
    "                    k+=1\n",
    "                # Normalize prior_prob\n",
    "                self.prior_prob /= np.sum(self.prior_prob)\n",
    "            \n",
    "            # Population is a dictionary\n",
    "            elif type(kwargs['population']) == dict:\n",
    "                # Create alphabet from population\n",
    "                self.alphabet = sorted(kwargs['population'].keys())\n",
    "                # Set population\n",
    "                self.population = kwargs['population']\n",
    "                # Set n_outcomes\n",
    "                self.n_outcomes = len(self.alphabet)\n",
    "                # Set prior_prob\n",
    "                self.prior_prob = np.zeros(self.n_outcomes)\n",
    "                k=0\n",
    "                for sym in self.alphabet:\n",
    "                    self.prior_prob[k] = kwargs['population'][sym]\n",
    "                    k+=1\n",
    "                # Normalize prior_prob\n",
    "                self.prior_prob /= np.sum(self.prior_prob)\n",
    "                \n",
    "            # Population argument can be only a list or a dictionary: raising excpetion\n",
    "            else:\n",
    "                raise TypeError('Population must be a list or a dictionary')\n",
    "                \n",
    "        # If population is not present at input, build experiment with prior_prob\n",
    "        elif 'prior_prob' in kwargs:\n",
    "            # Set population to None\n",
    "            self.population = None\n",
    "            # If prior_prob argument is a list, transform to a numpy array\n",
    "            if type(kwargs['prior_prob']) == list:\n",
    "                self.prior_prob = np.array(kwargs['prior_prob'],dtype='float')\n",
    "            # prior_prob argument is a numpy array\n",
    "            elif isinstance(kwargs['prior_prob'],np.ndarray):\n",
    "                self.prior_prob = kwargs['prior_prob']\n",
    "            # Normalize prior_prob\n",
    "            self.prior_prob /= np.sum(self.prior_prob)\n",
    "            # Set n_outcomes\n",
    "            self.n_outcomes = len(self.prior_prob)\n",
    "            # If alphabet argument is present and is a list, set alphabet\n",
    "            if 'alphabet' in kwargs:\n",
    "                self.alphabet = []\n",
    "                if(len(kwargs['alphabet']) != self.n_outcomes):\n",
    "                    raise ValueError('Alphabet length must be equal to prior_prob length')\n",
    "                for a in kwargs['alphabet']:\n",
    "                    self.alphabet.append(tuple(a))\n",
    "            # If alphabet argument is not present, build an artificial alphabet (1,2,3,...)\n",
    "            else:\n",
    "                self.alphabet = []\n",
    "                for k in range(self.n_outcomes):\n",
    "                    self.alphabet.append(tuple()+(str(k+1),))\n",
    "                    #self.alphabet.append(tuple(k+1))\n",
    "                    #self.alphabet.append((k+1,))\n",
    "                    \n",
    "        # If neither population nor prior_prob are arguments, experiment is built by alphabet\n",
    "        elif 'alphabet' in kwargs:\n",
    "            # Set population to None\n",
    "            self.population = None\n",
    "            # Set alphabet\n",
    "            self.alphabet = []\n",
    "            for a in kwargs['alphabet']:\n",
    "                if type(a) == tuple:\n",
    "                    self.alphabet.append(a)\n",
    "                else:\n",
    "                    self.alphabet.append(tuple()+(a,))\n",
    "            # Set n_outcomes\n",
    "            self.n_outcomes = len(self.alphabet)\n",
    "            # Set prior_prob as uniform\n",
    "            self.prior_prob = np.ones(self.n_outcomes,dtype='float')/self.n_outcomes\n",
    "            \n",
    "        # If no arguments are present (population, prior_prob, alphabet), check if a single numeric\n",
    "        # value is passed: this is n_outcomes\n",
    "        else:\n",
    "            if len(args)>1:\n",
    "                raise AttributeError('PExp admits only one free argument as n_outcomes')\n",
    "            elif len(args)==1:\n",
    "                self.n_outcomes = args[0]\n",
    "            else:\n",
    "                self.n_outcomes = 2\n",
    "            self.population = None\n",
    "            self.prior_prob = np.ones(self.n_outcomes,dtype='float')/self.n_outcomes\n",
    "            self.alphabet = []\n",
    "            for k in range(self.n_outcomes):\n",
    "                self.alphabet.append(tuple()+(str(k+1),))\n",
    "                #self.alphabet.append(tuple(k+1))\n",
    "                #self.alphabet.append((k+1,))\n",
    "                \n",
    "        if 'n_trials' in kwargs:\n",
    "            self.n_trials = kwargs['n_trials']\n",
    "        else:\n",
    "            self.n_trials = 1000*self.n_outcomes\n",
    "        \n",
    "        # Initialize post_prob\n",
    "        self.post_prob = np.zeros(len(self.prior_prob))\n",
    "        \n",
    "        # Make experiment dictionary\n",
    "        self.exp_dict = {}\n",
    "        for k in range(self.n_outcomes):\n",
    "            self.exp_dict[self.alphabet[k]] = {'prior_prob':self.prior_prob[k],'post_prob':self.post_prob[k]}\n",
    "            \n",
    "    \n",
    "    def info(self):\n",
    "        print('-'*100)\n",
    "        print('Population: {}'.format(self.population))\n",
    "        print('Alphabet: {}'.format(self.alphabet))\n",
    "        print('Prior_prob: {}'.format(self.prior_prob))\n",
    "        print('N_outcomes: {}'.format(self.n_outcomes))\n",
    "        print('N_trials: {}'.format(self.n_trials))\n",
    "        print('Post_prob: {}'.format(self.post_prob))\n",
    "        print('Exp_dict:')\n",
    "        pprint.pprint(self.exp_dict)\n",
    "        print()\n",
    "        \n",
    "    def make_exp(self,*args):\n",
    "        if len(args)==1:\n",
    "            self.n_trials = args[0]\n",
    "        unif = np.random.uniform(size=self.n_trials)\n",
    "        csp = np.cumsum(self.prior_prob)\n",
    "        p0=0.0\n",
    "        for k in range(self.n_outcomes):\n",
    "            self.post_prob[k] = np.sum(csp[k] > unif)/self.n_trials - p0\n",
    "            p0 += self.post_prob[k]\n",
    "            self.exp_dict[self.alphabet[k]]['post_prob'] = self.post_prob[k]\n",
    "    \n",
    "    def __mul__(self,right):\n",
    "        if type(right) != PExp:\n",
    "            raise TypeError('All the operands must be PExp objects')\n",
    "        alphabet = []\n",
    "        n_outcomes = self.n_outcomes * right.n_outcomes\n",
    "        prior_prob = np.zeros(n_outcomes,dtype='float')\n",
    "        t = []\n",
    "        for x in self.alphabet:\n",
    "            for y in right.alphabet:\n",
    "                t.append(list(x)+list(y))\n",
    "        for x in t:\n",
    "            alphabet.append(tuple(x))\n",
    "        \n",
    "        ind = 0\n",
    "        for x in self.prior_prob:\n",
    "            for y in right.prior_prob:\n",
    "                prior_prob[ind] = x*y\n",
    "                ind +=1\n",
    "        \n",
    "        return PExp(alphabet=alphabet,prior_prob=prior_prob)\n",
    "    \n"
   ]
  },
  {
   "cell_type": "code",
   "execution_count": 3,
   "metadata": {
    "collapsed": false
   },
   "outputs": [
    {
     "name": "stdout",
     "output_type": "stream",
     "text": [
      "----------------------------------------------------------------------------------------------------\n",
      "Population: None\n",
      "Alphabet: [('1',), ('2',), ('3',), ('4',), ('5',), ('6',)]\n",
      "Prior_prob: [ 0.16666667  0.16666667  0.16666667  0.16666667  0.16666667  0.16666667]\n",
      "N_outcomes: 6\n",
      "N_trials: 6000\n",
      "Post_prob: [ 0.  0.  0.  0.  0.  0.]\n",
      "Exp_dict:\n",
      "{('1',): {'post_prob': 0.0, 'prior_prob': 0.16666666666666666},\n",
      " ('2',): {'post_prob': 0.0, 'prior_prob': 0.16666666666666666},\n",
      " ('3',): {'post_prob': 0.0, 'prior_prob': 0.16666666666666666},\n",
      " ('4',): {'post_prob': 0.0, 'prior_prob': 0.16666666666666666},\n",
      " ('5',): {'post_prob': 0.0, 'prior_prob': 0.16666666666666666},\n",
      " ('6',): {'post_prob': 0.0, 'prior_prob': 0.16666666666666666}}\n",
      "\n",
      "----------------------------------------------------------------------------------------------------\n",
      "Population: None\n",
      "Alphabet: [('T',), ('C',)]\n",
      "Prior_prob: [ 0.5  0.5]\n",
      "N_outcomes: 2\n",
      "N_trials: 2000\n",
      "Post_prob: [ 0.  0.]\n",
      "Exp_dict:\n",
      "{('C',): {'post_prob': 0.0, 'prior_prob': 0.5},\n",
      " ('T',): {'post_prob': 0.0, 'prior_prob': 0.5}}\n",
      "\n",
      "----------------------------------------------------------------------------------------------------\n",
      "Population: None\n",
      "Alphabet: [('1', 'T'), ('1', 'C'), ('2', 'T'), ('2', 'C'), ('3', 'T'), ('3', 'C'), ('4', 'T'), ('4', 'C'), ('5', 'T'), ('5', 'C'), ('6', 'T'), ('6', 'C')]\n",
      "Prior_prob: [ 0.08333333  0.08333333  0.08333333  0.08333333  0.08333333  0.08333333\n",
      "  0.08333333  0.08333333  0.08333333  0.08333333  0.08333333  0.08333333]\n",
      "N_outcomes: 12\n",
      "N_trials: 12000\n",
      "Post_prob: [ 0.  0.  0.  0.  0.  0.  0.  0.  0.  0.  0.  0.]\n",
      "Exp_dict:\n",
      "{('1', 'C'): {'post_prob': 0.0, 'prior_prob': 0.083333333333333329},\n",
      " ('1', 'T'): {'post_prob': 0.0, 'prior_prob': 0.083333333333333329},\n",
      " ('2', 'C'): {'post_prob': 0.0, 'prior_prob': 0.083333333333333329},\n",
      " ('2', 'T'): {'post_prob': 0.0, 'prior_prob': 0.083333333333333329},\n",
      " ('3', 'C'): {'post_prob': 0.0, 'prior_prob': 0.083333333333333329},\n",
      " ('3', 'T'): {'post_prob': 0.0, 'prior_prob': 0.083333333333333329},\n",
      " ('4', 'C'): {'post_prob': 0.0, 'prior_prob': 0.083333333333333329},\n",
      " ('4', 'T'): {'post_prob': 0.0, 'prior_prob': 0.083333333333333329},\n",
      " ('5', 'C'): {'post_prob': 0.0, 'prior_prob': 0.083333333333333329},\n",
      " ('5', 'T'): {'post_prob': 0.0, 'prior_prob': 0.083333333333333329},\n",
      " ('6', 'C'): {'post_prob': 0.0, 'prior_prob': 0.083333333333333329},\n",
      " ('6', 'T'): {'post_prob': 0.0, 'prior_prob': 0.083333333333333329}}\n",
      "\n",
      "----------------------------------------------------------------------------------------------------\n",
      "Population: None\n",
      "Alphabet: [('1', 'T'), ('1', 'C'), ('2', 'T'), ('2', 'C'), ('3', 'T'), ('3', 'C'), ('4', 'T'), ('4', 'C'), ('5', 'T'), ('5', 'C'), ('6', 'T'), ('6', 'C')]\n",
      "Prior_prob: [ 0.08333333  0.08333333  0.08333333  0.08333333  0.08333333  0.08333333\n",
      "  0.08333333  0.08333333  0.08333333  0.08333333  0.08333333  0.08333333]\n",
      "N_outcomes: 12\n",
      "N_trials: 10000\n",
      "Post_prob: [ 0.078   0.0825  0.0815  0.087   0.0868  0.0869  0.0878  0.0794  0.0831\n",
      "  0.0817  0.0852  0.0801]\n",
      "Exp_dict:\n",
      "{('1', 'C'): {'post_prob': 0.082500000000000004,\n",
      "              'prior_prob': 0.083333333333333329},\n",
      " ('1', 'T'): {'post_prob': 0.078, 'prior_prob': 0.083333333333333329},\n",
      " ('2', 'C'): {'post_prob': 0.087000000000000022,\n",
      "              'prior_prob': 0.083333333333333329},\n",
      " ('2', 'T'): {'post_prob': 0.081499999999999989,\n",
      "              'prior_prob': 0.083333333333333329},\n",
      " ('3', 'C'): {'post_prob': 0.086900000000000033,\n",
      "              'prior_prob': 0.083333333333333329},\n",
      " ('3', 'T'): {'post_prob': 0.086799999999999988,\n",
      "              'prior_prob': 0.083333333333333329},\n",
      " ('4', 'C'): {'post_prob': 0.079400000000000026,\n",
      "              'prior_prob': 0.083333333333333329},\n",
      " ('4', 'T'): {'post_prob': 0.087799999999999989,\n",
      "              'prior_prob': 0.083333333333333329},\n",
      " ('5', 'C'): {'post_prob': 0.081699999999999995,\n",
      "              'prior_prob': 0.083333333333333329},\n",
      " ('5', 'T'): {'post_prob': 0.083099999999999952,\n",
      "              'prior_prob': 0.083333333333333329},\n",
      " ('6', 'C'): {'post_prob': 0.080099999999999949,\n",
      "              'prior_prob': 0.083333333333333329},\n",
      " ('6', 'T'): {'post_prob': 0.085200000000000053,\n",
      "              'prior_prob': 0.083333333333333329}}\n",
      "\n"
     ]
    }
   ],
   "source": [
    "exp1 = PExp(6,population=['b','b','a','c','a','b','b','c'],prior_prob=[1,1],n_trials=50000)\n",
    "exp2 = PExp(6,population={'b':4,'c':2,'a':2},prior_prob=[1,1])\n",
    "exp3 = PExp(population=[('a','R'),('a','R'),('b','B'),('b','R')])\n",
    "exp4 = PExp(6,population=[('b',),('b',),('a',),('c',),('a',),('b',),('b',),('c',)],prior_prob=[1,1])\n",
    "exp5 = PExp(prior_prob=[1,2,1])\n",
    "exp6 = PExp(prior_prob=[1,2,1],alphabet=['a','b','c'])\n",
    "exp7 = PExp(prior_prob=[1,2,1],alphabet=[('a','0'),('b','1'),('c','2')])\n",
    "exp8 = PExp(alphabet=['a','b','c'])\n",
    "exp9 = PExp(4)\n",
    "#exp1.info()\n",
    "#exp2.info()\n",
    "#exp3.info()\n",
    "#exp4.info()\n",
    "#exp5.info()\n",
    "#exp6.info()\n",
    "#exp7.info()\n",
    "#exp8.info()\n",
    "#exp9.info()\n",
    "#exp1.info()\n",
    "#exp1.make_exp()\n",
    "#exp1.info()\n",
    "\n",
    "exp1 = PExp(6)\n",
    "exp2 = PExp(alphabet=['T','C'])\n",
    "exp1.info()\n",
    "exp2.info()\n",
    "exp3 = exp1*exp2\n",
    "exp3.info()\n",
    "exp3.make_exp(10000)\n",
    "exp3.info()"
   ]
  },
  {
   "cell_type": "code",
   "execution_count": 4,
   "metadata": {
    "collapsed": false
   },
   "outputs": [
    {
     "name": "stdout",
     "output_type": "stream",
     "text": [
      "----------------------------------------------------------------------------------------------------\n",
      "Population: None\n",
      "Alphabet: [('A', 'C'), ('A', 'Q'), ('A', 'F'), ('A', 'P'), ('2', 'C'), ('2', 'Q'), ('2', 'F'), ('2', 'P'), ('3', 'C'), ('3', 'Q'), ('3', 'F'), ('3', 'P'), ('4', 'C'), ('4', 'Q'), ('4', 'F'), ('4', 'P'), ('5', 'C'), ('5', 'Q'), ('5', 'F'), ('5', 'P'), ('6', 'C'), ('6', 'Q'), ('6', 'F'), ('6', 'P'), ('7', 'C'), ('7', 'Q'), ('7', 'F'), ('7', 'P'), ('8', 'C'), ('8', 'Q'), ('8', 'F'), ('8', 'P'), ('9', 'C'), ('9', 'Q'), ('9', 'F'), ('9', 'P'), ('J', 'C'), ('J', 'Q'), ('J', 'F'), ('J', 'P'), ('Q', 'C'), ('Q', 'Q'), ('Q', 'F'), ('Q', 'P'), ('K', 'C'), ('K', 'Q'), ('K', 'F'), ('K', 'P')]\n",
      "Prior_prob: [ 0.02083333  0.02083333  0.02083333  0.02083333  0.02083333  0.02083333\n",
      "  0.02083333  0.02083333  0.02083333  0.02083333  0.02083333  0.02083333\n",
      "  0.02083333  0.02083333  0.02083333  0.02083333  0.02083333  0.02083333\n",
      "  0.02083333  0.02083333  0.02083333  0.02083333  0.02083333  0.02083333\n",
      "  0.02083333  0.02083333  0.02083333  0.02083333  0.02083333  0.02083333\n",
      "  0.02083333  0.02083333  0.02083333  0.02083333  0.02083333  0.02083333\n",
      "  0.02083333  0.02083333  0.02083333  0.02083333  0.02083333  0.02083333\n",
      "  0.02083333  0.02083333  0.02083333  0.02083333  0.02083333  0.02083333]\n",
      "N_outcomes: 48\n",
      "N_trials: 48000\n",
      "Post_prob: [ 0.  0.  0.  0.  0.  0.  0.  0.  0.  0.  0.  0.  0.  0.  0.  0.  0.  0.\n",
      "  0.  0.  0.  0.  0.  0.  0.  0.  0.  0.  0.  0.  0.  0.  0.  0.  0.  0.\n",
      "  0.  0.  0.  0.  0.  0.  0.  0.  0.  0.  0.  0.]\n",
      "Exp_dict:\n",
      "{('2', 'C'): {'post_prob': 0.0, 'prior_prob': 0.020833333333333336},\n",
      " ('2', 'F'): {'post_prob': 0.0, 'prior_prob': 0.020833333333333336},\n",
      " ('2', 'P'): {'post_prob': 0.0, 'prior_prob': 0.020833333333333336},\n",
      " ('2', 'Q'): {'post_prob': 0.0, 'prior_prob': 0.020833333333333336},\n",
      " ('3', 'C'): {'post_prob': 0.0, 'prior_prob': 0.020833333333333336},\n",
      " ('3', 'F'): {'post_prob': 0.0, 'prior_prob': 0.020833333333333336},\n",
      " ('3', 'P'): {'post_prob': 0.0, 'prior_prob': 0.020833333333333336},\n",
      " ('3', 'Q'): {'post_prob': 0.0, 'prior_prob': 0.020833333333333336},\n",
      " ('4', 'C'): {'post_prob': 0.0, 'prior_prob': 0.020833333333333336},\n",
      " ('4', 'F'): {'post_prob': 0.0, 'prior_prob': 0.020833333333333336},\n",
      " ('4', 'P'): {'post_prob': 0.0, 'prior_prob': 0.020833333333333336},\n",
      " ('4', 'Q'): {'post_prob': 0.0, 'prior_prob': 0.020833333333333336},\n",
      " ('5', 'C'): {'post_prob': 0.0, 'prior_prob': 0.020833333333333336},\n",
      " ('5', 'F'): {'post_prob': 0.0, 'prior_prob': 0.020833333333333336},\n",
      " ('5', 'P'): {'post_prob': 0.0, 'prior_prob': 0.020833333333333336},\n",
      " ('5', 'Q'): {'post_prob': 0.0, 'prior_prob': 0.020833333333333336},\n",
      " ('6', 'C'): {'post_prob': 0.0, 'prior_prob': 0.020833333333333336},\n",
      " ('6', 'F'): {'post_prob': 0.0, 'prior_prob': 0.020833333333333336},\n",
      " ('6', 'P'): {'post_prob': 0.0, 'prior_prob': 0.020833333333333336},\n",
      " ('6', 'Q'): {'post_prob': 0.0, 'prior_prob': 0.020833333333333336},\n",
      " ('7', 'C'): {'post_prob': 0.0, 'prior_prob': 0.020833333333333336},\n",
      " ('7', 'F'): {'post_prob': 0.0, 'prior_prob': 0.020833333333333336},\n",
      " ('7', 'P'): {'post_prob': 0.0, 'prior_prob': 0.020833333333333336},\n",
      " ('7', 'Q'): {'post_prob': 0.0, 'prior_prob': 0.020833333333333336},\n",
      " ('8', 'C'): {'post_prob': 0.0, 'prior_prob': 0.020833333333333336},\n",
      " ('8', 'F'): {'post_prob': 0.0, 'prior_prob': 0.020833333333333336},\n",
      " ('8', 'P'): {'post_prob': 0.0, 'prior_prob': 0.020833333333333336},\n",
      " ('8', 'Q'): {'post_prob': 0.0, 'prior_prob': 0.020833333333333336},\n",
      " ('9', 'C'): {'post_prob': 0.0, 'prior_prob': 0.020833333333333336},\n",
      " ('9', 'F'): {'post_prob': 0.0, 'prior_prob': 0.020833333333333336},\n",
      " ('9', 'P'): {'post_prob': 0.0, 'prior_prob': 0.020833333333333336},\n",
      " ('9', 'Q'): {'post_prob': 0.0, 'prior_prob': 0.020833333333333336},\n",
      " ('A', 'C'): {'post_prob': 0.0, 'prior_prob': 0.020833333333333336},\n",
      " ('A', 'F'): {'post_prob': 0.0, 'prior_prob': 0.020833333333333336},\n",
      " ('A', 'P'): {'post_prob': 0.0, 'prior_prob': 0.020833333333333336},\n",
      " ('A', 'Q'): {'post_prob': 0.0, 'prior_prob': 0.020833333333333336},\n",
      " ('J', 'C'): {'post_prob': 0.0, 'prior_prob': 0.020833333333333336},\n",
      " ('J', 'F'): {'post_prob': 0.0, 'prior_prob': 0.020833333333333336},\n",
      " ('J', 'P'): {'post_prob': 0.0, 'prior_prob': 0.020833333333333336},\n",
      " ('J', 'Q'): {'post_prob': 0.0, 'prior_prob': 0.020833333333333336},\n",
      " ('K', 'C'): {'post_prob': 0.0, 'prior_prob': 0.020833333333333336},\n",
      " ('K', 'F'): {'post_prob': 0.0, 'prior_prob': 0.020833333333333336},\n",
      " ('K', 'P'): {'post_prob': 0.0, 'prior_prob': 0.020833333333333336},\n",
      " ('K', 'Q'): {'post_prob': 0.0, 'prior_prob': 0.020833333333333336},\n",
      " ('Q', 'C'): {'post_prob': 0.0, 'prior_prob': 0.020833333333333336},\n",
      " ('Q', 'F'): {'post_prob': 0.0, 'prior_prob': 0.020833333333333336},\n",
      " ('Q', 'P'): {'post_prob': 0.0, 'prior_prob': 0.020833333333333336},\n",
      " ('Q', 'Q'): {'post_prob': 0.0, 'prior_prob': 0.020833333333333336}}\n",
      "\n"
     ]
    }
   ],
   "source": [
    "exp_carte = PExp(alphabet=['A','2','3','4','5','6','7','8','9','J','Q','K'])\n",
    "exp_semi = PExp(alphabet=['C','Q','F','P'])\n",
    "exp_cartefrancesi = exp_carte * exp_semi\n",
    "exp_cartefrancesi.info()"
   ]
  },
  {
   "cell_type": "code",
   "execution_count": null,
   "metadata": {
    "collapsed": false
   },
   "outputs": [],
   "source": []
  },
  {
   "cell_type": "code",
   "execution_count": 14,
   "metadata": {
    "collapsed": true
   },
   "outputs": [],
   "source": [
    "class Event():\n",
    "    def __init__(self,abc,exp):\n",
    "        if type(exp) != PExp:\n",
    "            raise TypeError('Exp must be a member of PExp class')\n",
    "            \n",
    "        if type(abc) != list:\n",
    "            raise TypeError('Elements must be a list')\n",
    "        \n",
    "        fle = [True]*len(exp.alphabet)\n",
    "        \n",
    "        self.exp = exp\n",
    "        \n",
    "        tabc = []\n",
    "        # Cicla su tutti gli elementi dell'evento\n",
    "        for el in abc:\n",
    "            if '*' not in el:\n",
    "                tabc.append(el)\n",
    "            else:\n",
    "                for k in range(len(el)):\n",
    "                    if el[k] != '*':\n",
    "                        for j in range(len(exp.alphabet)):\n",
    "                            if el[k] != exp.alphabet[j][k]:\n",
    "                                fle[j] = False\n",
    "                            \n",
    "                for k in range(len(fle)):\n",
    "                    if fle[k] == True:\n",
    "                        tabc.append(exp.alphabet[k])\n",
    "        \n",
    "        self.abc = []\n",
    "        for el in tabc:\n",
    "            if el in exp.alphabet:\n",
    "                self.abc.append(el)\n",
    "                        \n",
    "        self.prob = 0.0\n",
    "        for el in self.abc:\n",
    "            if el in exp.exp_dict:\n",
    "                self.prob += exp.exp_dict[el]['prior_prob']\n",
    "        \n",
    "        \n",
    "    def get_prob(self):\n",
    "        return self.prob\n",
    "        \n",
    "        \n",
    "        \n",
    "    def __neg__(self):\n",
    "        abctemp = []\n",
    "        for k in self.exp.alphabet:\n",
    "            if k not in self.abc:\n",
    "                abctemp.append(k)\n",
    "        return Event(abctemp,self.exp)\n",
    "    \n",
    "    def __add__(self,right):\n",
    "        if type(right) != Event:\n",
    "            raise TypeError('All the operands must be Event objects')\n",
    "        abctemp = list(set(self.abc + right.abc)) # Lists concatenation\n",
    "        abctemp.sort()\n",
    "        return Event(abctemp,self.exp)\n",
    "    \n",
    "    def __mul__(self,right):\n",
    "        if type(right) != Event:\n",
    "            raise TypeError('All the operands must be Event objects')\n",
    "        abctemp = []\n",
    "        for k in self.abc:\n",
    "            if k in right.abc:\n",
    "                abctemp.append(k)\n",
    "        return Event(abctemp,self.exp)\n",
    "    \n",
    "    def __or__(self,right):\n",
    "        if type(right) != Event:\n",
    "            raise TypeError('All the operands must be Event objects')\n",
    "        exptemp = PExp(alphabet=right.abc)\n",
    "        evtemp = Event(self.abc,exptemp)\n",
    "        return Event(evtemp.abc,exptemp)\n",
    "    \n",
    "    def __repr__(self):\n",
    "        return(str(self.abc)+': '+str(self.prob))\n",
    "    def __str__(self):\n",
    "        return(str(self.abc)+': '+str(self.prob))"
   ]
  },
  {
   "cell_type": "code",
   "execution_count": 15,
   "metadata": {
    "collapsed": false
   },
   "outputs": [
    {
     "name": "stdout",
     "output_type": "stream",
     "text": [
      "0.0416666666667\n",
      "[('K', 'C'), ('6', 'F')]: 0.0416666666667\n"
     ]
    },
    {
     "data": {
      "text/plain": [
       "Fraction(1, 24)"
      ]
     },
     "execution_count": 15,
     "metadata": {},
     "output_type": "execute_result"
    }
   ],
   "source": [
    "e1 = Event([('K','C'),('6','F')],exp_cartefrancesi)\n",
    "print(e1.get_prob())\n",
    "print(e1)\n",
    "Fraction(e1.get_prob()).limit_denominator(100)"
   ]
  },
  {
   "cell_type": "code",
   "execution_count": 16,
   "metadata": {
    "collapsed": false
   },
   "outputs": [
    {
     "name": "stdout",
     "output_type": "stream",
     "text": [
      "0.25\n",
      "[('A', 'C'), ('2', 'C'), ('3', 'C'), ('4', 'C'), ('5', 'C'), ('6', 'C'), ('7', 'C'), ('8', 'C'), ('9', 'C'), ('J', 'C'), ('Q', 'C'), ('K', 'C')]: 0.25\n"
     ]
    },
    {
     "data": {
      "text/plain": [
       "Fraction(1, 4)"
      ]
     },
     "execution_count": 16,
     "metadata": {},
     "output_type": "execute_result"
    }
   ],
   "source": [
    "e2 = Event([('*','C')],exp_cartefrancesi)\n",
    "print(e2.get_prob())\n",
    "print(e2)\n",
    "Fraction(e2.get_prob()).limit_denominator(100)"
   ]
  },
  {
   "cell_type": "code",
   "execution_count": 17,
   "metadata": {
    "collapsed": false
   },
   "outputs": [
    {
     "name": "stdout",
     "output_type": "stream",
     "text": [
      "0.0833333333333\n",
      "[('J', 'C'), ('J', 'Q'), ('J', 'F'), ('J', 'P')]: 0.0833333333333\n"
     ]
    },
    {
     "data": {
      "text/plain": [
       "Fraction(1, 12)"
      ]
     },
     "execution_count": 17,
     "metadata": {},
     "output_type": "execute_result"
    }
   ],
   "source": [
    "e3 = Event([('J','*')],exp_cartefrancesi)\n",
    "print(e3.get_prob())\n",
    "print(e3)\n",
    "Fraction(e3.get_prob()).limit_denominator(100)"
   ]
  },
  {
   "cell_type": "code",
   "execution_count": 18,
   "metadata": {
    "collapsed": false
   },
   "outputs": [
    {
     "name": "stdout",
     "output_type": "stream",
     "text": [
      "1.0\n",
      "[('2', 'C'), ('2', 'F'), ('2', 'P'), ('2', 'Q'), ('3', 'C'), ('3', 'F'), ('3', 'P'), ('3', 'Q'), ('4', 'C'), ('4', 'F'), ('4', 'P'), ('4', 'Q'), ('5', 'C'), ('5', 'F'), ('5', 'P'), ('5', 'Q'), ('6', 'C'), ('6', 'F'), ('6', 'P'), ('6', 'Q'), ('7', 'C'), ('7', 'F'), ('7', 'P'), ('7', 'Q'), ('8', 'C'), ('8', 'F'), ('8', 'P'), ('8', 'Q'), ('9', 'C'), ('9', 'F'), ('9', 'P'), ('9', 'Q'), ('A', 'C'), ('A', 'F'), ('A', 'P'), ('A', 'Q'), ('J', 'C'), ('J', 'F'), ('J', 'P'), ('J', 'Q'), ('K', 'C'), ('K', 'F'), ('K', 'P'), ('K', 'Q'), ('Q', 'C'), ('Q', 'F'), ('Q', 'P'), ('Q', 'Q')]: 1.0\n"
     ]
    }
   ],
   "source": [
    "print((-e3).get_prob() + e3.get_prob())\n",
    "print(e3 + (-e3))"
   ]
  },
  {
   "cell_type": "code",
   "execution_count": 19,
   "metadata": {
    "collapsed": false
   },
   "outputs": [
    {
     "data": {
      "text/plain": [
       "[('J', 'C')]: 0.0833333333333"
      ]
     },
     "execution_count": 19,
     "metadata": {},
     "output_type": "execute_result"
    }
   ],
   "source": [
    "e3|e2"
   ]
  },
  {
   "cell_type": "code",
   "execution_count": 20,
   "metadata": {
    "collapsed": false
   },
   "outputs": [
    {
     "data": {
      "text/plain": [
       "Fraction(1, 12)"
      ]
     },
     "execution_count": 20,
     "metadata": {},
     "output_type": "execute_result"
    }
   ],
   "source": [
    "Fraction(0.0833333333333).limit_denominator(100)"
   ]
  },
  {
   "cell_type": "code",
   "execution_count": 12,
   "metadata": {
    "collapsed": false
   },
   "outputs": [
    {
     "name": "stdout",
     "output_type": "stream",
     "text": [
      "----------------------------------------------------------------------------------------------------\n",
      "Population: None\n",
      "Alphabet: [('A', 'C'), ('2', 'C'), ('3', 'C'), ('4', 'C'), ('5', 'C'), ('6', 'C'), ('7', 'C'), ('8', 'C'), ('9', 'C'), ('J', 'C'), ('Q', 'C'), ('K', 'C')]\n",
      "Prior_prob: [ 0.08333333  0.08333333  0.08333333  0.08333333  0.08333333  0.08333333\n",
      "  0.08333333  0.08333333  0.08333333  0.08333333  0.08333333  0.08333333]\n",
      "N_outcomes: 12\n",
      "N_trials: 12000\n",
      "Post_prob: [ 0.  0.  0.  0.  0.  0.  0.  0.  0.  0.  0.  0.]\n",
      "Exp_dict:\n",
      "{('2', 'C'): {'post_prob': 0.0, 'prior_prob': 0.083333333333333329},\n",
      " ('3', 'C'): {'post_prob': 0.0, 'prior_prob': 0.083333333333333329},\n",
      " ('4', 'C'): {'post_prob': 0.0, 'prior_prob': 0.083333333333333329},\n",
      " ('5', 'C'): {'post_prob': 0.0, 'prior_prob': 0.083333333333333329},\n",
      " ('6', 'C'): {'post_prob': 0.0, 'prior_prob': 0.083333333333333329},\n",
      " ('7', 'C'): {'post_prob': 0.0, 'prior_prob': 0.083333333333333329},\n",
      " ('8', 'C'): {'post_prob': 0.0, 'prior_prob': 0.083333333333333329},\n",
      " ('9', 'C'): {'post_prob': 0.0, 'prior_prob': 0.083333333333333329},\n",
      " ('A', 'C'): {'post_prob': 0.0, 'prior_prob': 0.083333333333333329},\n",
      " ('J', 'C'): {'post_prob': 0.0, 'prior_prob': 0.083333333333333329},\n",
      " ('K', 'C'): {'post_prob': 0.0, 'prior_prob': 0.083333333333333329},\n",
      " ('Q', 'C'): {'post_prob': 0.0, 'prior_prob': 0.083333333333333329}}\n",
      "\n",
      "[('J', 'C'), ('J', 'Q'), ('J', 'F'), ('J', 'P')]\n"
     ]
    },
    {
     "data": {
      "text/plain": [
       "[('J', 'C')]"
      ]
     },
     "execution_count": 12,
     "metadata": {},
     "output_type": "execute_result"
    }
   ],
   "source": [
    "exptemp = PExp(alphabet=e2.abc)\n",
    "exptemp.info()\n",
    "evtemp = Event(e3.abc,exptemp)\n",
    "print(e3.abc)\n",
    "evtemp.abc\n",
    "#evtemp.prob"
   ]
  },
  {
   "cell_type": "code",
   "execution_count": null,
   "metadata": {
    "collapsed": false
   },
   "outputs": [],
   "source": []
  },
  {
   "cell_type": "code",
   "execution_count": null,
   "metadata": {
    "collapsed": false
   },
   "outputs": [],
   "source": []
  },
  {
   "cell_type": "code",
   "execution_count": null,
   "metadata": {
    "collapsed": true
   },
   "outputs": [],
   "source": []
  }
 ],
 "metadata": {
  "kernelspec": {
   "display_name": "Python [default]",
   "language": "python",
   "name": "python3"
  },
  "language_info": {
   "codemirror_mode": {
    "name": "ipython",
    "version": 3
   },
   "file_extension": ".py",
   "mimetype": "text/x-python",
   "name": "python",
   "nbconvert_exporter": "python",
   "pygments_lexer": "ipython3",
   "version": "3.5.2"
  }
 },
 "nbformat": 4,
 "nbformat_minor": 2
}
