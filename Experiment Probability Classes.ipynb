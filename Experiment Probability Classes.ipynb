{
 "cells": [
  {
   "cell_type": "code",
   "execution_count": 1,
   "metadata": {
    "collapsed": true
   },
   "outputs": [],
   "source": [
    "import numpy as np\n",
    "import pprint"
   ]
  },
  {
   "cell_type": "code",
   "execution_count": 2,
   "metadata": {
    "collapsed": false
   },
   "outputs": [],
   "source": [
    "class PSimpleExp():\n",
    "    def __init__(self,n_outcomes,alphabet=None,prior_prob=None,n_trials=None):\n",
    "        # Type control for alphabet: list or numpy array\n",
    "        if alphabet is not None:\n",
    "            if type(alphabet) == list:\n",
    "                self.alphabet = alphabet\n",
    "            elif isinstance(alphabet,np.ndarray):\n",
    "                self.alphabet = list(alphabet)\n",
    "            else:\n",
    "                raise TypeError('Alphabet must be a list or numpy array')\n",
    "            # If alphabet is not null, it overrides n_outcomes\n",
    "            self.n_outcomes = len(alphabet)\n",
    "            # Alphabet items must be string\n",
    "            self.alphabet = [str(c) for c in self.alphabet]\n",
    "        else:\n",
    "            # If alphabet is null, n_outcomes is given by the input variable\n",
    "            # and alphabet is a list of characters given by the int sequence\n",
    "            if (type(n_outcomes) == int) and (n_outcomes>1):\n",
    "                self.n_outcomes = n_outcomes\n",
    "                self.alphabet = [str(i+1) for i in range(self.n_outcomes)]\n",
    "            else:\n",
    "                raise TypeError('n_outcomes must be a positive integer greater than 1')\n",
    "                \n",
    "        # Type control for prior_prob: list or numpy array\n",
    "        if prior_prob is not None:\n",
    "            if type(prior_prob) == list:\n",
    "                self.prior_prob = np.array(prior_prob,dtype='float')\n",
    "            elif isinstance(alphabet,np.ndarray):\n",
    "                self.prior_prob = prior_prob\n",
    "            else:\n",
    "                raise TypeError('prior_prob must be a list or numpy array')\n",
    "            # prior_prob is normalized\n",
    "            self.prior_prob /= np.sum(self.prior_prob)\n",
    "        # If prior_prob is null, a uniform distribution is set\n",
    "        else:\n",
    "            self.prior_prob = np.ones(self.n_outcomes)/self.n_outcomes\n",
    "            \n",
    "        # If prior_prob and alphabet have different lengths, alphabet and n_outcomes are accordingly adapted\n",
    "        if len(self.prior_prob) != len(self.alphabet):\n",
    "            atemp = self.alphabet.copy()\n",
    "            if len(self.prior_prob) < len(self.alphabet):\n",
    "                self.alphabet = None\n",
    "                self.alphabet = atemp[0:len(self.prior_prob)]\n",
    "            else:\n",
    "                alphabet_set = set(atemp)\n",
    "                ctemp = 1\n",
    "                while len(self.alphabet) < len(self.prior_prob):\n",
    "                    ctempstr = str(ctemp)\n",
    "                    if ctempstr not in alphabet_set:\n",
    "                        self.alphabet.append(ctempstr)\n",
    "                    ctemp += 1\n",
    "            self.n_outcomes = len(self.prior_prob)\n",
    "        \n",
    "        # Setting n_trials\n",
    "        if n_trials is not None:\n",
    "            if (type(n_trials) is not int) or (n_trials <= 0):\n",
    "                raise TypeError('n_trials must be a positive integer')\n",
    "            self.n_trials = n_trials\n",
    "        else:\n",
    "            self.n_trials = self.n_outcomes * 10000\n",
    "            \n",
    "        # exp will contain the samples of the experiment -> make_exp\n",
    "        self.exp = np.zeros(self.n_trials)\n",
    "        # post_prob will contain the estimated probabilities from the experiment -> make_exp\n",
    "        self.post_prob = np.zeros(self.n_outcomes)\n",
    "        \n",
    "        self.prob_dict = {}\n",
    "        for k in range(self.n_outcomes):\n",
    "            self.prob_dict[self.alphabet[k]] = [self.prior_prob[k],None]\n",
    "    \n",
    "    def make_exp(self):\n",
    "        unif = np.random.uniform(size=self.n_trials)\n",
    "        csp = np.cumsum(self.prior_prob)\n",
    "        unif = np.random.uniform(size=e.n_trials)\n",
    "        csp = np.cumsum(self.prior_prob)\n",
    "        p0=0.0\n",
    "        for k in range(self.n_outcomes):\n",
    "            self.post_prob[k] = np.sum(csp[k] > unif)/self.n_trials - p0\n",
    "            p0 += self.post_prob[k]\n",
    "            self.prob_dict[self.alphabet[k]][1] = self.post_prob[k]\n",
    "    \n",
    "    def event_probability(self,ev):\n",
    "        p0 = 0.0\n",
    "        p1 = 0.0\n",
    "        for k in ev.abc:\n",
    "            if k not in self.alphabet:\n",
    "                raise ValueError('Event abc must be a subset of the experiment alphabet')\n",
    "            p0 += self.prob_dict[k][0]\n",
    "            p1 += self.prob_dict[k][1]\n",
    "        return p0, p1"
   ]
  },
  {
   "cell_type": "code",
   "execution_count": 3,
   "metadata": {
    "collapsed": false
   },
   "outputs": [
    {
     "name": "stdout",
     "output_type": "stream",
     "text": [
      "6\n",
      "['1', '2', '3', '4', '5', '6']\n",
      "[ 0.14285714  0.14285714  0.28571429  0.14285714  0.14285714  0.14285714] 1.0\n",
      "10000\n",
      "{'1': [0.14285714285714285, None],\n",
      " '2': [0.14285714285714285, None],\n",
      " '3': [0.2857142857142857, None],\n",
      " '4': [0.14285714285714285, None],\n",
      " '5': [0.14285714285714285, None],\n",
      " '6': [0.14285714285714285, None]}\n"
     ]
    }
   ],
   "source": [
    "e = PSimpleExp(6,prior_prob=[1,1,2,1,1,1],n_trials=10000)\n",
    "print(e.n_outcomes)\n",
    "print(e.alphabet)\n",
    "print(e.prior_prob,np.sum(e.prior_prob))\n",
    "print(e.n_trials)\n",
    "pprint.pprint(e.prob_dict)"
   ]
  },
  {
   "cell_type": "code",
   "execution_count": 4,
   "metadata": {
    "collapsed": false
   },
   "outputs": [
    {
     "name": "stdout",
     "output_type": "stream",
     "text": [
      "{'1': [0.14285714285714285, 0.1464],\n",
      " '2': [0.14285714285714285, 0.1419],\n",
      " '3': [0.2857142857142857, 0.28320000000000001],\n",
      " '4': [0.14285714285714285, 0.1462],\n",
      " '5': [0.14285714285714285, 0.13639999999999997],\n",
      " '6': [0.14285714285714285, 0.14590000000000003]}\n"
     ]
    }
   ],
   "source": [
    "e.make_exp()\n",
    "pprint.pprint(e.prob_dict)"
   ]
  },
  {
   "cell_type": "code",
   "execution_count": 15,
   "metadata": {
    "collapsed": false
   },
   "outputs": [],
   "source": [
    "class Event():\n",
    "    def __init__(self,abc,alphabet):\n",
    "        if (type(alphabet) != list) and (not isinstance(alphabet,np.ndarray)):\n",
    "            raise TypeError('Alphabet must be a list or numpy array of strings')\n",
    "        else:\n",
    "            self.alphabet = [str(c) for c in alphabet]\n",
    "        if (type(abc) != list) and (not isinstance(abc,np.ndarray)):\n",
    "            raise TypeError('abc must be a list or numpy array of strings')\n",
    "        else:\n",
    "            self.abc = [str(c) for c in abc]\n",
    "        for c in self.abc:\n",
    "            if c not in self.alphabet:\n",
    "                raise ValueError('abc must be a subset of alphabet')\n",
    "        \n",
    "    def __neg__(self):\n",
    "        abctemp = []\n",
    "        for k in self.alphabet:\n",
    "            if k not in self.abc:\n",
    "                abctemp.append(k)\n",
    "        return Event(abctemp,self.alphabet)\n",
    "    \n",
    "    def __add__(self,right):\n",
    "        if type(right) != Event:\n",
    "            raise TypeError('All the operands must be Event objects')\n",
    "        abctemp = list(set(self.abc + right.abc)) # Lists concatenation\n",
    "        abctemp.sort()\n",
    "        return Event(abctemp,self.alphabet)\n",
    "    \n",
    "    def __mul__(self,right):\n",
    "        if type(right) != Event:\n",
    "            raise TypeError('All the operands must be Event objects')\n",
    "        abctemp = []\n",
    "        for k in self.abc:\n",
    "            if k in right.abc:\n",
    "                abctemp.append(k)\n",
    "        return Event(abctemp,self.alphabet)\n",
    "    \n",
    "    def __repr__(self):\n",
    "        return(str(self.abc))\n",
    "    def __str__(self):\n",
    "        return(str(self.abc))"
   ]
  },
  {
   "cell_type": "code",
   "execution_count": 17,
   "metadata": {
    "collapsed": false
   },
   "outputs": [
    {
     "name": "stdout",
     "output_type": "stream",
     "text": [
      "event1: ['1', '2']\n",
      "event1 reference alphabet: ['1', '2', '3', '4', '5', '6']\n",
      "NOT event1: ['3', '4', '5', '6']\n",
      "event2: ['1', '3']\n",
      "event1 OR event2: ['1', '2', '3']\n",
      "event1 AND event2: ['1']\n",
      "NOT emptyevent: ['1', '2', '3', '4', '5', '6']\n",
      "event2 AND emptyevent: []\n"
     ]
    }
   ],
   "source": [
    "type(e.alphabet) != list\n",
    "event1 = Event(['1','2'],e.alphabet)\n",
    "print('event1: ' + str(event1))\n",
    "print('event1 reference alphabet: ' + str(event1.alphabet))\n",
    "print('NOT event1: ' + str(-event1))\n",
    "\n",
    "event2 = Event(['1','3'],e.alphabet)\n",
    "print('event2: ' + str(event2))\n",
    "#print(event2.alphabet)\n",
    "print('event1 OR event2: ' + str(event1+event2))\n",
    "print('event1 AND event2: ' + str(event1*event2))\n",
    "\n",
    "emptyevent = Event([],e.alphabet)\n",
    "print('NOT emptyevent: ' + str(-emptyevent))\n",
    "\n",
    "print('event2 AND emptyevent: ' + str(event2*emptyevent))"
   ]
  },
  {
   "cell_type": "code",
   "execution_count": 13,
   "metadata": {
    "collapsed": false
   },
   "outputs": [
    {
     "data": {
      "text/plain": [
       "(0.14285714285714285, 0.1464)"
      ]
     },
     "execution_count": 13,
     "metadata": {},
     "output_type": "execute_result"
    }
   ],
   "source": [
    "e.event_probability(event1*event2)"
   ]
  },
  {
   "cell_type": "code",
   "execution_count": 8,
   "metadata": {
    "collapsed": false
   },
   "outputs": [
    {
     "data": {
      "text/plain": [
       "(0.5714285714285714, 0.57150000000000001)"
      ]
     },
     "execution_count": 8,
     "metadata": {},
     "output_type": "execute_result"
    }
   ],
   "source": [
    "e.event_probability(event1+event2)"
   ]
  },
  {
   "cell_type": "code",
   "execution_count": 9,
   "metadata": {
    "collapsed": false
   },
   "outputs": [
    {
     "data": {
      "text/plain": [
       "0.5714285714285714"
      ]
     },
     "execution_count": 9,
     "metadata": {},
     "output_type": "execute_result"
    }
   ],
   "source": [
    "np.sum(e.prior_prob[:3])"
   ]
  },
  {
   "cell_type": "code",
   "execution_count": 10,
   "metadata": {
    "collapsed": false
   },
   "outputs": [
    {
     "data": {
      "text/plain": [
       "0.57150000000000001"
      ]
     },
     "execution_count": 10,
     "metadata": {},
     "output_type": "execute_result"
    }
   ],
   "source": [
    "np.sum(e.post_prob[:3])"
   ]
  },
  {
   "cell_type": "code",
   "execution_count": 72,
   "metadata": {
    "collapsed": false
   },
   "outputs": [],
   "source": [
    "class PComposedExp(PSimpleExp):\n",
    "    def __init__(self,explist,n_trials=None):\n",
    "        PSimpleExp.__init__(self,2)\n",
    "        if type(explist) != list:\n",
    "            raise TypeError('Argument must be a list of experiments')\n",
    "        for e in explist:\n",
    "            if (type(e) != PSimpleExp) and (type(e) != PComposedExp):\n",
    "                raise TypeError('Argument must be a list of experiments')\n",
    "        \n",
    "        # Alphabet is the Cartesian Product of the single experiments\n",
    "        self.n_outcomes = 1\n",
    "        for exp in explist:\n",
    "            self.n_outcomes *= exp.n_outcomes\n",
    "        self.alphabet = []\n",
    "        for exp in range(self.n_outcomes):\n",
    "            self.alphabet.append([])\n",
    "        \n",
    "        # Cartesian product\n",
    "        temp_outc = 1\n",
    "        for e in explist:\n",
    "            temp_outc *= e.n_outcomes # 2, 6, 24\n",
    "            n_outc = int(self.n_outcomes/temp_outc) # 12, 4, 1\n",
    "            n_rep = int(self.n_outcomes/(n_outc*e.n_outcomes)) # 1, 2, 6\n",
    "            indc = 0\n",
    "            for j in range(n_rep):\n",
    "                for s in e.alphabet:\n",
    "                    for k in range(n_outc):\n",
    "                        self.alphabet[indc].append(s)\n",
    "                        indc +=1\n",
    "                        \n",
    "        # Setting prior_prob\n",
    "        self.prior_prob = np.ones(self.n_outcomes)\n",
    "        for a in self.alphabet:\n",
    "            for p in range(len(a)):\n",
    "                "
   ]
  },
  {
   "cell_type": "code",
   "execution_count": 73,
   "metadata": {
    "collapsed": false
   },
   "outputs": [
    {
     "data": {
      "text/plain": [
       "[['M', 'p', '1'],\n",
       " ['M', 'p', '2'],\n",
       " ['M', 'p', '3'],\n",
       " ['M', 'p', '4'],\n",
       " ['M', 'q', '1'],\n",
       " ['M', 'q', '2'],\n",
       " ['M', 'q', '3'],\n",
       " ['M', 'q', '4'],\n",
       " ['M', 'r', '1'],\n",
       " ['M', 'r', '2'],\n",
       " ['M', 'r', '3'],\n",
       " ['M', 'r', '4'],\n",
       " ['F', 'p', '1'],\n",
       " ['F', 'p', '2'],\n",
       " ['F', 'p', '3'],\n",
       " ['F', 'p', '4'],\n",
       " ['F', 'q', '1'],\n",
       " ['F', 'q', '2'],\n",
       " ['F', 'q', '3'],\n",
       " ['F', 'q', '4'],\n",
       " ['F', 'r', '1'],\n",
       " ['F', 'r', '2'],\n",
       " ['F', 'r', '3'],\n",
       " ['F', 'r', '4']]"
      ]
     },
     "execution_count": 73,
     "metadata": {},
     "output_type": "execute_result"
    }
   ],
   "source": [
    "exp1 = PSimpleExp(2,alphabet=['M','F'])\n",
    "exp2 = PSimpleExp(3,alphabet=['p','q','r'])\n",
    "exp3 = PSimpleExp(4)\n",
    "compexp = PComposedExp([exp1,exp2,exp3])\n",
    "compexp.alphabet"
   ]
  },
  {
   "cell_type": "code",
   "execution_count": null,
   "metadata": {
    "collapsed": false
   },
   "outputs": [],
   "source": []
  },
  {
   "cell_type": "code",
   "execution_count": null,
   "metadata": {
    "collapsed": true
   },
   "outputs": [],
   "source": []
  }
 ],
 "metadata": {
  "kernelspec": {
   "display_name": "Python [default]",
   "language": "python",
   "name": "python3"
  },
  "language_info": {
   "codemirror_mode": {
    "name": "ipython",
    "version": 3
   },
   "file_extension": ".py",
   "mimetype": "text/x-python",
   "name": "python",
   "nbconvert_exporter": "python",
   "pygments_lexer": "ipython3",
   "version": "3.5.2"
  }
 },
 "nbformat": 4,
 "nbformat_minor": 2
}
